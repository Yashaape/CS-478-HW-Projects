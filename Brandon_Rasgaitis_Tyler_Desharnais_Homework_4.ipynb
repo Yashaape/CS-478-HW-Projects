{
  "nbformat": 4,
  "nbformat_minor": 0,
  "metadata": {
    "colab": {
      "provenance": []
    },
    "kernelspec": {
      "name": "python3",
      "display_name": "Python 3"
    },
    "language_info": {
      "name": "python"
    },
    "accelerator": "GPU",
    "gpuClass": "standard"
  },
  "cells": [
    {
      "cell_type": "markdown",
      "source": [
        "Load Dependencies "
      ],
      "metadata": {
        "id": "cYZ3sucEtaxf"
      }
    },
    {
      "cell_type": "code",
      "source": [
        "import nltk\n",
        "nltk.download('punkt')\n",
        "nltk.download('stopwords')\n",
        "nltk.download('wordnet')\n",
        "nltk.download('averaged_perceptron_tagger')\n",
        "nltk.download('maxent_ne_chunker')"
      ],
      "metadata": {
        "colab": {
          "base_uri": "https://localhost:8080/"
        },
        "id": "kx_BHHVE5fz4",
        "outputId": "14002c74-6d90-4f05-ce36-d1f45c9880f8"
      },
      "execution_count": 1,
      "outputs": [
        {
          "output_type": "stream",
          "name": "stderr",
          "text": [
            "[nltk_data] Downloading package punkt to /root/nltk_data...\n",
            "[nltk_data]   Unzipping tokenizers/punkt.zip.\n",
            "[nltk_data] Downloading package stopwords to /root/nltk_data...\n",
            "[nltk_data]   Unzipping corpora/stopwords.zip.\n",
            "[nltk_data] Downloading package wordnet to /root/nltk_data...\n",
            "[nltk_data] Downloading package averaged_perceptron_tagger to\n",
            "[nltk_data]     /root/nltk_data...\n",
            "[nltk_data]   Unzipping taggers/averaged_perceptron_tagger.zip.\n",
            "[nltk_data] Downloading package maxent_ne_chunker to\n",
            "[nltk_data]     /root/nltk_data...\n",
            "[nltk_data]   Unzipping chunkers/maxent_ne_chunker.zip.\n"
          ]
        },
        {
          "output_type": "execute_result",
          "data": {
            "text/plain": [
              "True"
            ]
          },
          "metadata": {},
          "execution_count": 1
        }
      ]
    },
    {
      "cell_type": "code",
      "execution_count": 2,
      "metadata": {
        "id": "a8T2CKUps7b6",
        "colab": {
          "base_uri": "https://localhost:8080/",
          "height": 206
        },
        "outputId": "193d541d-ff5b-4ec2-bceb-d1cbce27a980"
      },
      "outputs": [
        {
          "output_type": "execute_result",
          "data": {
            "text/plain": [
              "  class                                            message Unnamed: 2  \\\n",
              "0   ham  Go until jurong point, crazy.. Available only ...        NaN   \n",
              "1   ham                      Ok lar... Joking wif u oni...        NaN   \n",
              "2  spam  Free entry in 2 a wkly comp to win FA Cup fina...        NaN   \n",
              "3   ham  U dun say so early hor... U c already then say...        NaN   \n",
              "4   ham  Nah I don't think he goes to usf, he lives aro...        NaN   \n",
              "\n",
              "  Unnamed: 3 Unnamed: 4  \n",
              "0        NaN        NaN  \n",
              "1        NaN        NaN  \n",
              "2        NaN        NaN  \n",
              "3        NaN        NaN  \n",
              "4        NaN        NaN  "
            ],
            "text/html": [
              "\n",
              "  <div id=\"df-dbb13a93-d3f5-4b40-badf-1f584183bc30\">\n",
              "    <div class=\"colab-df-container\">\n",
              "      <div>\n",
              "<style scoped>\n",
              "    .dataframe tbody tr th:only-of-type {\n",
              "        vertical-align: middle;\n",
              "    }\n",
              "\n",
              "    .dataframe tbody tr th {\n",
              "        vertical-align: top;\n",
              "    }\n",
              "\n",
              "    .dataframe thead th {\n",
              "        text-align: right;\n",
              "    }\n",
              "</style>\n",
              "<table border=\"1\" class=\"dataframe\">\n",
              "  <thead>\n",
              "    <tr style=\"text-align: right;\">\n",
              "      <th></th>\n",
              "      <th>class</th>\n",
              "      <th>message</th>\n",
              "      <th>Unnamed: 2</th>\n",
              "      <th>Unnamed: 3</th>\n",
              "      <th>Unnamed: 4</th>\n",
              "    </tr>\n",
              "  </thead>\n",
              "  <tbody>\n",
              "    <tr>\n",
              "      <th>0</th>\n",
              "      <td>ham</td>\n",
              "      <td>Go until jurong point, crazy.. Available only ...</td>\n",
              "      <td>NaN</td>\n",
              "      <td>NaN</td>\n",
              "      <td>NaN</td>\n",
              "    </tr>\n",
              "    <tr>\n",
              "      <th>1</th>\n",
              "      <td>ham</td>\n",
              "      <td>Ok lar... Joking wif u oni...</td>\n",
              "      <td>NaN</td>\n",
              "      <td>NaN</td>\n",
              "      <td>NaN</td>\n",
              "    </tr>\n",
              "    <tr>\n",
              "      <th>2</th>\n",
              "      <td>spam</td>\n",
              "      <td>Free entry in 2 a wkly comp to win FA Cup fina...</td>\n",
              "      <td>NaN</td>\n",
              "      <td>NaN</td>\n",
              "      <td>NaN</td>\n",
              "    </tr>\n",
              "    <tr>\n",
              "      <th>3</th>\n",
              "      <td>ham</td>\n",
              "      <td>U dun say so early hor... U c already then say...</td>\n",
              "      <td>NaN</td>\n",
              "      <td>NaN</td>\n",
              "      <td>NaN</td>\n",
              "    </tr>\n",
              "    <tr>\n",
              "      <th>4</th>\n",
              "      <td>ham</td>\n",
              "      <td>Nah I don't think he goes to usf, he lives aro...</td>\n",
              "      <td>NaN</td>\n",
              "      <td>NaN</td>\n",
              "      <td>NaN</td>\n",
              "    </tr>\n",
              "  </tbody>\n",
              "</table>\n",
              "</div>\n",
              "      <button class=\"colab-df-convert\" onclick=\"convertToInteractive('df-dbb13a93-d3f5-4b40-badf-1f584183bc30')\"\n",
              "              title=\"Convert this dataframe to an interactive table.\"\n",
              "              style=\"display:none;\">\n",
              "        \n",
              "  <svg xmlns=\"http://www.w3.org/2000/svg\" height=\"24px\"viewBox=\"0 0 24 24\"\n",
              "       width=\"24px\">\n",
              "    <path d=\"M0 0h24v24H0V0z\" fill=\"none\"/>\n",
              "    <path d=\"M18.56 5.44l.94 2.06.94-2.06 2.06-.94-2.06-.94-.94-2.06-.94 2.06-2.06.94zm-11 1L8.5 8.5l.94-2.06 2.06-.94-2.06-.94L8.5 2.5l-.94 2.06-2.06.94zm10 10l.94 2.06.94-2.06 2.06-.94-2.06-.94-.94-2.06-.94 2.06-2.06.94z\"/><path d=\"M17.41 7.96l-1.37-1.37c-.4-.4-.92-.59-1.43-.59-.52 0-1.04.2-1.43.59L10.3 9.45l-7.72 7.72c-.78.78-.78 2.05 0 2.83L4 21.41c.39.39.9.59 1.41.59.51 0 1.02-.2 1.41-.59l7.78-7.78 2.81-2.81c.8-.78.8-2.07 0-2.86zM5.41 20L4 18.59l7.72-7.72 1.47 1.35L5.41 20z\"/>\n",
              "  </svg>\n",
              "      </button>\n",
              "      \n",
              "  <style>\n",
              "    .colab-df-container {\n",
              "      display:flex;\n",
              "      flex-wrap:wrap;\n",
              "      gap: 12px;\n",
              "    }\n",
              "\n",
              "    .colab-df-convert {\n",
              "      background-color: #E8F0FE;\n",
              "      border: none;\n",
              "      border-radius: 50%;\n",
              "      cursor: pointer;\n",
              "      display: none;\n",
              "      fill: #1967D2;\n",
              "      height: 32px;\n",
              "      padding: 0 0 0 0;\n",
              "      width: 32px;\n",
              "    }\n",
              "\n",
              "    .colab-df-convert:hover {\n",
              "      background-color: #E2EBFA;\n",
              "      box-shadow: 0px 1px 2px rgba(60, 64, 67, 0.3), 0px 1px 3px 1px rgba(60, 64, 67, 0.15);\n",
              "      fill: #174EA6;\n",
              "    }\n",
              "\n",
              "    [theme=dark] .colab-df-convert {\n",
              "      background-color: #3B4455;\n",
              "      fill: #D2E3FC;\n",
              "    }\n",
              "\n",
              "    [theme=dark] .colab-df-convert:hover {\n",
              "      background-color: #434B5C;\n",
              "      box-shadow: 0px 1px 3px 1px rgba(0, 0, 0, 0.15);\n",
              "      filter: drop-shadow(0px 1px 2px rgba(0, 0, 0, 0.3));\n",
              "      fill: #FFFFFF;\n",
              "    }\n",
              "  </style>\n",
              "\n",
              "      <script>\n",
              "        const buttonEl =\n",
              "          document.querySelector('#df-dbb13a93-d3f5-4b40-badf-1f584183bc30 button.colab-df-convert');\n",
              "        buttonEl.style.display =\n",
              "          google.colab.kernel.accessAllowed ? 'block' : 'none';\n",
              "\n",
              "        async function convertToInteractive(key) {\n",
              "          const element = document.querySelector('#df-dbb13a93-d3f5-4b40-badf-1f584183bc30');\n",
              "          const dataTable =\n",
              "            await google.colab.kernel.invokeFunction('convertToInteractive',\n",
              "                                                     [key], {});\n",
              "          if (!dataTable) return;\n",
              "\n",
              "          const docLinkHtml = 'Like what you see? Visit the ' +\n",
              "            '<a target=\"_blank\" href=https://colab.research.google.com/notebooks/data_table.ipynb>data table notebook</a>'\n",
              "            + ' to learn more about interactive tables.';\n",
              "          element.innerHTML = '';\n",
              "          dataTable['output_type'] = 'display_data';\n",
              "          await google.colab.output.renderOutput(dataTable, element);\n",
              "          const docLink = document.createElement('div');\n",
              "          docLink.innerHTML = docLinkHtml;\n",
              "          element.appendChild(docLink);\n",
              "        }\n",
              "      </script>\n",
              "    </div>\n",
              "  </div>\n",
              "  "
            ]
          },
          "metadata": {},
          "execution_count": 2
        }
      ],
      "source": [
        "import pandas as pd\n",
        "import numpy as np\n",
        "\n",
        "import pickle as pk\n",
        "\n",
        "import warnings\n",
        "warnings.filterwarnings(\"ignore\")\n",
        "\n",
        "\n",
        "from bs4 import BeautifulSoup\n",
        "import unicodedata\n",
        "import re\n",
        "\n",
        "from nltk.tokenize import word_tokenize\n",
        "from nltk.tokenize import sent_tokenize\n",
        "\n",
        "from nltk.corpus import stopwords\n",
        "from nltk.corpus import wordnet\n",
        "from nltk import pos_tag\n",
        "from nltk import ne_chunk\n",
        "\n",
        "from nltk.stem.porter import PorterStemmer\n",
        "from nltk.stem.wordnet import WordNetLemmatizer\n",
        "\n",
        "from nltk.probability import FreqDist\n",
        "import matplotlib.pyplot as plt\n",
        "from wordcloud import WordCloud\n",
        "\n",
        "\n",
        "\n",
        "df = pd.read_csv('Dataset.csv')\n",
        "df.head()"
      ]
    },
    {
      "cell_type": "code",
      "source": [
        "df = df[['class', 'message']]\n",
        "\n",
        "X_mssg = df['message'].astype(str)\n",
        "Y_label = df['class'].astype(str)\n",
        "\n",
        "df.head()"
      ],
      "metadata": {
        "id": "gItWpi1jIubj",
        "colab": {
          "base_uri": "https://localhost:8080/",
          "height": 206
        },
        "outputId": "12c2fe00-0880-423c-8a7d-95e9ea7a34b4"
      },
      "execution_count": 3,
      "outputs": [
        {
          "output_type": "execute_result",
          "data": {
            "text/plain": [
              "  class                                            message\n",
              "0   ham  Go until jurong point, crazy.. Available only ...\n",
              "1   ham                      Ok lar... Joking wif u oni...\n",
              "2  spam  Free entry in 2 a wkly comp to win FA Cup fina...\n",
              "3   ham  U dun say so early hor... U c already then say...\n",
              "4   ham  Nah I don't think he goes to usf, he lives aro..."
            ],
            "text/html": [
              "\n",
              "  <div id=\"df-978154ce-a640-4d23-b0e7-90813f444dcc\">\n",
              "    <div class=\"colab-df-container\">\n",
              "      <div>\n",
              "<style scoped>\n",
              "    .dataframe tbody tr th:only-of-type {\n",
              "        vertical-align: middle;\n",
              "    }\n",
              "\n",
              "    .dataframe tbody tr th {\n",
              "        vertical-align: top;\n",
              "    }\n",
              "\n",
              "    .dataframe thead th {\n",
              "        text-align: right;\n",
              "    }\n",
              "</style>\n",
              "<table border=\"1\" class=\"dataframe\">\n",
              "  <thead>\n",
              "    <tr style=\"text-align: right;\">\n",
              "      <th></th>\n",
              "      <th>class</th>\n",
              "      <th>message</th>\n",
              "    </tr>\n",
              "  </thead>\n",
              "  <tbody>\n",
              "    <tr>\n",
              "      <th>0</th>\n",
              "      <td>ham</td>\n",
              "      <td>Go until jurong point, crazy.. Available only ...</td>\n",
              "    </tr>\n",
              "    <tr>\n",
              "      <th>1</th>\n",
              "      <td>ham</td>\n",
              "      <td>Ok lar... Joking wif u oni...</td>\n",
              "    </tr>\n",
              "    <tr>\n",
              "      <th>2</th>\n",
              "      <td>spam</td>\n",
              "      <td>Free entry in 2 a wkly comp to win FA Cup fina...</td>\n",
              "    </tr>\n",
              "    <tr>\n",
              "      <th>3</th>\n",
              "      <td>ham</td>\n",
              "      <td>U dun say so early hor... U c already then say...</td>\n",
              "    </tr>\n",
              "    <tr>\n",
              "      <th>4</th>\n",
              "      <td>ham</td>\n",
              "      <td>Nah I don't think he goes to usf, he lives aro...</td>\n",
              "    </tr>\n",
              "  </tbody>\n",
              "</table>\n",
              "</div>\n",
              "      <button class=\"colab-df-convert\" onclick=\"convertToInteractive('df-978154ce-a640-4d23-b0e7-90813f444dcc')\"\n",
              "              title=\"Convert this dataframe to an interactive table.\"\n",
              "              style=\"display:none;\">\n",
              "        \n",
              "  <svg xmlns=\"http://www.w3.org/2000/svg\" height=\"24px\"viewBox=\"0 0 24 24\"\n",
              "       width=\"24px\">\n",
              "    <path d=\"M0 0h24v24H0V0z\" fill=\"none\"/>\n",
              "    <path d=\"M18.56 5.44l.94 2.06.94-2.06 2.06-.94-2.06-.94-.94-2.06-.94 2.06-2.06.94zm-11 1L8.5 8.5l.94-2.06 2.06-.94-2.06-.94L8.5 2.5l-.94 2.06-2.06.94zm10 10l.94 2.06.94-2.06 2.06-.94-2.06-.94-.94-2.06-.94 2.06-2.06.94z\"/><path d=\"M17.41 7.96l-1.37-1.37c-.4-.4-.92-.59-1.43-.59-.52 0-1.04.2-1.43.59L10.3 9.45l-7.72 7.72c-.78.78-.78 2.05 0 2.83L4 21.41c.39.39.9.59 1.41.59.51 0 1.02-.2 1.41-.59l7.78-7.78 2.81-2.81c.8-.78.8-2.07 0-2.86zM5.41 20L4 18.59l7.72-7.72 1.47 1.35L5.41 20z\"/>\n",
              "  </svg>\n",
              "      </button>\n",
              "      \n",
              "  <style>\n",
              "    .colab-df-container {\n",
              "      display:flex;\n",
              "      flex-wrap:wrap;\n",
              "      gap: 12px;\n",
              "    }\n",
              "\n",
              "    .colab-df-convert {\n",
              "      background-color: #E8F0FE;\n",
              "      border: none;\n",
              "      border-radius: 50%;\n",
              "      cursor: pointer;\n",
              "      display: none;\n",
              "      fill: #1967D2;\n",
              "      height: 32px;\n",
              "      padding: 0 0 0 0;\n",
              "      width: 32px;\n",
              "    }\n",
              "\n",
              "    .colab-df-convert:hover {\n",
              "      background-color: #E2EBFA;\n",
              "      box-shadow: 0px 1px 2px rgba(60, 64, 67, 0.3), 0px 1px 3px 1px rgba(60, 64, 67, 0.15);\n",
              "      fill: #174EA6;\n",
              "    }\n",
              "\n",
              "    [theme=dark] .colab-df-convert {\n",
              "      background-color: #3B4455;\n",
              "      fill: #D2E3FC;\n",
              "    }\n",
              "\n",
              "    [theme=dark] .colab-df-convert:hover {\n",
              "      background-color: #434B5C;\n",
              "      box-shadow: 0px 1px 3px 1px rgba(0, 0, 0, 0.15);\n",
              "      filter: drop-shadow(0px 1px 2px rgba(0, 0, 0, 0.3));\n",
              "      fill: #FFFFFF;\n",
              "    }\n",
              "  </style>\n",
              "\n",
              "      <script>\n",
              "        const buttonEl =\n",
              "          document.querySelector('#df-978154ce-a640-4d23-b0e7-90813f444dcc button.colab-df-convert');\n",
              "        buttonEl.style.display =\n",
              "          google.colab.kernel.accessAllowed ? 'block' : 'none';\n",
              "\n",
              "        async function convertToInteractive(key) {\n",
              "          const element = document.querySelector('#df-978154ce-a640-4d23-b0e7-90813f444dcc');\n",
              "          const dataTable =\n",
              "            await google.colab.kernel.invokeFunction('convertToInteractive',\n",
              "                                                     [key], {});\n",
              "          if (!dataTable) return;\n",
              "\n",
              "          const docLinkHtml = 'Like what you see? Visit the ' +\n",
              "            '<a target=\"_blank\" href=https://colab.research.google.com/notebooks/data_table.ipynb>data table notebook</a>'\n",
              "            + ' to learn more about interactive tables.';\n",
              "          element.innerHTML = '';\n",
              "          dataTable['output_type'] = 'display_data';\n",
              "          await google.colab.output.renderOutput(dataTable, element);\n",
              "          const docLink = document.createElement('div');\n",
              "          docLink.innerHTML = docLinkHtml;\n",
              "          element.appendChild(docLink);\n",
              "        }\n",
              "      </script>\n",
              "    </div>\n",
              "  </div>\n",
              "  "
            ]
          },
          "metadata": {},
          "execution_count": 3
        }
      ]
    },
    {
      "cell_type": "code",
      "source": [
        "X_mssg.iloc[0:5]"
      ],
      "metadata": {
        "colab": {
          "base_uri": "https://localhost:8080/"
        },
        "id": "V7ANSJV05-Hw",
        "outputId": "750d7de2-92ca-4fd9-d724-ca72946fd414"
      },
      "execution_count": 4,
      "outputs": [
        {
          "output_type": "execute_result",
          "data": {
            "text/plain": [
              "0    Go until jurong point, crazy.. Available only ...\n",
              "1                        Ok lar... Joking wif u oni...\n",
              "2    Free entry in 2 a wkly comp to win FA Cup fina...\n",
              "3    U dun say so early hor... U c already then say...\n",
              "4    Nah I don't think he goes to usf, he lives aro...\n",
              "Name: message, dtype: object"
            ]
          },
          "metadata": {},
          "execution_count": 4
        }
      ]
    },
    {
      "cell_type": "code",
      "source": [
        "Y_label.iloc[0:5]"
      ],
      "metadata": {
        "colab": {
          "base_uri": "https://localhost:8080/"
        },
        "id": "hFwghQHf60ya",
        "outputId": "4e043990-1c2a-489e-db8d-da2379a6184a"
      },
      "execution_count": 5,
      "outputs": [
        {
          "output_type": "execute_result",
          "data": {
            "text/plain": [
              "0     ham\n",
              "1     ham\n",
              "2    spam\n",
              "3     ham\n",
              "4     ham\n",
              "Name: class, dtype: object"
            ]
          },
          "metadata": {},
          "execution_count": 5
        }
      ]
    },
    {
      "cell_type": "markdown",
      "source": [
        "Converting to lowercase "
      ],
      "metadata": {
        "id": "W3toySfJ0AoA"
      }
    },
    {
      "cell_type": "code",
      "source": [
        "df['Clean_Messages'] = X_mssg.str.lower()\n",
        "df.head()"
      ],
      "metadata": {
        "colab": {
          "base_uri": "https://localhost:8080/",
          "height": 206
        },
        "id": "Wl1ydrOY7iW5",
        "outputId": "4628861f-6644-402e-db49-a068ad480ca4"
      },
      "execution_count": 6,
      "outputs": [
        {
          "output_type": "execute_result",
          "data": {
            "text/plain": [
              "  class                                            message  \\\n",
              "0   ham  Go until jurong point, crazy.. Available only ...   \n",
              "1   ham                      Ok lar... Joking wif u oni...   \n",
              "2  spam  Free entry in 2 a wkly comp to win FA Cup fina...   \n",
              "3   ham  U dun say so early hor... U c already then say...   \n",
              "4   ham  Nah I don't think he goes to usf, he lives aro...   \n",
              "\n",
              "                                      Clean_Messages  \n",
              "0  go until jurong point, crazy.. available only ...  \n",
              "1                      ok lar... joking wif u oni...  \n",
              "2  free entry in 2 a wkly comp to win fa cup fina...  \n",
              "3  u dun say so early hor... u c already then say...  \n",
              "4  nah i don't think he goes to usf, he lives aro...  "
            ],
            "text/html": [
              "\n",
              "  <div id=\"df-32841362-a9f3-4155-a87d-0a6c1b3037a5\">\n",
              "    <div class=\"colab-df-container\">\n",
              "      <div>\n",
              "<style scoped>\n",
              "    .dataframe tbody tr th:only-of-type {\n",
              "        vertical-align: middle;\n",
              "    }\n",
              "\n",
              "    .dataframe tbody tr th {\n",
              "        vertical-align: top;\n",
              "    }\n",
              "\n",
              "    .dataframe thead th {\n",
              "        text-align: right;\n",
              "    }\n",
              "</style>\n",
              "<table border=\"1\" class=\"dataframe\">\n",
              "  <thead>\n",
              "    <tr style=\"text-align: right;\">\n",
              "      <th></th>\n",
              "      <th>class</th>\n",
              "      <th>message</th>\n",
              "      <th>Clean_Messages</th>\n",
              "    </tr>\n",
              "  </thead>\n",
              "  <tbody>\n",
              "    <tr>\n",
              "      <th>0</th>\n",
              "      <td>ham</td>\n",
              "      <td>Go until jurong point, crazy.. Available only ...</td>\n",
              "      <td>go until jurong point, crazy.. available only ...</td>\n",
              "    </tr>\n",
              "    <tr>\n",
              "      <th>1</th>\n",
              "      <td>ham</td>\n",
              "      <td>Ok lar... Joking wif u oni...</td>\n",
              "      <td>ok lar... joking wif u oni...</td>\n",
              "    </tr>\n",
              "    <tr>\n",
              "      <th>2</th>\n",
              "      <td>spam</td>\n",
              "      <td>Free entry in 2 a wkly comp to win FA Cup fina...</td>\n",
              "      <td>free entry in 2 a wkly comp to win fa cup fina...</td>\n",
              "    </tr>\n",
              "    <tr>\n",
              "      <th>3</th>\n",
              "      <td>ham</td>\n",
              "      <td>U dun say so early hor... U c already then say...</td>\n",
              "      <td>u dun say so early hor... u c already then say...</td>\n",
              "    </tr>\n",
              "    <tr>\n",
              "      <th>4</th>\n",
              "      <td>ham</td>\n",
              "      <td>Nah I don't think he goes to usf, he lives aro...</td>\n",
              "      <td>nah i don't think he goes to usf, he lives aro...</td>\n",
              "    </tr>\n",
              "  </tbody>\n",
              "</table>\n",
              "</div>\n",
              "      <button class=\"colab-df-convert\" onclick=\"convertToInteractive('df-32841362-a9f3-4155-a87d-0a6c1b3037a5')\"\n",
              "              title=\"Convert this dataframe to an interactive table.\"\n",
              "              style=\"display:none;\">\n",
              "        \n",
              "  <svg xmlns=\"http://www.w3.org/2000/svg\" height=\"24px\"viewBox=\"0 0 24 24\"\n",
              "       width=\"24px\">\n",
              "    <path d=\"M0 0h24v24H0V0z\" fill=\"none\"/>\n",
              "    <path d=\"M18.56 5.44l.94 2.06.94-2.06 2.06-.94-2.06-.94-.94-2.06-.94 2.06-2.06.94zm-11 1L8.5 8.5l.94-2.06 2.06-.94-2.06-.94L8.5 2.5l-.94 2.06-2.06.94zm10 10l.94 2.06.94-2.06 2.06-.94-2.06-.94-.94-2.06-.94 2.06-2.06.94z\"/><path d=\"M17.41 7.96l-1.37-1.37c-.4-.4-.92-.59-1.43-.59-.52 0-1.04.2-1.43.59L10.3 9.45l-7.72 7.72c-.78.78-.78 2.05 0 2.83L4 21.41c.39.39.9.59 1.41.59.51 0 1.02-.2 1.41-.59l7.78-7.78 2.81-2.81c.8-.78.8-2.07 0-2.86zM5.41 20L4 18.59l7.72-7.72 1.47 1.35L5.41 20z\"/>\n",
              "  </svg>\n",
              "      </button>\n",
              "      \n",
              "  <style>\n",
              "    .colab-df-container {\n",
              "      display:flex;\n",
              "      flex-wrap:wrap;\n",
              "      gap: 12px;\n",
              "    }\n",
              "\n",
              "    .colab-df-convert {\n",
              "      background-color: #E8F0FE;\n",
              "      border: none;\n",
              "      border-radius: 50%;\n",
              "      cursor: pointer;\n",
              "      display: none;\n",
              "      fill: #1967D2;\n",
              "      height: 32px;\n",
              "      padding: 0 0 0 0;\n",
              "      width: 32px;\n",
              "    }\n",
              "\n",
              "    .colab-df-convert:hover {\n",
              "      background-color: #E2EBFA;\n",
              "      box-shadow: 0px 1px 2px rgba(60, 64, 67, 0.3), 0px 1px 3px 1px rgba(60, 64, 67, 0.15);\n",
              "      fill: #174EA6;\n",
              "    }\n",
              "\n",
              "    [theme=dark] .colab-df-convert {\n",
              "      background-color: #3B4455;\n",
              "      fill: #D2E3FC;\n",
              "    }\n",
              "\n",
              "    [theme=dark] .colab-df-convert:hover {\n",
              "      background-color: #434B5C;\n",
              "      box-shadow: 0px 1px 3px 1px rgba(0, 0, 0, 0.15);\n",
              "      filter: drop-shadow(0px 1px 2px rgba(0, 0, 0, 0.3));\n",
              "      fill: #FFFFFF;\n",
              "    }\n",
              "  </style>\n",
              "\n",
              "      <script>\n",
              "        const buttonEl =\n",
              "          document.querySelector('#df-32841362-a9f3-4155-a87d-0a6c1b3037a5 button.colab-df-convert');\n",
              "        buttonEl.style.display =\n",
              "          google.colab.kernel.accessAllowed ? 'block' : 'none';\n",
              "\n",
              "        async function convertToInteractive(key) {\n",
              "          const element = document.querySelector('#df-32841362-a9f3-4155-a87d-0a6c1b3037a5');\n",
              "          const dataTable =\n",
              "            await google.colab.kernel.invokeFunction('convertToInteractive',\n",
              "                                                     [key], {});\n",
              "          if (!dataTable) return;\n",
              "\n",
              "          const docLinkHtml = 'Like what you see? Visit the ' +\n",
              "            '<a target=\"_blank\" href=https://colab.research.google.com/notebooks/data_table.ipynb>data table notebook</a>'\n",
              "            + ' to learn more about interactive tables.';\n",
              "          element.innerHTML = '';\n",
              "          dataTable['output_type'] = 'display_data';\n",
              "          await google.colab.output.renderOutput(dataTable, element);\n",
              "          const docLink = document.createElement('div');\n",
              "          docLink.innerHTML = docLinkHtml;\n",
              "          element.appendChild(docLink);\n",
              "        }\n",
              "      </script>\n",
              "    </div>\n",
              "  </div>\n",
              "  "
            ]
          },
          "metadata": {},
          "execution_count": 6
        }
      ]
    },
    {
      "cell_type": "markdown",
      "source": [
        "Removing Punctuation \n",
        "[!”#$%&’()*+,-./:;<=>?@[]^_`{|}~]"
      ],
      "metadata": {
        "id": "lX5el1hn8Nyv"
      }
    },
    {
      "cell_type": "code",
      "source": [
        "def remove_punctuation(text):\n",
        "    '''\n",
        "    Removes all punctuation from a string, if present\n",
        "    \n",
        "    Args:\n",
        "        text (str): String to which the function is to be applied, string\n",
        "    \n",
        "    Returns:\n",
        "        Clean string without punctuations\n",
        "    '''\n",
        "    return re.sub(r'[^a-zA-Z0-9]', ' ', text)"
      ],
      "metadata": {
        "id": "pNmFyMOa9fla"
      },
      "execution_count": 7,
      "outputs": []
    },
    {
      "cell_type": "code",
      "source": [
        "df['removed_punctuation'] = df['Clean_Messages'].apply(remove_punctuation)\n",
        "df.head()"
      ],
      "metadata": {
        "colab": {
          "base_uri": "https://localhost:8080/",
          "height": 206
        },
        "id": "UshNIl0B9z6W",
        "outputId": "44c33f2c-737b-40a3-a822-eaba7a4e342b"
      },
      "execution_count": 8,
      "outputs": [
        {
          "output_type": "execute_result",
          "data": {
            "text/plain": [
              "  class                                            message  \\\n",
              "0   ham  Go until jurong point, crazy.. Available only ...   \n",
              "1   ham                      Ok lar... Joking wif u oni...   \n",
              "2  spam  Free entry in 2 a wkly comp to win FA Cup fina...   \n",
              "3   ham  U dun say so early hor... U c already then say...   \n",
              "4   ham  Nah I don't think he goes to usf, he lives aro...   \n",
              "\n",
              "                                      Clean_Messages  \\\n",
              "0  go until jurong point, crazy.. available only ...   \n",
              "1                      ok lar... joking wif u oni...   \n",
              "2  free entry in 2 a wkly comp to win fa cup fina...   \n",
              "3  u dun say so early hor... u c already then say...   \n",
              "4  nah i don't think he goes to usf, he lives aro...   \n",
              "\n",
              "                                 removed_punctuation  \n",
              "0  go until jurong point  crazy   available only ...  \n",
              "1                      ok lar    joking wif u oni     \n",
              "2  free entry in 2 a wkly comp to win fa cup fina...  \n",
              "3  u dun say so early hor    u c already then say     \n",
              "4  nah i don t think he goes to usf  he lives aro...  "
            ],
            "text/html": [
              "\n",
              "  <div id=\"df-6acbe2ae-c869-4c3f-810c-7049ea44696c\">\n",
              "    <div class=\"colab-df-container\">\n",
              "      <div>\n",
              "<style scoped>\n",
              "    .dataframe tbody tr th:only-of-type {\n",
              "        vertical-align: middle;\n",
              "    }\n",
              "\n",
              "    .dataframe tbody tr th {\n",
              "        vertical-align: top;\n",
              "    }\n",
              "\n",
              "    .dataframe thead th {\n",
              "        text-align: right;\n",
              "    }\n",
              "</style>\n",
              "<table border=\"1\" class=\"dataframe\">\n",
              "  <thead>\n",
              "    <tr style=\"text-align: right;\">\n",
              "      <th></th>\n",
              "      <th>class</th>\n",
              "      <th>message</th>\n",
              "      <th>Clean_Messages</th>\n",
              "      <th>removed_punctuation</th>\n",
              "    </tr>\n",
              "  </thead>\n",
              "  <tbody>\n",
              "    <tr>\n",
              "      <th>0</th>\n",
              "      <td>ham</td>\n",
              "      <td>Go until jurong point, crazy.. Available only ...</td>\n",
              "      <td>go until jurong point, crazy.. available only ...</td>\n",
              "      <td>go until jurong point  crazy   available only ...</td>\n",
              "    </tr>\n",
              "    <tr>\n",
              "      <th>1</th>\n",
              "      <td>ham</td>\n",
              "      <td>Ok lar... Joking wif u oni...</td>\n",
              "      <td>ok lar... joking wif u oni...</td>\n",
              "      <td>ok lar    joking wif u oni</td>\n",
              "    </tr>\n",
              "    <tr>\n",
              "      <th>2</th>\n",
              "      <td>spam</td>\n",
              "      <td>Free entry in 2 a wkly comp to win FA Cup fina...</td>\n",
              "      <td>free entry in 2 a wkly comp to win fa cup fina...</td>\n",
              "      <td>free entry in 2 a wkly comp to win fa cup fina...</td>\n",
              "    </tr>\n",
              "    <tr>\n",
              "      <th>3</th>\n",
              "      <td>ham</td>\n",
              "      <td>U dun say so early hor... U c already then say...</td>\n",
              "      <td>u dun say so early hor... u c already then say...</td>\n",
              "      <td>u dun say so early hor    u c already then say</td>\n",
              "    </tr>\n",
              "    <tr>\n",
              "      <th>4</th>\n",
              "      <td>ham</td>\n",
              "      <td>Nah I don't think he goes to usf, he lives aro...</td>\n",
              "      <td>nah i don't think he goes to usf, he lives aro...</td>\n",
              "      <td>nah i don t think he goes to usf  he lives aro...</td>\n",
              "    </tr>\n",
              "  </tbody>\n",
              "</table>\n",
              "</div>\n",
              "      <button class=\"colab-df-convert\" onclick=\"convertToInteractive('df-6acbe2ae-c869-4c3f-810c-7049ea44696c')\"\n",
              "              title=\"Convert this dataframe to an interactive table.\"\n",
              "              style=\"display:none;\">\n",
              "        \n",
              "  <svg xmlns=\"http://www.w3.org/2000/svg\" height=\"24px\"viewBox=\"0 0 24 24\"\n",
              "       width=\"24px\">\n",
              "    <path d=\"M0 0h24v24H0V0z\" fill=\"none\"/>\n",
              "    <path d=\"M18.56 5.44l.94 2.06.94-2.06 2.06-.94-2.06-.94-.94-2.06-.94 2.06-2.06.94zm-11 1L8.5 8.5l.94-2.06 2.06-.94-2.06-.94L8.5 2.5l-.94 2.06-2.06.94zm10 10l.94 2.06.94-2.06 2.06-.94-2.06-.94-.94-2.06-.94 2.06-2.06.94z\"/><path d=\"M17.41 7.96l-1.37-1.37c-.4-.4-.92-.59-1.43-.59-.52 0-1.04.2-1.43.59L10.3 9.45l-7.72 7.72c-.78.78-.78 2.05 0 2.83L4 21.41c.39.39.9.59 1.41.59.51 0 1.02-.2 1.41-.59l7.78-7.78 2.81-2.81c.8-.78.8-2.07 0-2.86zM5.41 20L4 18.59l7.72-7.72 1.47 1.35L5.41 20z\"/>\n",
              "  </svg>\n",
              "      </button>\n",
              "      \n",
              "  <style>\n",
              "    .colab-df-container {\n",
              "      display:flex;\n",
              "      flex-wrap:wrap;\n",
              "      gap: 12px;\n",
              "    }\n",
              "\n",
              "    .colab-df-convert {\n",
              "      background-color: #E8F0FE;\n",
              "      border: none;\n",
              "      border-radius: 50%;\n",
              "      cursor: pointer;\n",
              "      display: none;\n",
              "      fill: #1967D2;\n",
              "      height: 32px;\n",
              "      padding: 0 0 0 0;\n",
              "      width: 32px;\n",
              "    }\n",
              "\n",
              "    .colab-df-convert:hover {\n",
              "      background-color: #E2EBFA;\n",
              "      box-shadow: 0px 1px 2px rgba(60, 64, 67, 0.3), 0px 1px 3px 1px rgba(60, 64, 67, 0.15);\n",
              "      fill: #174EA6;\n",
              "    }\n",
              "\n",
              "    [theme=dark] .colab-df-convert {\n",
              "      background-color: #3B4455;\n",
              "      fill: #D2E3FC;\n",
              "    }\n",
              "\n",
              "    [theme=dark] .colab-df-convert:hover {\n",
              "      background-color: #434B5C;\n",
              "      box-shadow: 0px 1px 3px 1px rgba(0, 0, 0, 0.15);\n",
              "      filter: drop-shadow(0px 1px 2px rgba(0, 0, 0, 0.3));\n",
              "      fill: #FFFFFF;\n",
              "    }\n",
              "  </style>\n",
              "\n",
              "      <script>\n",
              "        const buttonEl =\n",
              "          document.querySelector('#df-6acbe2ae-c869-4c3f-810c-7049ea44696c button.colab-df-convert');\n",
              "        buttonEl.style.display =\n",
              "          google.colab.kernel.accessAllowed ? 'block' : 'none';\n",
              "\n",
              "        async function convertToInteractive(key) {\n",
              "          const element = document.querySelector('#df-6acbe2ae-c869-4c3f-810c-7049ea44696c');\n",
              "          const dataTable =\n",
              "            await google.colab.kernel.invokeFunction('convertToInteractive',\n",
              "                                                     [key], {});\n",
              "          if (!dataTable) return;\n",
              "\n",
              "          const docLinkHtml = 'Like what you see? Visit the ' +\n",
              "            '<a target=\"_blank\" href=https://colab.research.google.com/notebooks/data_table.ipynb>data table notebook</a>'\n",
              "            + ' to learn more about interactive tables.';\n",
              "          element.innerHTML = '';\n",
              "          dataTable['output_type'] = 'display_data';\n",
              "          await google.colab.output.renderOutput(dataTable, element);\n",
              "          const docLink = document.createElement('div');\n",
              "          docLink.innerHTML = docLinkHtml;\n",
              "          element.appendChild(docLink);\n",
              "        }\n",
              "      </script>\n",
              "    </div>\n",
              "  </div>\n",
              "  "
            ]
          },
          "metadata": {},
          "execution_count": 8
        }
      ]
    },
    {
      "cell_type": "markdown",
      "source": [
        "Tokenization"
      ],
      "metadata": {
        "id": "Lw2mJkDvCVqm"
      }
    },
    {
      "cell_type": "code",
      "source": [
        "#word tokenizer\n",
        "df['word_tokenized'] = df['Clean_Messages'].apply(word_tokenize)\n",
        "\n",
        "#sentence tokenizer\n",
        "df['sentence_tokenized'] = df['Clean_Messages'].apply(sent_tokenize)\n",
        "df.head()"
      ],
      "metadata": {
        "colab": {
          "base_uri": "https://localhost:8080/",
          "height": 206
        },
        "id": "2G6QPREOCXGG",
        "outputId": "a25a324a-cbf6-438f-9899-5a5642167a85"
      },
      "execution_count": 9,
      "outputs": [
        {
          "output_type": "execute_result",
          "data": {
            "text/plain": [
              "  class                                            message  \\\n",
              "0   ham  Go until jurong point, crazy.. Available only ...   \n",
              "1   ham                      Ok lar... Joking wif u oni...   \n",
              "2  spam  Free entry in 2 a wkly comp to win FA Cup fina...   \n",
              "3   ham  U dun say so early hor... U c already then say...   \n",
              "4   ham  Nah I don't think he goes to usf, he lives aro...   \n",
              "\n",
              "                                      Clean_Messages  \\\n",
              "0  go until jurong point, crazy.. available only ...   \n",
              "1                      ok lar... joking wif u oni...   \n",
              "2  free entry in 2 a wkly comp to win fa cup fina...   \n",
              "3  u dun say so early hor... u c already then say...   \n",
              "4  nah i don't think he goes to usf, he lives aro...   \n",
              "\n",
              "                                 removed_punctuation  \\\n",
              "0  go until jurong point  crazy   available only ...   \n",
              "1                      ok lar    joking wif u oni      \n",
              "2  free entry in 2 a wkly comp to win fa cup fina...   \n",
              "3  u dun say so early hor    u c already then say      \n",
              "4  nah i don t think he goes to usf  he lives aro...   \n",
              "\n",
              "                                      word_tokenized  \\\n",
              "0  [go, until, jurong, point, ,, crazy, .., avail...   \n",
              "1           [ok, lar, ..., joking, wif, u, oni, ...]   \n",
              "2  [free, entry, in, 2, a, wkly, comp, to, win, f...   \n",
              "3  [u, dun, say, so, early, hor, ..., u, c, alrea...   \n",
              "4  [nah, i, do, n't, think, he, goes, to, usf, ,,...   \n",
              "\n",
              "                                  sentence_tokenized  \n",
              "0  [go until jurong point, crazy.. available only...  \n",
              "1                    [ok lar... joking wif u oni...]  \n",
              "2  [free entry in 2 a wkly comp to win fa cup fin...  \n",
              "3  [u dun say so early hor... u c already then sa...  \n",
              "4  [nah i don't think he goes to usf, he lives ar...  "
            ],
            "text/html": [
              "\n",
              "  <div id=\"df-8432d4f9-ad0d-48ea-b013-51ebda949f41\">\n",
              "    <div class=\"colab-df-container\">\n",
              "      <div>\n",
              "<style scoped>\n",
              "    .dataframe tbody tr th:only-of-type {\n",
              "        vertical-align: middle;\n",
              "    }\n",
              "\n",
              "    .dataframe tbody tr th {\n",
              "        vertical-align: top;\n",
              "    }\n",
              "\n",
              "    .dataframe thead th {\n",
              "        text-align: right;\n",
              "    }\n",
              "</style>\n",
              "<table border=\"1\" class=\"dataframe\">\n",
              "  <thead>\n",
              "    <tr style=\"text-align: right;\">\n",
              "      <th></th>\n",
              "      <th>class</th>\n",
              "      <th>message</th>\n",
              "      <th>Clean_Messages</th>\n",
              "      <th>removed_punctuation</th>\n",
              "      <th>word_tokenized</th>\n",
              "      <th>sentence_tokenized</th>\n",
              "    </tr>\n",
              "  </thead>\n",
              "  <tbody>\n",
              "    <tr>\n",
              "      <th>0</th>\n",
              "      <td>ham</td>\n",
              "      <td>Go until jurong point, crazy.. Available only ...</td>\n",
              "      <td>go until jurong point, crazy.. available only ...</td>\n",
              "      <td>go until jurong point  crazy   available only ...</td>\n",
              "      <td>[go, until, jurong, point, ,, crazy, .., avail...</td>\n",
              "      <td>[go until jurong point, crazy.. available only...</td>\n",
              "    </tr>\n",
              "    <tr>\n",
              "      <th>1</th>\n",
              "      <td>ham</td>\n",
              "      <td>Ok lar... Joking wif u oni...</td>\n",
              "      <td>ok lar... joking wif u oni...</td>\n",
              "      <td>ok lar    joking wif u oni</td>\n",
              "      <td>[ok, lar, ..., joking, wif, u, oni, ...]</td>\n",
              "      <td>[ok lar... joking wif u oni...]</td>\n",
              "    </tr>\n",
              "    <tr>\n",
              "      <th>2</th>\n",
              "      <td>spam</td>\n",
              "      <td>Free entry in 2 a wkly comp to win FA Cup fina...</td>\n",
              "      <td>free entry in 2 a wkly comp to win fa cup fina...</td>\n",
              "      <td>free entry in 2 a wkly comp to win fa cup fina...</td>\n",
              "      <td>[free, entry, in, 2, a, wkly, comp, to, win, f...</td>\n",
              "      <td>[free entry in 2 a wkly comp to win fa cup fin...</td>\n",
              "    </tr>\n",
              "    <tr>\n",
              "      <th>3</th>\n",
              "      <td>ham</td>\n",
              "      <td>U dun say so early hor... U c already then say...</td>\n",
              "      <td>u dun say so early hor... u c already then say...</td>\n",
              "      <td>u dun say so early hor    u c already then say</td>\n",
              "      <td>[u, dun, say, so, early, hor, ..., u, c, alrea...</td>\n",
              "      <td>[u dun say so early hor... u c already then sa...</td>\n",
              "    </tr>\n",
              "    <tr>\n",
              "      <th>4</th>\n",
              "      <td>ham</td>\n",
              "      <td>Nah I don't think he goes to usf, he lives aro...</td>\n",
              "      <td>nah i don't think he goes to usf, he lives aro...</td>\n",
              "      <td>nah i don t think he goes to usf  he lives aro...</td>\n",
              "      <td>[nah, i, do, n't, think, he, goes, to, usf, ,,...</td>\n",
              "      <td>[nah i don't think he goes to usf, he lives ar...</td>\n",
              "    </tr>\n",
              "  </tbody>\n",
              "</table>\n",
              "</div>\n",
              "      <button class=\"colab-df-convert\" onclick=\"convertToInteractive('df-8432d4f9-ad0d-48ea-b013-51ebda949f41')\"\n",
              "              title=\"Convert this dataframe to an interactive table.\"\n",
              "              style=\"display:none;\">\n",
              "        \n",
              "  <svg xmlns=\"http://www.w3.org/2000/svg\" height=\"24px\"viewBox=\"0 0 24 24\"\n",
              "       width=\"24px\">\n",
              "    <path d=\"M0 0h24v24H0V0z\" fill=\"none\"/>\n",
              "    <path d=\"M18.56 5.44l.94 2.06.94-2.06 2.06-.94-2.06-.94-.94-2.06-.94 2.06-2.06.94zm-11 1L8.5 8.5l.94-2.06 2.06-.94-2.06-.94L8.5 2.5l-.94 2.06-2.06.94zm10 10l.94 2.06.94-2.06 2.06-.94-2.06-.94-.94-2.06-.94 2.06-2.06.94z\"/><path d=\"M17.41 7.96l-1.37-1.37c-.4-.4-.92-.59-1.43-.59-.52 0-1.04.2-1.43.59L10.3 9.45l-7.72 7.72c-.78.78-.78 2.05 0 2.83L4 21.41c.39.39.9.59 1.41.59.51 0 1.02-.2 1.41-.59l7.78-7.78 2.81-2.81c.8-.78.8-2.07 0-2.86zM5.41 20L4 18.59l7.72-7.72 1.47 1.35L5.41 20z\"/>\n",
              "  </svg>\n",
              "      </button>\n",
              "      \n",
              "  <style>\n",
              "    .colab-df-container {\n",
              "      display:flex;\n",
              "      flex-wrap:wrap;\n",
              "      gap: 12px;\n",
              "    }\n",
              "\n",
              "    .colab-df-convert {\n",
              "      background-color: #E8F0FE;\n",
              "      border: none;\n",
              "      border-radius: 50%;\n",
              "      cursor: pointer;\n",
              "      display: none;\n",
              "      fill: #1967D2;\n",
              "      height: 32px;\n",
              "      padding: 0 0 0 0;\n",
              "      width: 32px;\n",
              "    }\n",
              "\n",
              "    .colab-df-convert:hover {\n",
              "      background-color: #E2EBFA;\n",
              "      box-shadow: 0px 1px 2px rgba(60, 64, 67, 0.3), 0px 1px 3px 1px rgba(60, 64, 67, 0.15);\n",
              "      fill: #174EA6;\n",
              "    }\n",
              "\n",
              "    [theme=dark] .colab-df-convert {\n",
              "      background-color: #3B4455;\n",
              "      fill: #D2E3FC;\n",
              "    }\n",
              "\n",
              "    [theme=dark] .colab-df-convert:hover {\n",
              "      background-color: #434B5C;\n",
              "      box-shadow: 0px 1px 3px 1px rgba(0, 0, 0, 0.15);\n",
              "      filter: drop-shadow(0px 1px 2px rgba(0, 0, 0, 0.3));\n",
              "      fill: #FFFFFF;\n",
              "    }\n",
              "  </style>\n",
              "\n",
              "      <script>\n",
              "        const buttonEl =\n",
              "          document.querySelector('#df-8432d4f9-ad0d-48ea-b013-51ebda949f41 button.colab-df-convert');\n",
              "        buttonEl.style.display =\n",
              "          google.colab.kernel.accessAllowed ? 'block' : 'none';\n",
              "\n",
              "        async function convertToInteractive(key) {\n",
              "          const element = document.querySelector('#df-8432d4f9-ad0d-48ea-b013-51ebda949f41');\n",
              "          const dataTable =\n",
              "            await google.colab.kernel.invokeFunction('convertToInteractive',\n",
              "                                                     [key], {});\n",
              "          if (!dataTable) return;\n",
              "\n",
              "          const docLinkHtml = 'Like what you see? Visit the ' +\n",
              "            '<a target=\"_blank\" href=https://colab.research.google.com/notebooks/data_table.ipynb>data table notebook</a>'\n",
              "            + ' to learn more about interactive tables.';\n",
              "          element.innerHTML = '';\n",
              "          dataTable['output_type'] = 'display_data';\n",
              "          await google.colab.output.renderOutput(dataTable, element);\n",
              "          const docLink = document.createElement('div');\n",
              "          docLink.innerHTML = docLinkHtml;\n",
              "          element.appendChild(docLink);\n",
              "        }\n",
              "      </script>\n",
              "    </div>\n",
              "  </div>\n",
              "  "
            ]
          },
          "metadata": {},
          "execution_count": 9
        }
      ]
    },
    {
      "cell_type": "markdown",
      "source": [
        "Removing stopwords "
      ],
      "metadata": {
        "id": "2GTmoikHPjkY"
      }
    },
    {
      "cell_type": "code",
      "source": [
        "print(stopwords.words(\"english\"))"
      ],
      "metadata": {
        "colab": {
          "base_uri": "https://localhost:8080/"
        },
        "id": "60UKChTVQ9WF",
        "outputId": "6f5aec79-0189-4967-fb5a-eb32654c24bf"
      },
      "execution_count": 10,
      "outputs": [
        {
          "output_type": "stream",
          "name": "stdout",
          "text": [
            "['i', 'me', 'my', 'myself', 'we', 'our', 'ours', 'ourselves', 'you', \"you're\", \"you've\", \"you'll\", \"you'd\", 'your', 'yours', 'yourself', 'yourselves', 'he', 'him', 'his', 'himself', 'she', \"she's\", 'her', 'hers', 'herself', 'it', \"it's\", 'its', 'itself', 'they', 'them', 'their', 'theirs', 'themselves', 'what', 'which', 'who', 'whom', 'this', 'that', \"that'll\", 'these', 'those', 'am', 'is', 'are', 'was', 'were', 'be', 'been', 'being', 'have', 'has', 'had', 'having', 'do', 'does', 'did', 'doing', 'a', 'an', 'the', 'and', 'but', 'if', 'or', 'because', 'as', 'until', 'while', 'of', 'at', 'by', 'for', 'with', 'about', 'against', 'between', 'into', 'through', 'during', 'before', 'after', 'above', 'below', 'to', 'from', 'up', 'down', 'in', 'out', 'on', 'off', 'over', 'under', 'again', 'further', 'then', 'once', 'here', 'there', 'when', 'where', 'why', 'how', 'all', 'any', 'both', 'each', 'few', 'more', 'most', 'other', 'some', 'such', 'no', 'nor', 'not', 'only', 'own', 'same', 'so', 'than', 'too', 'very', 's', 't', 'can', 'will', 'just', 'don', \"don't\", 'should', \"should've\", 'now', 'd', 'll', 'm', 'o', 're', 've', 'y', 'ain', 'aren', \"aren't\", 'couldn', \"couldn't\", 'didn', \"didn't\", 'doesn', \"doesn't\", 'hadn', \"hadn't\", 'hasn', \"hasn't\", 'haven', \"haven't\", 'isn', \"isn't\", 'ma', 'mightn', \"mightn't\", 'mustn', \"mustn't\", 'needn', \"needn't\", 'shan', \"shan't\", 'shouldn', \"shouldn't\", 'wasn', \"wasn't\", 'weren', \"weren't\", 'won', \"won't\", 'wouldn', \"wouldn't\"]\n"
          ]
        }
      ]
    },
    {
      "cell_type": "code",
      "source": [
        "def remove_stopwords(text):\n",
        "    '''\n",
        "    Removes Stop Words (also capitalized) from a string, if present\n",
        "    \n",
        "    Args:\n",
        "        text (str): String to which the function is to be applied, string\n",
        "    \n",
        "    Returns:\n",
        "        Clean string without Stop Words\n",
        "    ''' \n",
        "    \n",
        "    # check in lowercase \n",
        "    t = [token for token in text if token.lower() not in stopwords.words(\"english\")]\n",
        "    text = ' '.join(t)    \n",
        "    return text"
      ],
      "metadata": {
        "id": "7ghxooNKPhJ6"
      },
      "execution_count": 11,
      "outputs": []
    },
    {
      "cell_type": "code",
      "source": [
        "\n",
        "df['Message_WO_StopWords'] = df['word_tokenized'].apply(remove_stopwords)\n",
        "df.head()"
      ],
      "metadata": {
        "colab": {
          "base_uri": "https://localhost:8080/",
          "height": 206
        },
        "id": "wWFrP8zLQH7m",
        "outputId": "134c012b-4e0b-4283-815d-3fa09586d093"
      },
      "execution_count": 12,
      "outputs": [
        {
          "output_type": "execute_result",
          "data": {
            "text/plain": [
              "  class                                            message  \\\n",
              "0   ham  Go until jurong point, crazy.. Available only ...   \n",
              "1   ham                      Ok lar... Joking wif u oni...   \n",
              "2  spam  Free entry in 2 a wkly comp to win FA Cup fina...   \n",
              "3   ham  U dun say so early hor... U c already then say...   \n",
              "4   ham  Nah I don't think he goes to usf, he lives aro...   \n",
              "\n",
              "                                      Clean_Messages  \\\n",
              "0  go until jurong point, crazy.. available only ...   \n",
              "1                      ok lar... joking wif u oni...   \n",
              "2  free entry in 2 a wkly comp to win fa cup fina...   \n",
              "3  u dun say so early hor... u c already then say...   \n",
              "4  nah i don't think he goes to usf, he lives aro...   \n",
              "\n",
              "                                 removed_punctuation  \\\n",
              "0  go until jurong point  crazy   available only ...   \n",
              "1                      ok lar    joking wif u oni      \n",
              "2  free entry in 2 a wkly comp to win fa cup fina...   \n",
              "3  u dun say so early hor    u c already then say      \n",
              "4  nah i don t think he goes to usf  he lives aro...   \n",
              "\n",
              "                                      word_tokenized  \\\n",
              "0  [go, until, jurong, point, ,, crazy, .., avail...   \n",
              "1           [ok, lar, ..., joking, wif, u, oni, ...]   \n",
              "2  [free, entry, in, 2, a, wkly, comp, to, win, f...   \n",
              "3  [u, dun, say, so, early, hor, ..., u, c, alrea...   \n",
              "4  [nah, i, do, n't, think, he, goes, to, usf, ,,...   \n",
              "\n",
              "                                  sentence_tokenized  \\\n",
              "0  [go until jurong point, crazy.. available only...   \n",
              "1                    [ok lar... joking wif u oni...]   \n",
              "2  [free entry in 2 a wkly comp to win fa cup fin...   \n",
              "3  [u dun say so early hor... u c already then sa...   \n",
              "4  [nah i don't think he goes to usf, he lives ar...   \n",
              "\n",
              "                                Message_WO_StopWords  \n",
              "0  go jurong point , crazy .. available bugis n g...  \n",
              "1                    ok lar ... joking wif u oni ...  \n",
              "2  free entry 2 wkly comp win fa cup final tkts 2...  \n",
              "3        u dun say early hor ... u c already say ...  \n",
              "4       nah n't think goes usf , lives around though  "
            ],
            "text/html": [
              "\n",
              "  <div id=\"df-a4cb4da9-5ab9-4d03-b3c5-9a07a19838b9\">\n",
              "    <div class=\"colab-df-container\">\n",
              "      <div>\n",
              "<style scoped>\n",
              "    .dataframe tbody tr th:only-of-type {\n",
              "        vertical-align: middle;\n",
              "    }\n",
              "\n",
              "    .dataframe tbody tr th {\n",
              "        vertical-align: top;\n",
              "    }\n",
              "\n",
              "    .dataframe thead th {\n",
              "        text-align: right;\n",
              "    }\n",
              "</style>\n",
              "<table border=\"1\" class=\"dataframe\">\n",
              "  <thead>\n",
              "    <tr style=\"text-align: right;\">\n",
              "      <th></th>\n",
              "      <th>class</th>\n",
              "      <th>message</th>\n",
              "      <th>Clean_Messages</th>\n",
              "      <th>removed_punctuation</th>\n",
              "      <th>word_tokenized</th>\n",
              "      <th>sentence_tokenized</th>\n",
              "      <th>Message_WO_StopWords</th>\n",
              "    </tr>\n",
              "  </thead>\n",
              "  <tbody>\n",
              "    <tr>\n",
              "      <th>0</th>\n",
              "      <td>ham</td>\n",
              "      <td>Go until jurong point, crazy.. Available only ...</td>\n",
              "      <td>go until jurong point, crazy.. available only ...</td>\n",
              "      <td>go until jurong point  crazy   available only ...</td>\n",
              "      <td>[go, until, jurong, point, ,, crazy, .., avail...</td>\n",
              "      <td>[go until jurong point, crazy.. available only...</td>\n",
              "      <td>go jurong point , crazy .. available bugis n g...</td>\n",
              "    </tr>\n",
              "    <tr>\n",
              "      <th>1</th>\n",
              "      <td>ham</td>\n",
              "      <td>Ok lar... Joking wif u oni...</td>\n",
              "      <td>ok lar... joking wif u oni...</td>\n",
              "      <td>ok lar    joking wif u oni</td>\n",
              "      <td>[ok, lar, ..., joking, wif, u, oni, ...]</td>\n",
              "      <td>[ok lar... joking wif u oni...]</td>\n",
              "      <td>ok lar ... joking wif u oni ...</td>\n",
              "    </tr>\n",
              "    <tr>\n",
              "      <th>2</th>\n",
              "      <td>spam</td>\n",
              "      <td>Free entry in 2 a wkly comp to win FA Cup fina...</td>\n",
              "      <td>free entry in 2 a wkly comp to win fa cup fina...</td>\n",
              "      <td>free entry in 2 a wkly comp to win fa cup fina...</td>\n",
              "      <td>[free, entry, in, 2, a, wkly, comp, to, win, f...</td>\n",
              "      <td>[free entry in 2 a wkly comp to win fa cup fin...</td>\n",
              "      <td>free entry 2 wkly comp win fa cup final tkts 2...</td>\n",
              "    </tr>\n",
              "    <tr>\n",
              "      <th>3</th>\n",
              "      <td>ham</td>\n",
              "      <td>U dun say so early hor... U c already then say...</td>\n",
              "      <td>u dun say so early hor... u c already then say...</td>\n",
              "      <td>u dun say so early hor    u c already then say</td>\n",
              "      <td>[u, dun, say, so, early, hor, ..., u, c, alrea...</td>\n",
              "      <td>[u dun say so early hor... u c already then sa...</td>\n",
              "      <td>u dun say early hor ... u c already say ...</td>\n",
              "    </tr>\n",
              "    <tr>\n",
              "      <th>4</th>\n",
              "      <td>ham</td>\n",
              "      <td>Nah I don't think he goes to usf, he lives aro...</td>\n",
              "      <td>nah i don't think he goes to usf, he lives aro...</td>\n",
              "      <td>nah i don t think he goes to usf  he lives aro...</td>\n",
              "      <td>[nah, i, do, n't, think, he, goes, to, usf, ,,...</td>\n",
              "      <td>[nah i don't think he goes to usf, he lives ar...</td>\n",
              "      <td>nah n't think goes usf , lives around though</td>\n",
              "    </tr>\n",
              "  </tbody>\n",
              "</table>\n",
              "</div>\n",
              "      <button class=\"colab-df-convert\" onclick=\"convertToInteractive('df-a4cb4da9-5ab9-4d03-b3c5-9a07a19838b9')\"\n",
              "              title=\"Convert this dataframe to an interactive table.\"\n",
              "              style=\"display:none;\">\n",
              "        \n",
              "  <svg xmlns=\"http://www.w3.org/2000/svg\" height=\"24px\"viewBox=\"0 0 24 24\"\n",
              "       width=\"24px\">\n",
              "    <path d=\"M0 0h24v24H0V0z\" fill=\"none\"/>\n",
              "    <path d=\"M18.56 5.44l.94 2.06.94-2.06 2.06-.94-2.06-.94-.94-2.06-.94 2.06-2.06.94zm-11 1L8.5 8.5l.94-2.06 2.06-.94-2.06-.94L8.5 2.5l-.94 2.06-2.06.94zm10 10l.94 2.06.94-2.06 2.06-.94-2.06-.94-.94-2.06-.94 2.06-2.06.94z\"/><path d=\"M17.41 7.96l-1.37-1.37c-.4-.4-.92-.59-1.43-.59-.52 0-1.04.2-1.43.59L10.3 9.45l-7.72 7.72c-.78.78-.78 2.05 0 2.83L4 21.41c.39.39.9.59 1.41.59.51 0 1.02-.2 1.41-.59l7.78-7.78 2.81-2.81c.8-.78.8-2.07 0-2.86zM5.41 20L4 18.59l7.72-7.72 1.47 1.35L5.41 20z\"/>\n",
              "  </svg>\n",
              "      </button>\n",
              "      \n",
              "  <style>\n",
              "    .colab-df-container {\n",
              "      display:flex;\n",
              "      flex-wrap:wrap;\n",
              "      gap: 12px;\n",
              "    }\n",
              "\n",
              "    .colab-df-convert {\n",
              "      background-color: #E8F0FE;\n",
              "      border: none;\n",
              "      border-radius: 50%;\n",
              "      cursor: pointer;\n",
              "      display: none;\n",
              "      fill: #1967D2;\n",
              "      height: 32px;\n",
              "      padding: 0 0 0 0;\n",
              "      width: 32px;\n",
              "    }\n",
              "\n",
              "    .colab-df-convert:hover {\n",
              "      background-color: #E2EBFA;\n",
              "      box-shadow: 0px 1px 2px rgba(60, 64, 67, 0.3), 0px 1px 3px 1px rgba(60, 64, 67, 0.15);\n",
              "      fill: #174EA6;\n",
              "    }\n",
              "\n",
              "    [theme=dark] .colab-df-convert {\n",
              "      background-color: #3B4455;\n",
              "      fill: #D2E3FC;\n",
              "    }\n",
              "\n",
              "    [theme=dark] .colab-df-convert:hover {\n",
              "      background-color: #434B5C;\n",
              "      box-shadow: 0px 1px 3px 1px rgba(0, 0, 0, 0.15);\n",
              "      filter: drop-shadow(0px 1px 2px rgba(0, 0, 0, 0.3));\n",
              "      fill: #FFFFFF;\n",
              "    }\n",
              "  </style>\n",
              "\n",
              "      <script>\n",
              "        const buttonEl =\n",
              "          document.querySelector('#df-a4cb4da9-5ab9-4d03-b3c5-9a07a19838b9 button.colab-df-convert');\n",
              "        buttonEl.style.display =\n",
              "          google.colab.kernel.accessAllowed ? 'block' : 'none';\n",
              "\n",
              "        async function convertToInteractive(key) {\n",
              "          const element = document.querySelector('#df-a4cb4da9-5ab9-4d03-b3c5-9a07a19838b9');\n",
              "          const dataTable =\n",
              "            await google.colab.kernel.invokeFunction('convertToInteractive',\n",
              "                                                     [key], {});\n",
              "          if (!dataTable) return;\n",
              "\n",
              "          const docLinkHtml = 'Like what you see? Visit the ' +\n",
              "            '<a target=\"_blank\" href=https://colab.research.google.com/notebooks/data_table.ipynb>data table notebook</a>'\n",
              "            + ' to learn more about interactive tables.';\n",
              "          element.innerHTML = '';\n",
              "          dataTable['output_type'] = 'display_data';\n",
              "          await google.colab.output.renderOutput(dataTable, element);\n",
              "          const docLink = document.createElement('div');\n",
              "          docLink.innerHTML = docLinkHtml;\n",
              "          element.appendChild(docLink);\n",
              "        }\n",
              "      </script>\n",
              "    </div>\n",
              "  </div>\n",
              "  "
            ]
          },
          "metadata": {},
          "execution_count": 12
        }
      ]
    },
    {
      "cell_type": "markdown",
      "source": [
        "Stemming"
      ],
      "metadata": {
        "id": "I5oBsyU7ZiqK"
      }
    },
    {
      "cell_type": "code",
      "source": [
        "ps = PorterStemmer()\n",
        "\n",
        "def stemming(text):\n",
        "  stem_text = [ps.stem(word) for word in text]\n",
        "  return stem_text"
      ],
      "metadata": {
        "id": "ic-_HgvbbftH"
      },
      "execution_count": 13,
      "outputs": []
    },
    {
      "cell_type": "code",
      "source": [
        "df['stemmed_message'] = df['Message_WO_StopWords'].apply(lambda x: stemming(x))\n",
        "#df['stemmed_message'].tolist()\n",
        "df.head()"
      ],
      "metadata": {
        "colab": {
          "base_uri": "https://localhost:8080/",
          "height": 206
        },
        "id": "V2ZMMRrOSNlj",
        "outputId": "6a0395bb-97a4-44ca-e669-cc6f6591ee96"
      },
      "execution_count": 14,
      "outputs": [
        {
          "output_type": "execute_result",
          "data": {
            "text/plain": [
              "  class                                            message  \\\n",
              "0   ham  Go until jurong point, crazy.. Available only ...   \n",
              "1   ham                      Ok lar... Joking wif u oni...   \n",
              "2  spam  Free entry in 2 a wkly comp to win FA Cup fina...   \n",
              "3   ham  U dun say so early hor... U c already then say...   \n",
              "4   ham  Nah I don't think he goes to usf, he lives aro...   \n",
              "\n",
              "                                      Clean_Messages  \\\n",
              "0  go until jurong point, crazy.. available only ...   \n",
              "1                      ok lar... joking wif u oni...   \n",
              "2  free entry in 2 a wkly comp to win fa cup fina...   \n",
              "3  u dun say so early hor... u c already then say...   \n",
              "4  nah i don't think he goes to usf, he lives aro...   \n",
              "\n",
              "                                 removed_punctuation  \\\n",
              "0  go until jurong point  crazy   available only ...   \n",
              "1                      ok lar    joking wif u oni      \n",
              "2  free entry in 2 a wkly comp to win fa cup fina...   \n",
              "3  u dun say so early hor    u c already then say      \n",
              "4  nah i don t think he goes to usf  he lives aro...   \n",
              "\n",
              "                                      word_tokenized  \\\n",
              "0  [go, until, jurong, point, ,, crazy, .., avail...   \n",
              "1           [ok, lar, ..., joking, wif, u, oni, ...]   \n",
              "2  [free, entry, in, 2, a, wkly, comp, to, win, f...   \n",
              "3  [u, dun, say, so, early, hor, ..., u, c, alrea...   \n",
              "4  [nah, i, do, n't, think, he, goes, to, usf, ,,...   \n",
              "\n",
              "                                  sentence_tokenized  \\\n",
              "0  [go until jurong point, crazy.. available only...   \n",
              "1                    [ok lar... joking wif u oni...]   \n",
              "2  [free entry in 2 a wkly comp to win fa cup fin...   \n",
              "3  [u dun say so early hor... u c already then sa...   \n",
              "4  [nah i don't think he goes to usf, he lives ar...   \n",
              "\n",
              "                                Message_WO_StopWords  \\\n",
              "0  go jurong point , crazy .. available bugis n g...   \n",
              "1                    ok lar ... joking wif u oni ...   \n",
              "2  free entry 2 wkly comp win fa cup final tkts 2...   \n",
              "3        u dun say early hor ... u c already say ...   \n",
              "4       nah n't think goes usf , lives around though   \n",
              "\n",
              "                                     stemmed_message  \n",
              "0  [g, o,  , j, u, r, o, n, g,  , p, o, i, n, t, ...  \n",
              "1  [o, k,  , l, a, r,  , ., ., .,  , j, o, k, i, ...  \n",
              "2  [f, r, e, e,  , e, n, t, r, y,  , 2,  , w, k, ...  \n",
              "3  [u,  , d, u, n,  , s, a, y,  , e, a, r, l, y, ...  \n",
              "4  [n, a, h,  , n, ', t,  , t, h, i, n, k,  , g, ...  "
            ],
            "text/html": [
              "\n",
              "  <div id=\"df-dba48556-bc59-4561-b083-0b0626255f34\">\n",
              "    <div class=\"colab-df-container\">\n",
              "      <div>\n",
              "<style scoped>\n",
              "    .dataframe tbody tr th:only-of-type {\n",
              "        vertical-align: middle;\n",
              "    }\n",
              "\n",
              "    .dataframe tbody tr th {\n",
              "        vertical-align: top;\n",
              "    }\n",
              "\n",
              "    .dataframe thead th {\n",
              "        text-align: right;\n",
              "    }\n",
              "</style>\n",
              "<table border=\"1\" class=\"dataframe\">\n",
              "  <thead>\n",
              "    <tr style=\"text-align: right;\">\n",
              "      <th></th>\n",
              "      <th>class</th>\n",
              "      <th>message</th>\n",
              "      <th>Clean_Messages</th>\n",
              "      <th>removed_punctuation</th>\n",
              "      <th>word_tokenized</th>\n",
              "      <th>sentence_tokenized</th>\n",
              "      <th>Message_WO_StopWords</th>\n",
              "      <th>stemmed_message</th>\n",
              "    </tr>\n",
              "  </thead>\n",
              "  <tbody>\n",
              "    <tr>\n",
              "      <th>0</th>\n",
              "      <td>ham</td>\n",
              "      <td>Go until jurong point, crazy.. Available only ...</td>\n",
              "      <td>go until jurong point, crazy.. available only ...</td>\n",
              "      <td>go until jurong point  crazy   available only ...</td>\n",
              "      <td>[go, until, jurong, point, ,, crazy, .., avail...</td>\n",
              "      <td>[go until jurong point, crazy.. available only...</td>\n",
              "      <td>go jurong point , crazy .. available bugis n g...</td>\n",
              "      <td>[g, o,  , j, u, r, o, n, g,  , p, o, i, n, t, ...</td>\n",
              "    </tr>\n",
              "    <tr>\n",
              "      <th>1</th>\n",
              "      <td>ham</td>\n",
              "      <td>Ok lar... Joking wif u oni...</td>\n",
              "      <td>ok lar... joking wif u oni...</td>\n",
              "      <td>ok lar    joking wif u oni</td>\n",
              "      <td>[ok, lar, ..., joking, wif, u, oni, ...]</td>\n",
              "      <td>[ok lar... joking wif u oni...]</td>\n",
              "      <td>ok lar ... joking wif u oni ...</td>\n",
              "      <td>[o, k,  , l, a, r,  , ., ., .,  , j, o, k, i, ...</td>\n",
              "    </tr>\n",
              "    <tr>\n",
              "      <th>2</th>\n",
              "      <td>spam</td>\n",
              "      <td>Free entry in 2 a wkly comp to win FA Cup fina...</td>\n",
              "      <td>free entry in 2 a wkly comp to win fa cup fina...</td>\n",
              "      <td>free entry in 2 a wkly comp to win fa cup fina...</td>\n",
              "      <td>[free, entry, in, 2, a, wkly, comp, to, win, f...</td>\n",
              "      <td>[free entry in 2 a wkly comp to win fa cup fin...</td>\n",
              "      <td>free entry 2 wkly comp win fa cup final tkts 2...</td>\n",
              "      <td>[f, r, e, e,  , e, n, t, r, y,  , 2,  , w, k, ...</td>\n",
              "    </tr>\n",
              "    <tr>\n",
              "      <th>3</th>\n",
              "      <td>ham</td>\n",
              "      <td>U dun say so early hor... U c already then say...</td>\n",
              "      <td>u dun say so early hor... u c already then say...</td>\n",
              "      <td>u dun say so early hor    u c already then say</td>\n",
              "      <td>[u, dun, say, so, early, hor, ..., u, c, alrea...</td>\n",
              "      <td>[u dun say so early hor... u c already then sa...</td>\n",
              "      <td>u dun say early hor ... u c already say ...</td>\n",
              "      <td>[u,  , d, u, n,  , s, a, y,  , e, a, r, l, y, ...</td>\n",
              "    </tr>\n",
              "    <tr>\n",
              "      <th>4</th>\n",
              "      <td>ham</td>\n",
              "      <td>Nah I don't think he goes to usf, he lives aro...</td>\n",
              "      <td>nah i don't think he goes to usf, he lives aro...</td>\n",
              "      <td>nah i don t think he goes to usf  he lives aro...</td>\n",
              "      <td>[nah, i, do, n't, think, he, goes, to, usf, ,,...</td>\n",
              "      <td>[nah i don't think he goes to usf, he lives ar...</td>\n",
              "      <td>nah n't think goes usf , lives around though</td>\n",
              "      <td>[n, a, h,  , n, ', t,  , t, h, i, n, k,  , g, ...</td>\n",
              "    </tr>\n",
              "  </tbody>\n",
              "</table>\n",
              "</div>\n",
              "      <button class=\"colab-df-convert\" onclick=\"convertToInteractive('df-dba48556-bc59-4561-b083-0b0626255f34')\"\n",
              "              title=\"Convert this dataframe to an interactive table.\"\n",
              "              style=\"display:none;\">\n",
              "        \n",
              "  <svg xmlns=\"http://www.w3.org/2000/svg\" height=\"24px\"viewBox=\"0 0 24 24\"\n",
              "       width=\"24px\">\n",
              "    <path d=\"M0 0h24v24H0V0z\" fill=\"none\"/>\n",
              "    <path d=\"M18.56 5.44l.94 2.06.94-2.06 2.06-.94-2.06-.94-.94-2.06-.94 2.06-2.06.94zm-11 1L8.5 8.5l.94-2.06 2.06-.94-2.06-.94L8.5 2.5l-.94 2.06-2.06.94zm10 10l.94 2.06.94-2.06 2.06-.94-2.06-.94-.94-2.06-.94 2.06-2.06.94z\"/><path d=\"M17.41 7.96l-1.37-1.37c-.4-.4-.92-.59-1.43-.59-.52 0-1.04.2-1.43.59L10.3 9.45l-7.72 7.72c-.78.78-.78 2.05 0 2.83L4 21.41c.39.39.9.59 1.41.59.51 0 1.02-.2 1.41-.59l7.78-7.78 2.81-2.81c.8-.78.8-2.07 0-2.86zM5.41 20L4 18.59l7.72-7.72 1.47 1.35L5.41 20z\"/>\n",
              "  </svg>\n",
              "      </button>\n",
              "      \n",
              "  <style>\n",
              "    .colab-df-container {\n",
              "      display:flex;\n",
              "      flex-wrap:wrap;\n",
              "      gap: 12px;\n",
              "    }\n",
              "\n",
              "    .colab-df-convert {\n",
              "      background-color: #E8F0FE;\n",
              "      border: none;\n",
              "      border-radius: 50%;\n",
              "      cursor: pointer;\n",
              "      display: none;\n",
              "      fill: #1967D2;\n",
              "      height: 32px;\n",
              "      padding: 0 0 0 0;\n",
              "      width: 32px;\n",
              "    }\n",
              "\n",
              "    .colab-df-convert:hover {\n",
              "      background-color: #E2EBFA;\n",
              "      box-shadow: 0px 1px 2px rgba(60, 64, 67, 0.3), 0px 1px 3px 1px rgba(60, 64, 67, 0.15);\n",
              "      fill: #174EA6;\n",
              "    }\n",
              "\n",
              "    [theme=dark] .colab-df-convert {\n",
              "      background-color: #3B4455;\n",
              "      fill: #D2E3FC;\n",
              "    }\n",
              "\n",
              "    [theme=dark] .colab-df-convert:hover {\n",
              "      background-color: #434B5C;\n",
              "      box-shadow: 0px 1px 3px 1px rgba(0, 0, 0, 0.15);\n",
              "      filter: drop-shadow(0px 1px 2px rgba(0, 0, 0, 0.3));\n",
              "      fill: #FFFFFF;\n",
              "    }\n",
              "  </style>\n",
              "\n",
              "      <script>\n",
              "        const buttonEl =\n",
              "          document.querySelector('#df-dba48556-bc59-4561-b083-0b0626255f34 button.colab-df-convert');\n",
              "        buttonEl.style.display =\n",
              "          google.colab.kernel.accessAllowed ? 'block' : 'none';\n",
              "\n",
              "        async function convertToInteractive(key) {\n",
              "          const element = document.querySelector('#df-dba48556-bc59-4561-b083-0b0626255f34');\n",
              "          const dataTable =\n",
              "            await google.colab.kernel.invokeFunction('convertToInteractive',\n",
              "                                                     [key], {});\n",
              "          if (!dataTable) return;\n",
              "\n",
              "          const docLinkHtml = 'Like what you see? Visit the ' +\n",
              "            '<a target=\"_blank\" href=https://colab.research.google.com/notebooks/data_table.ipynb>data table notebook</a>'\n",
              "            + ' to learn more about interactive tables.';\n",
              "          element.innerHTML = '';\n",
              "          dataTable['output_type'] = 'display_data';\n",
              "          await google.colab.output.renderOutput(dataTable, element);\n",
              "          const docLink = document.createElement('div');\n",
              "          docLink.innerHTML = docLinkHtml;\n",
              "          element.appendChild(docLink);\n",
              "        }\n",
              "      </script>\n",
              "    </div>\n",
              "  </div>\n",
              "  "
            ]
          },
          "metadata": {},
          "execution_count": 14
        }
      ]
    },
    {
      "cell_type": "markdown",
      "source": [
        "n-grams"
      ],
      "metadata": {
        "id": "VpaE699QWTGB"
      }
    },
    {
      "cell_type": "code",
      "source": [
        "#method to generate n-grams:\n",
        "#params:\n",
        "#text-the text for which we have to generate n-grams\n",
        "#ngram-number of grams to be generated from the text(1,2,3,4 etc., default value=1)\n",
        "\n",
        "def generate_N_grams(text,ngram=1):\n",
        "  words=[word for word in text.split(\" \") if word not in set(stopwords.words('english'))]  \n",
        "  #print(\"Sentence after removing stopwords:\",words) uncomment to see a more specific change in print output statements.\n",
        "  temp=zip(*[words[i:] for i in range(0,ngram)])\n",
        "  ans=[' '.join(ngram) for ngram in temp]\n",
        "  return ans\n"
      ],
      "metadata": {
        "id": "CgfYiJE2WUny"
      },
      "execution_count": 15,
      "outputs": []
    },
    {
      "cell_type": "code",
      "source": [
        "df['n_grams_for_message'] = df['Message_WO_StopWords'].apply(generate_N_grams)\n",
        "df.head()"
      ],
      "metadata": {
        "colab": {
          "base_uri": "https://localhost:8080/",
          "height": 320
        },
        "id": "RrZp86SXYsrg",
        "outputId": "1ab52586-e0a8-4417-c3f7-d768fb8eb303"
      },
      "execution_count": 16,
      "outputs": [
        {
          "output_type": "execute_result",
          "data": {
            "text/plain": [
              "  class                                            message  \\\n",
              "0   ham  Go until jurong point, crazy.. Available only ...   \n",
              "1   ham                      Ok lar... Joking wif u oni...   \n",
              "2  spam  Free entry in 2 a wkly comp to win FA Cup fina...   \n",
              "3   ham  U dun say so early hor... U c already then say...   \n",
              "4   ham  Nah I don't think he goes to usf, he lives aro...   \n",
              "\n",
              "                                      Clean_Messages  \\\n",
              "0  go until jurong point, crazy.. available only ...   \n",
              "1                      ok lar... joking wif u oni...   \n",
              "2  free entry in 2 a wkly comp to win fa cup fina...   \n",
              "3  u dun say so early hor... u c already then say...   \n",
              "4  nah i don't think he goes to usf, he lives aro...   \n",
              "\n",
              "                                 removed_punctuation  \\\n",
              "0  go until jurong point  crazy   available only ...   \n",
              "1                      ok lar    joking wif u oni      \n",
              "2  free entry in 2 a wkly comp to win fa cup fina...   \n",
              "3  u dun say so early hor    u c already then say      \n",
              "4  nah i don t think he goes to usf  he lives aro...   \n",
              "\n",
              "                                      word_tokenized  \\\n",
              "0  [go, until, jurong, point, ,, crazy, .., avail...   \n",
              "1           [ok, lar, ..., joking, wif, u, oni, ...]   \n",
              "2  [free, entry, in, 2, a, wkly, comp, to, win, f...   \n",
              "3  [u, dun, say, so, early, hor, ..., u, c, alrea...   \n",
              "4  [nah, i, do, n't, think, he, goes, to, usf, ,,...   \n",
              "\n",
              "                                  sentence_tokenized  \\\n",
              "0  [go until jurong point, crazy.. available only...   \n",
              "1                    [ok lar... joking wif u oni...]   \n",
              "2  [free entry in 2 a wkly comp to win fa cup fin...   \n",
              "3  [u dun say so early hor... u c already then sa...   \n",
              "4  [nah i don't think he goes to usf, he lives ar...   \n",
              "\n",
              "                                Message_WO_StopWords  \\\n",
              "0  go jurong point , crazy .. available bugis n g...   \n",
              "1                    ok lar ... joking wif u oni ...   \n",
              "2  free entry 2 wkly comp win fa cup final tkts 2...   \n",
              "3        u dun say early hor ... u c already say ...   \n",
              "4       nah n't think goes usf , lives around though   \n",
              "\n",
              "                                     stemmed_message  \\\n",
              "0  [g, o,  , j, u, r, o, n, g,  , p, o, i, n, t, ...   \n",
              "1  [o, k,  , l, a, r,  , ., ., .,  , j, o, k, i, ...   \n",
              "2  [f, r, e, e,  , e, n, t, r, y,  , 2,  , w, k, ...   \n",
              "3  [u,  , d, u, n,  , s, a, y,  , e, a, r, l, y, ...   \n",
              "4  [n, a, h,  , n, ', t,  , t, h, i, n, k,  , g, ...   \n",
              "\n",
              "                                 n_grams_for_message  \n",
              "0  [go, jurong, point, ,, crazy, .., available, b...  \n",
              "1           [ok, lar, ..., joking, wif, u, oni, ...]  \n",
              "2  [free, entry, 2, wkly, comp, win, fa, cup, fin...  \n",
              "3  [u, dun, say, early, hor, ..., u, c, already, ...  \n",
              "4  [nah, n't, think, goes, usf, ,, lives, around,...  "
            ],
            "text/html": [
              "\n",
              "  <div id=\"df-f9512eda-7283-423b-9138-038c6d08e5da\">\n",
              "    <div class=\"colab-df-container\">\n",
              "      <div>\n",
              "<style scoped>\n",
              "    .dataframe tbody tr th:only-of-type {\n",
              "        vertical-align: middle;\n",
              "    }\n",
              "\n",
              "    .dataframe tbody tr th {\n",
              "        vertical-align: top;\n",
              "    }\n",
              "\n",
              "    .dataframe thead th {\n",
              "        text-align: right;\n",
              "    }\n",
              "</style>\n",
              "<table border=\"1\" class=\"dataframe\">\n",
              "  <thead>\n",
              "    <tr style=\"text-align: right;\">\n",
              "      <th></th>\n",
              "      <th>class</th>\n",
              "      <th>message</th>\n",
              "      <th>Clean_Messages</th>\n",
              "      <th>removed_punctuation</th>\n",
              "      <th>word_tokenized</th>\n",
              "      <th>sentence_tokenized</th>\n",
              "      <th>Message_WO_StopWords</th>\n",
              "      <th>stemmed_message</th>\n",
              "      <th>n_grams_for_message</th>\n",
              "    </tr>\n",
              "  </thead>\n",
              "  <tbody>\n",
              "    <tr>\n",
              "      <th>0</th>\n",
              "      <td>ham</td>\n",
              "      <td>Go until jurong point, crazy.. Available only ...</td>\n",
              "      <td>go until jurong point, crazy.. available only ...</td>\n",
              "      <td>go until jurong point  crazy   available only ...</td>\n",
              "      <td>[go, until, jurong, point, ,, crazy, .., avail...</td>\n",
              "      <td>[go until jurong point, crazy.. available only...</td>\n",
              "      <td>go jurong point , crazy .. available bugis n g...</td>\n",
              "      <td>[g, o,  , j, u, r, o, n, g,  , p, o, i, n, t, ...</td>\n",
              "      <td>[go, jurong, point, ,, crazy, .., available, b...</td>\n",
              "    </tr>\n",
              "    <tr>\n",
              "      <th>1</th>\n",
              "      <td>ham</td>\n",
              "      <td>Ok lar... Joking wif u oni...</td>\n",
              "      <td>ok lar... joking wif u oni...</td>\n",
              "      <td>ok lar    joking wif u oni</td>\n",
              "      <td>[ok, lar, ..., joking, wif, u, oni, ...]</td>\n",
              "      <td>[ok lar... joking wif u oni...]</td>\n",
              "      <td>ok lar ... joking wif u oni ...</td>\n",
              "      <td>[o, k,  , l, a, r,  , ., ., .,  , j, o, k, i, ...</td>\n",
              "      <td>[ok, lar, ..., joking, wif, u, oni, ...]</td>\n",
              "    </tr>\n",
              "    <tr>\n",
              "      <th>2</th>\n",
              "      <td>spam</td>\n",
              "      <td>Free entry in 2 a wkly comp to win FA Cup fina...</td>\n",
              "      <td>free entry in 2 a wkly comp to win fa cup fina...</td>\n",
              "      <td>free entry in 2 a wkly comp to win fa cup fina...</td>\n",
              "      <td>[free, entry, in, 2, a, wkly, comp, to, win, f...</td>\n",
              "      <td>[free entry in 2 a wkly comp to win fa cup fin...</td>\n",
              "      <td>free entry 2 wkly comp win fa cup final tkts 2...</td>\n",
              "      <td>[f, r, e, e,  , e, n, t, r, y,  , 2,  , w, k, ...</td>\n",
              "      <td>[free, entry, 2, wkly, comp, win, fa, cup, fin...</td>\n",
              "    </tr>\n",
              "    <tr>\n",
              "      <th>3</th>\n",
              "      <td>ham</td>\n",
              "      <td>U dun say so early hor... U c already then say...</td>\n",
              "      <td>u dun say so early hor... u c already then say...</td>\n",
              "      <td>u dun say so early hor    u c already then say</td>\n",
              "      <td>[u, dun, say, so, early, hor, ..., u, c, alrea...</td>\n",
              "      <td>[u dun say so early hor... u c already then sa...</td>\n",
              "      <td>u dun say early hor ... u c already say ...</td>\n",
              "      <td>[u,  , d, u, n,  , s, a, y,  , e, a, r, l, y, ...</td>\n",
              "      <td>[u, dun, say, early, hor, ..., u, c, already, ...</td>\n",
              "    </tr>\n",
              "    <tr>\n",
              "      <th>4</th>\n",
              "      <td>ham</td>\n",
              "      <td>Nah I don't think he goes to usf, he lives aro...</td>\n",
              "      <td>nah i don't think he goes to usf, he lives aro...</td>\n",
              "      <td>nah i don t think he goes to usf  he lives aro...</td>\n",
              "      <td>[nah, i, do, n't, think, he, goes, to, usf, ,,...</td>\n",
              "      <td>[nah i don't think he goes to usf, he lives ar...</td>\n",
              "      <td>nah n't think goes usf , lives around though</td>\n",
              "      <td>[n, a, h,  , n, ', t,  , t, h, i, n, k,  , g, ...</td>\n",
              "      <td>[nah, n't, think, goes, usf, ,, lives, around,...</td>\n",
              "    </tr>\n",
              "  </tbody>\n",
              "</table>\n",
              "</div>\n",
              "      <button class=\"colab-df-convert\" onclick=\"convertToInteractive('df-f9512eda-7283-423b-9138-038c6d08e5da')\"\n",
              "              title=\"Convert this dataframe to an interactive table.\"\n",
              "              style=\"display:none;\">\n",
              "        \n",
              "  <svg xmlns=\"http://www.w3.org/2000/svg\" height=\"24px\"viewBox=\"0 0 24 24\"\n",
              "       width=\"24px\">\n",
              "    <path d=\"M0 0h24v24H0V0z\" fill=\"none\"/>\n",
              "    <path d=\"M18.56 5.44l.94 2.06.94-2.06 2.06-.94-2.06-.94-.94-2.06-.94 2.06-2.06.94zm-11 1L8.5 8.5l.94-2.06 2.06-.94-2.06-.94L8.5 2.5l-.94 2.06-2.06.94zm10 10l.94 2.06.94-2.06 2.06-.94-2.06-.94-.94-2.06-.94 2.06-2.06.94z\"/><path d=\"M17.41 7.96l-1.37-1.37c-.4-.4-.92-.59-1.43-.59-.52 0-1.04.2-1.43.59L10.3 9.45l-7.72 7.72c-.78.78-.78 2.05 0 2.83L4 21.41c.39.39.9.59 1.41.59.51 0 1.02-.2 1.41-.59l7.78-7.78 2.81-2.81c.8-.78.8-2.07 0-2.86zM5.41 20L4 18.59l7.72-7.72 1.47 1.35L5.41 20z\"/>\n",
              "  </svg>\n",
              "      </button>\n",
              "      \n",
              "  <style>\n",
              "    .colab-df-container {\n",
              "      display:flex;\n",
              "      flex-wrap:wrap;\n",
              "      gap: 12px;\n",
              "    }\n",
              "\n",
              "    .colab-df-convert {\n",
              "      background-color: #E8F0FE;\n",
              "      border: none;\n",
              "      border-radius: 50%;\n",
              "      cursor: pointer;\n",
              "      display: none;\n",
              "      fill: #1967D2;\n",
              "      height: 32px;\n",
              "      padding: 0 0 0 0;\n",
              "      width: 32px;\n",
              "    }\n",
              "\n",
              "    .colab-df-convert:hover {\n",
              "      background-color: #E2EBFA;\n",
              "      box-shadow: 0px 1px 2px rgba(60, 64, 67, 0.3), 0px 1px 3px 1px rgba(60, 64, 67, 0.15);\n",
              "      fill: #174EA6;\n",
              "    }\n",
              "\n",
              "    [theme=dark] .colab-df-convert {\n",
              "      background-color: #3B4455;\n",
              "      fill: #D2E3FC;\n",
              "    }\n",
              "\n",
              "    [theme=dark] .colab-df-convert:hover {\n",
              "      background-color: #434B5C;\n",
              "      box-shadow: 0px 1px 3px 1px rgba(0, 0, 0, 0.15);\n",
              "      filter: drop-shadow(0px 1px 2px rgba(0, 0, 0, 0.3));\n",
              "      fill: #FFFFFF;\n",
              "    }\n",
              "  </style>\n",
              "\n",
              "      <script>\n",
              "        const buttonEl =\n",
              "          document.querySelector('#df-f9512eda-7283-423b-9138-038c6d08e5da button.colab-df-convert');\n",
              "        buttonEl.style.display =\n",
              "          google.colab.kernel.accessAllowed ? 'block' : 'none';\n",
              "\n",
              "        async function convertToInteractive(key) {\n",
              "          const element = document.querySelector('#df-f9512eda-7283-423b-9138-038c6d08e5da');\n",
              "          const dataTable =\n",
              "            await google.colab.kernel.invokeFunction('convertToInteractive',\n",
              "                                                     [key], {});\n",
              "          if (!dataTable) return;\n",
              "\n",
              "          const docLinkHtml = 'Like what you see? Visit the ' +\n",
              "            '<a target=\"_blank\" href=https://colab.research.google.com/notebooks/data_table.ipynb>data table notebook</a>'\n",
              "            + ' to learn more about interactive tables.';\n",
              "          element.innerHTML = '';\n",
              "          dataTable['output_type'] = 'display_data';\n",
              "          await google.colab.output.renderOutput(dataTable, element);\n",
              "          const docLink = document.createElement('div');\n",
              "          docLink.innerHTML = docLinkHtml;\n",
              "          element.appendChild(docLink);\n",
              "        }\n",
              "      </script>\n",
              "    </div>\n",
              "  </div>\n",
              "  "
            ]
          },
          "metadata": {},
          "execution_count": 16
        }
      ]
    },
    {
      "cell_type": "markdown",
      "source": [
        "Converting to integer index"
      ],
      "metadata": {
        "id": "52Wvg_qvaF_I"
      }
    },
    {
      "cell_type": "code",
      "source": [
        "df['tokenized_word_index'] = df['word_tokenized'].index\n",
        "df.head()"
      ],
      "metadata": {
        "colab": {
          "base_uri": "https://localhost:8080/",
          "height": 337
        },
        "id": "kfLELc2PaMD-",
        "outputId": "c48c827d-b627-4309-d4d1-1395c1ca8a5a"
      },
      "execution_count": 17,
      "outputs": [
        {
          "output_type": "execute_result",
          "data": {
            "text/plain": [
              "  class                                            message  \\\n",
              "0   ham  Go until jurong point, crazy.. Available only ...   \n",
              "1   ham                      Ok lar... Joking wif u oni...   \n",
              "2  spam  Free entry in 2 a wkly comp to win FA Cup fina...   \n",
              "3   ham  U dun say so early hor... U c already then say...   \n",
              "4   ham  Nah I don't think he goes to usf, he lives aro...   \n",
              "\n",
              "                                      Clean_Messages  \\\n",
              "0  go until jurong point, crazy.. available only ...   \n",
              "1                      ok lar... joking wif u oni...   \n",
              "2  free entry in 2 a wkly comp to win fa cup fina...   \n",
              "3  u dun say so early hor... u c already then say...   \n",
              "4  nah i don't think he goes to usf, he lives aro...   \n",
              "\n",
              "                                 removed_punctuation  \\\n",
              "0  go until jurong point  crazy   available only ...   \n",
              "1                      ok lar    joking wif u oni      \n",
              "2  free entry in 2 a wkly comp to win fa cup fina...   \n",
              "3  u dun say so early hor    u c already then say      \n",
              "4  nah i don t think he goes to usf  he lives aro...   \n",
              "\n",
              "                                      word_tokenized  \\\n",
              "0  [go, until, jurong, point, ,, crazy, .., avail...   \n",
              "1           [ok, lar, ..., joking, wif, u, oni, ...]   \n",
              "2  [free, entry, in, 2, a, wkly, comp, to, win, f...   \n",
              "3  [u, dun, say, so, early, hor, ..., u, c, alrea...   \n",
              "4  [nah, i, do, n't, think, he, goes, to, usf, ,,...   \n",
              "\n",
              "                                  sentence_tokenized  \\\n",
              "0  [go until jurong point, crazy.. available only...   \n",
              "1                    [ok lar... joking wif u oni...]   \n",
              "2  [free entry in 2 a wkly comp to win fa cup fin...   \n",
              "3  [u dun say so early hor... u c already then sa...   \n",
              "4  [nah i don't think he goes to usf, he lives ar...   \n",
              "\n",
              "                                Message_WO_StopWords  \\\n",
              "0  go jurong point , crazy .. available bugis n g...   \n",
              "1                    ok lar ... joking wif u oni ...   \n",
              "2  free entry 2 wkly comp win fa cup final tkts 2...   \n",
              "3        u dun say early hor ... u c already say ...   \n",
              "4       nah n't think goes usf , lives around though   \n",
              "\n",
              "                                     stemmed_message  \\\n",
              "0  [g, o,  , j, u, r, o, n, g,  , p, o, i, n, t, ...   \n",
              "1  [o, k,  , l, a, r,  , ., ., .,  , j, o, k, i, ...   \n",
              "2  [f, r, e, e,  , e, n, t, r, y,  , 2,  , w, k, ...   \n",
              "3  [u,  , d, u, n,  , s, a, y,  , e, a, r, l, y, ...   \n",
              "4  [n, a, h,  , n, ', t,  , t, h, i, n, k,  , g, ...   \n",
              "\n",
              "                                 n_grams_for_message  tokenized_word_index  \n",
              "0  [go, jurong, point, ,, crazy, .., available, b...                     0  \n",
              "1           [ok, lar, ..., joking, wif, u, oni, ...]                     1  \n",
              "2  [free, entry, 2, wkly, comp, win, fa, cup, fin...                     2  \n",
              "3  [u, dun, say, early, hor, ..., u, c, already, ...                     3  \n",
              "4  [nah, n't, think, goes, usf, ,, lives, around,...                     4  "
            ],
            "text/html": [
              "\n",
              "  <div id=\"df-6eb6bdd0-fa97-4d70-968f-398145a27762\">\n",
              "    <div class=\"colab-df-container\">\n",
              "      <div>\n",
              "<style scoped>\n",
              "    .dataframe tbody tr th:only-of-type {\n",
              "        vertical-align: middle;\n",
              "    }\n",
              "\n",
              "    .dataframe tbody tr th {\n",
              "        vertical-align: top;\n",
              "    }\n",
              "\n",
              "    .dataframe thead th {\n",
              "        text-align: right;\n",
              "    }\n",
              "</style>\n",
              "<table border=\"1\" class=\"dataframe\">\n",
              "  <thead>\n",
              "    <tr style=\"text-align: right;\">\n",
              "      <th></th>\n",
              "      <th>class</th>\n",
              "      <th>message</th>\n",
              "      <th>Clean_Messages</th>\n",
              "      <th>removed_punctuation</th>\n",
              "      <th>word_tokenized</th>\n",
              "      <th>sentence_tokenized</th>\n",
              "      <th>Message_WO_StopWords</th>\n",
              "      <th>stemmed_message</th>\n",
              "      <th>n_grams_for_message</th>\n",
              "      <th>tokenized_word_index</th>\n",
              "    </tr>\n",
              "  </thead>\n",
              "  <tbody>\n",
              "    <tr>\n",
              "      <th>0</th>\n",
              "      <td>ham</td>\n",
              "      <td>Go until jurong point, crazy.. Available only ...</td>\n",
              "      <td>go until jurong point, crazy.. available only ...</td>\n",
              "      <td>go until jurong point  crazy   available only ...</td>\n",
              "      <td>[go, until, jurong, point, ,, crazy, .., avail...</td>\n",
              "      <td>[go until jurong point, crazy.. available only...</td>\n",
              "      <td>go jurong point , crazy .. available bugis n g...</td>\n",
              "      <td>[g, o,  , j, u, r, o, n, g,  , p, o, i, n, t, ...</td>\n",
              "      <td>[go, jurong, point, ,, crazy, .., available, b...</td>\n",
              "      <td>0</td>\n",
              "    </tr>\n",
              "    <tr>\n",
              "      <th>1</th>\n",
              "      <td>ham</td>\n",
              "      <td>Ok lar... Joking wif u oni...</td>\n",
              "      <td>ok lar... joking wif u oni...</td>\n",
              "      <td>ok lar    joking wif u oni</td>\n",
              "      <td>[ok, lar, ..., joking, wif, u, oni, ...]</td>\n",
              "      <td>[ok lar... joking wif u oni...]</td>\n",
              "      <td>ok lar ... joking wif u oni ...</td>\n",
              "      <td>[o, k,  , l, a, r,  , ., ., .,  , j, o, k, i, ...</td>\n",
              "      <td>[ok, lar, ..., joking, wif, u, oni, ...]</td>\n",
              "      <td>1</td>\n",
              "    </tr>\n",
              "    <tr>\n",
              "      <th>2</th>\n",
              "      <td>spam</td>\n",
              "      <td>Free entry in 2 a wkly comp to win FA Cup fina...</td>\n",
              "      <td>free entry in 2 a wkly comp to win fa cup fina...</td>\n",
              "      <td>free entry in 2 a wkly comp to win fa cup fina...</td>\n",
              "      <td>[free, entry, in, 2, a, wkly, comp, to, win, f...</td>\n",
              "      <td>[free entry in 2 a wkly comp to win fa cup fin...</td>\n",
              "      <td>free entry 2 wkly comp win fa cup final tkts 2...</td>\n",
              "      <td>[f, r, e, e,  , e, n, t, r, y,  , 2,  , w, k, ...</td>\n",
              "      <td>[free, entry, 2, wkly, comp, win, fa, cup, fin...</td>\n",
              "      <td>2</td>\n",
              "    </tr>\n",
              "    <tr>\n",
              "      <th>3</th>\n",
              "      <td>ham</td>\n",
              "      <td>U dun say so early hor... U c already then say...</td>\n",
              "      <td>u dun say so early hor... u c already then say...</td>\n",
              "      <td>u dun say so early hor    u c already then say</td>\n",
              "      <td>[u, dun, say, so, early, hor, ..., u, c, alrea...</td>\n",
              "      <td>[u dun say so early hor... u c already then sa...</td>\n",
              "      <td>u dun say early hor ... u c already say ...</td>\n",
              "      <td>[u,  , d, u, n,  , s, a, y,  , e, a, r, l, y, ...</td>\n",
              "      <td>[u, dun, say, early, hor, ..., u, c, already, ...</td>\n",
              "      <td>3</td>\n",
              "    </tr>\n",
              "    <tr>\n",
              "      <th>4</th>\n",
              "      <td>ham</td>\n",
              "      <td>Nah I don't think he goes to usf, he lives aro...</td>\n",
              "      <td>nah i don't think he goes to usf, he lives aro...</td>\n",
              "      <td>nah i don t think he goes to usf  he lives aro...</td>\n",
              "      <td>[nah, i, do, n't, think, he, goes, to, usf, ,,...</td>\n",
              "      <td>[nah i don't think he goes to usf, he lives ar...</td>\n",
              "      <td>nah n't think goes usf , lives around though</td>\n",
              "      <td>[n, a, h,  , n, ', t,  , t, h, i, n, k,  , g, ...</td>\n",
              "      <td>[nah, n't, think, goes, usf, ,, lives, around,...</td>\n",
              "      <td>4</td>\n",
              "    </tr>\n",
              "  </tbody>\n",
              "</table>\n",
              "</div>\n",
              "      <button class=\"colab-df-convert\" onclick=\"convertToInteractive('df-6eb6bdd0-fa97-4d70-968f-398145a27762')\"\n",
              "              title=\"Convert this dataframe to an interactive table.\"\n",
              "              style=\"display:none;\">\n",
              "        \n",
              "  <svg xmlns=\"http://www.w3.org/2000/svg\" height=\"24px\"viewBox=\"0 0 24 24\"\n",
              "       width=\"24px\">\n",
              "    <path d=\"M0 0h24v24H0V0z\" fill=\"none\"/>\n",
              "    <path d=\"M18.56 5.44l.94 2.06.94-2.06 2.06-.94-2.06-.94-.94-2.06-.94 2.06-2.06.94zm-11 1L8.5 8.5l.94-2.06 2.06-.94-2.06-.94L8.5 2.5l-.94 2.06-2.06.94zm10 10l.94 2.06.94-2.06 2.06-.94-2.06-.94-.94-2.06-.94 2.06-2.06.94z\"/><path d=\"M17.41 7.96l-1.37-1.37c-.4-.4-.92-.59-1.43-.59-.52 0-1.04.2-1.43.59L10.3 9.45l-7.72 7.72c-.78.78-.78 2.05 0 2.83L4 21.41c.39.39.9.59 1.41.59.51 0 1.02-.2 1.41-.59l7.78-7.78 2.81-2.81c.8-.78.8-2.07 0-2.86zM5.41 20L4 18.59l7.72-7.72 1.47 1.35L5.41 20z\"/>\n",
              "  </svg>\n",
              "      </button>\n",
              "      \n",
              "  <style>\n",
              "    .colab-df-container {\n",
              "      display:flex;\n",
              "      flex-wrap:wrap;\n",
              "      gap: 12px;\n",
              "    }\n",
              "\n",
              "    .colab-df-convert {\n",
              "      background-color: #E8F0FE;\n",
              "      border: none;\n",
              "      border-radius: 50%;\n",
              "      cursor: pointer;\n",
              "      display: none;\n",
              "      fill: #1967D2;\n",
              "      height: 32px;\n",
              "      padding: 0 0 0 0;\n",
              "      width: 32px;\n",
              "    }\n",
              "\n",
              "    .colab-df-convert:hover {\n",
              "      background-color: #E2EBFA;\n",
              "      box-shadow: 0px 1px 2px rgba(60, 64, 67, 0.3), 0px 1px 3px 1px rgba(60, 64, 67, 0.15);\n",
              "      fill: #174EA6;\n",
              "    }\n",
              "\n",
              "    [theme=dark] .colab-df-convert {\n",
              "      background-color: #3B4455;\n",
              "      fill: #D2E3FC;\n",
              "    }\n",
              "\n",
              "    [theme=dark] .colab-df-convert:hover {\n",
              "      background-color: #434B5C;\n",
              "      box-shadow: 0px 1px 3px 1px rgba(0, 0, 0, 0.15);\n",
              "      filter: drop-shadow(0px 1px 2px rgba(0, 0, 0, 0.3));\n",
              "      fill: #FFFFFF;\n",
              "    }\n",
              "  </style>\n",
              "\n",
              "      <script>\n",
              "        const buttonEl =\n",
              "          document.querySelector('#df-6eb6bdd0-fa97-4d70-968f-398145a27762 button.colab-df-convert');\n",
              "        buttonEl.style.display =\n",
              "          google.colab.kernel.accessAllowed ? 'block' : 'none';\n",
              "\n",
              "        async function convertToInteractive(key) {\n",
              "          const element = document.querySelector('#df-6eb6bdd0-fa97-4d70-968f-398145a27762');\n",
              "          const dataTable =\n",
              "            await google.colab.kernel.invokeFunction('convertToInteractive',\n",
              "                                                     [key], {});\n",
              "          if (!dataTable) return;\n",
              "\n",
              "          const docLinkHtml = 'Like what you see? Visit the ' +\n",
              "            '<a target=\"_blank\" href=https://colab.research.google.com/notebooks/data_table.ipynb>data table notebook</a>'\n",
              "            + ' to learn more about interactive tables.';\n",
              "          element.innerHTML = '';\n",
              "          dataTable['output_type'] = 'display_data';\n",
              "          await google.colab.output.renderOutput(dataTable, element);\n",
              "          const docLink = document.createElement('div');\n",
              "          docLink.innerHTML = docLinkHtml;\n",
              "          element.appendChild(docLink);\n",
              "        }\n",
              "      </script>\n",
              "    </div>\n",
              "  </div>\n",
              "  "
            ]
          },
          "metadata": {},
          "execution_count": 17
        }
      ]
    },
    {
      "cell_type": "code",
      "source": [
        "df['tokenized_word_index'].dtypes"
      ],
      "metadata": {
        "colab": {
          "base_uri": "https://localhost:8080/"
        },
        "id": "rJ7tRtr3ipni",
        "outputId": "220adc53-d76d-446a-84d9-8dec3140d5c3"
      },
      "execution_count": 18,
      "outputs": [
        {
          "output_type": "execute_result",
          "data": {
            "text/plain": [
              "dtype('int64')"
            ]
          },
          "metadata": {},
          "execution_count": 18
        }
      ]
    },
    {
      "cell_type": "markdown",
      "source": [
        "Set Hyperparameters/Load model dependencies"
      ],
      "metadata": {
        "id": "Z-ftTuRYjEqK"
      }
    },
    {
      "cell_type": "code",
      "source": [
        "import keras\n",
        "from keras_preprocessing.sequence import pad_sequences\n",
        "from keras_preprocessing.text import Tokenizer\n",
        "from keras.models import Sequential \n",
        "from keras.layers import Dense,Dropout,Flatten\n",
        "from keras.layers import Embedding\n",
        "from keras.callbacks import ModelCheckpoint \n",
        "from keras.callbacks import EarlyStopping\n",
        "from keras.layers import SpatialDropout1D, Conv1D, GlobalMaxPooling1D  \n",
        "from keras.layers import SimpleRNN\n",
        "from keras.layers import LSTM\n",
        "\n",
        "import os\n",
        "from sklearn.preprocessing import LabelEncoder\n",
        "from sklearn.metrics import roc_auc_score, roc_curve\n",
        "import pandas as pd \n",
        "import matplotlib.pyplot as plt \n",
        "from sklearn.model_selection import train_test_split\n",
        "import tensorflow as tf\n",
        "%matplotlib inline"
      ],
      "metadata": {
        "id": "bpJtotM-mjOz"
      },
      "execution_count": 19,
      "outputs": []
    },
    {
      "cell_type": "code",
      "source": [
        "epochs = 8\n",
        "batch_size = 128\n",
        "n_dimensions = 64\n",
        "n_unique_words = 5000\n",
        "stop_words = 50\n",
        "max_mssg_length = 100\n",
        "pad_type=trunc_type = 'pre'\n",
        "n_dim = 64\n",
        "n_dense = 64\n",
        "dropout = 0.5\n",
        "\n",
        "drop_embed = 0.2 # convolutional model \n",
        "# convolutional layer architecture:\n",
        "n_conv = 256 # filters, a.k.a. kernels\n",
        "k_conv = 3 # kernel length\n",
        "\n",
        "\n",
        "optimizer = 'adam'\n",
        "\n",
        "output_dir = 'model_output/dense' # Store model's parameters after each epoch"
      ],
      "metadata": {
        "id": "ixjW2kRkjGWo"
      },
      "execution_count": 20,
      "outputs": []
    },
    {
      "cell_type": "code",
      "source": [
        "X = df['message'].values\n",
        "y = df['class'].values\n",
        "\n",
        "print(X)\n",
        "print(y)\n",
        "\n",
        "\n",
        "label = LabelEncoder()\n",
        "y=label.fit_transform(y)\n",
        "\n",
        "X_train, X_test, y_train, y_test = train_test_split(X,y, test_size = 0.3, random_state=42, shuffle = True)"
      ],
      "metadata": {
        "id": "nX_5xjp-oGiT",
        "colab": {
          "base_uri": "https://localhost:8080/"
        },
        "outputId": "8d0d7959-292d-4c51-b210-6634e7542204"
      },
      "execution_count": 21,
      "outputs": [
        {
          "output_type": "stream",
          "name": "stdout",
          "text": [
            "['Go until jurong point, crazy.. Available only in bugis n great world la e buffet... Cine there got amore wat...'\n",
            " 'Ok lar... Joking wif u oni...'\n",
            " \"Free entry in 2 a wkly comp to win FA Cup final tkts 21st May 2005. Text FA to 87121 to receive entry question(std txt rate)T&C's apply 08452810075over18's\"\n",
            " ...\n",
            " 'Hi babe its me thanks for coming even though it didnt go that well!i just wanted my bed! Hope to see you soon love and kisses xxx'\n",
            " 'So gd got free ice cream... I oso wan...'\n",
            " 'Pls give her prometazine syrup. 5mls then  &lt;#&gt; mins later feed.']\n",
            "['ham' 'ham' 'spam' ... 'ham' 'ham' 'ham']\n"
          ]
        }
      ]
    },
    {
      "cell_type": "code",
      "source": [
        "t = Tokenizer()\n",
        "t.fit_on_texts(X_train)\n",
        "\n",
        "# integer encode the documents\n",
        "encoded_train = t.texts_to_sequences(X_train)\n",
        "encoded_test = t.texts_to_sequences(X_test)\n",
        "print(encoded_train[0:2])"
      ],
      "metadata": {
        "colab": {
          "base_uri": "https://localhost:8080/"
        },
        "id": "RqIboFLn_CHk",
        "outputId": "ea44f9fa-315f-4985-b39a-e1c258afa94a"
      },
      "execution_count": 22,
      "outputs": [
        {
          "output_type": "stream",
          "name": "stdout",
          "text": [
            "[[48, 30, 248, 75, 19], [222, 47, 21, 108, 625, 1529, 2292, 1800, 1, 316, 8, 1801]]\n"
          ]
        }
      ]
    },
    {
      "cell_type": "markdown",
      "source": [
        "number of label_value_counts() of the data set to show the distribution of labels."
      ],
      "metadata": {
        "id": "UdJp81GUtUGX"
      }
    },
    {
      "cell_type": "code",
      "source": [
        "Y_label.value_counts().plot(kind='barh')"
      ],
      "metadata": {
        "colab": {
          "base_uri": "https://localhost:8080/",
          "height": 282
        },
        "id": "KBpDi0PSrzsB",
        "outputId": "4cba6fd7-c74d-4ba2-9f21-a890c899746f"
      },
      "execution_count": 23,
      "outputs": [
        {
          "output_type": "execute_result",
          "data": {
            "text/plain": [
              "<matplotlib.axes._subplots.AxesSubplot at 0x7ff2057a5790>"
            ]
          },
          "metadata": {},
          "execution_count": 23
        },
        {
          "output_type": "display_data",
          "data": {
            "text/plain": [
              "<Figure size 432x288 with 1 Axes>"
            ],
            "image/png": "[encoded data removed]"
          },
          "metadata": {
            "needs_background": "light"
          }
        }
      ]
    },
    {
      "cell_type": "markdown",
      "source": [
        "Preprocess Data"
      ],
      "metadata": {
        "id": "_yrZux9f1V0P"
      }
    },
    {
      "cell_type": "code",
      "source": [
        "padded_train = pad_sequences(encoded_train, maxlen = max_mssg_length,\n",
        "                        padding = 'pre', truncating = trunc_type, value = 0)\n",
        "\n",
        "padded_test = pad_sequences(encoded_test, maxlen = max_mssg_length,\n",
        "                        padding = 'pre', truncating = trunc_type, value = 0)\n",
        "print(padded_train)"
      ],
      "metadata": {
        "colab": {
          "base_uri": "https://localhost:8080/"
        },
        "id": "4yk7xLqA5LPk",
        "outputId": "cc49c181-9c43-468d-fc88-1cc95d11fd5d"
      },
      "execution_count": 24,
      "outputs": [
        {
          "output_type": "stream",
          "name": "stdout",
          "text": [
            "[[   0    0    0 ...  248   75   19]\n",
            " [   0    0    0 ...  316    8 1801]\n",
            " [   0    0    0 ... 2293  560  987]\n",
            " ...\n",
            " [   0    0    0 ...  254   30 7335]\n",
            " [   0    0    0 ... 1182    1  231]\n",
            " [   0    0    0 ...    8  279  174]]\n"
          ]
        }
      ]
    },
    {
      "cell_type": "markdown",
      "source": [
        "Dense Neural Network architecture"
      ],
      "metadata": {
        "id": "K9Xye6CrymZm"
      }
    },
    {
      "cell_type": "code",
      "source": [
        "model = Sequential()\n",
        "\n",
        "#1st hidden layer \n",
        "model.add(Embedding(n_unique_words, n_dense, input_length = max_mssg_length))\n",
        "model.add(Flatten())\n",
        "\n",
        "#2nd hidden layer: 64 dim relu activation layer \n",
        "model.add(Dense(n_dense, activation = 'relu'))\n",
        "model.add(Dropout(dropout))\n",
        "\n",
        "#3rd hidden layer if needed more \n",
        "# model.add(Dense(n_dense, activation = 'relu'))\n",
        "# model.add(Dropout(dropout))\n",
        "\n",
        "#Output layer: Single sigmoid neuron to predict binary classification \n",
        "model.add(Dense(1, activation='sigmoid')) #= to softmax w/ 2 classes "
      ],
      "metadata": {
        "id": "8UVK5gIZxA-S"
      },
      "execution_count": 25,
      "outputs": []
    },
    {
      "cell_type": "code",
      "source": [
        "model.summary()"
      ],
      "metadata": {
        "colab": {
          "base_uri": "https://localhost:8080/"
        },
        "id": "w5oP4oMLy-VK",
        "outputId": "ac14768e-1ba8-4142-8690-cf266368e8a8"
      },
      "execution_count": 26,
      "outputs": [
        {
          "output_type": "stream",
          "name": "stdout",
          "text": [
            "Model: \"sequential\"\n",
            "_________________________________________________________________\n",
            " Layer (type)                Output Shape              Param #   \n",
            "=================================================================\n",
            " embedding (Embedding)       (None, 100, 64)           320000    \n",
            "                                                                 \n",
            " flatten (Flatten)           (None, 6400)              0         \n",
            "                                                                 \n",
            " dense (Dense)               (None, 64)                409664    \n",
            "                                                                 \n",
            " dropout (Dropout)           (None, 64)                0         \n",
            "                                                                 \n",
            " dense_1 (Dense)             (None, 1)                 65        \n",
            "                                                                 \n",
            "=================================================================\n",
            "Total params: 729,729\n",
            "Trainable params: 729,729\n",
            "Non-trainable params: 0\n",
            "_________________________________________________________________\n"
          ]
        }
      ]
    },
    {
      "cell_type": "code",
      "source": [
        "n_dim, n_unique_words, n_dim*n_unique_words"
      ],
      "metadata": {
        "colab": {
          "base_uri": "https://localhost:8080/"
        },
        "id": "QcvsNqYYzUQ5",
        "outputId": "0a132918-680b-402d-f9af-34c761bedad4"
      },
      "execution_count": 27,
      "outputs": [
        {
          "output_type": "execute_result",
          "data": {
            "text/plain": [
              "(64, 5000, 320000)"
            ]
          },
          "metadata": {},
          "execution_count": 27
        }
      ]
    },
    {
      "cell_type": "code",
      "source": [
        "max_mssg_length, n_dim, n_dim*max_mssg_length"
      ],
      "metadata": {
        "colab": {
          "base_uri": "https://localhost:8080/"
        },
        "id": "rgtUXOGizsPf",
        "outputId": "bf8097a5-8028-41c2-bff6-d78627ebbb1b"
      },
      "execution_count": 28,
      "outputs": [
        {
          "output_type": "execute_result",
          "data": {
            "text/plain": [
              "(100, 64, 6400)"
            ]
          },
          "metadata": {},
          "execution_count": 28
        }
      ]
    },
    {
      "cell_type": "code",
      "source": [
        "n_dense, n_dim*max_mssg_length*n_dense + n_dense #weights + biases"
      ],
      "metadata": {
        "colab": {
          "base_uri": "https://localhost:8080/"
        },
        "id": "7QorIqCWzy7-",
        "outputId": "c00ce0f7-3476-4923-ae77-6c57cfe39c27"
      },
      "execution_count": 29,
      "outputs": [
        {
          "output_type": "execute_result",
          "data": {
            "text/plain": [
              "(64, 409664)"
            ]
          },
          "metadata": {},
          "execution_count": 29
        }
      ]
    },
    {
      "cell_type": "code",
      "source": [
        "n_dense + 1"
      ],
      "metadata": {
        "colab": {
          "base_uri": "https://localhost:8080/"
        },
        "id": "HBd1JU8rz4rr",
        "outputId": "47f1eaad-5495-4522-fe57-2388eee20dfc"
      },
      "execution_count": 30,
      "outputs": [
        {
          "output_type": "execute_result",
          "data": {
            "text/plain": [
              "65"
            ]
          },
          "metadata": {},
          "execution_count": 30
        }
      ]
    },
    {
      "cell_type": "markdown",
      "source": [
        "Configure Model"
      ],
      "metadata": {
        "id": "oB5-8PlUz_XE"
      }
    },
    {
      "cell_type": "code",
      "source": [
        "model.compile(loss='binary_crossentropy', optimizer = 'adam', metrics = ['accuracy'])\n",
        "\n",
        "#allow to save our model param after each epoch during training \n",
        "modelcheckpoint = ModelCheckpoint(filepath=output_dir+\n",
        "                                  \"/weights.{epoch:02d}.hdf5\")\n",
        "\n",
        "#if the output_dir directory doesn't already exist, we use the makedirs() metho to make it \n",
        "if not os.path.exists(output_dir):\n",
        "  os.makedirs(output_dir)"
      ],
      "metadata": {
        "id": "b9uvWLnvz5_m"
      },
      "execution_count": 31,
      "outputs": []
    },
    {
      "cell_type": "markdown",
      "source": [
        "Train Dense Model"
      ],
      "metadata": {
        "id": "07B_cViT0j38"
      }
    },
    {
      "cell_type": "code",
      "source": [
        "#early_stop = EarlyStopping(monitor='val_loss', mode='min', verbose=1, patience=10)\n",
        "\n",
        "history = model.fit(x=padded_train,y = y_train,\n",
        "          batch_size=batch_size, epochs=epochs, verbose=1,\n",
        "          validation_data=(padded_test,y_test),\n",
        "          callbacks=[modelcheckpoint])\n",
        "\n",
        "#remember check the validation accuracy if it keeps decreasing we over fit the models"
      ],
      "metadata": {
        "colab": {
          "base_uri": "https://localhost:8080/"
        },
        "id": "GknNxaWy0fJl",
        "outputId": "13c04dff-e80b-4db3-e8a7-2a1e4b4c9e34"
      },
      "execution_count": 32,
      "outputs": [
        {
          "output_type": "stream",
          "name": "stdout",
          "text": [
            "Epoch 1/8\n",
            "30/30 [==============================] - 3s 13ms/step - loss: 0.3563 - accuracy: 0.8610 - val_loss: 0.2401 - val_accuracy: 0.8662\n",
            "Epoch 2/8\n",
            "30/30 [==============================] - 0s 8ms/step - loss: 0.1787 - accuracy: 0.8832 - val_loss: 0.1639 - val_accuracy: 0.9562\n",
            "Epoch 3/8\n",
            "30/30 [==============================] - 0s 7ms/step - loss: 0.1288 - accuracy: 0.9738 - val_loss: 0.1442 - val_accuracy: 0.9710\n",
            "Epoch 4/8\n",
            "30/30 [==============================] - 0s 7ms/step - loss: 0.1097 - accuracy: 0.9863 - val_loss: 0.1338 - val_accuracy: 0.9753\n",
            "Epoch 5/8\n",
            "30/30 [==============================] - 0s 6ms/step - loss: 0.1004 - accuracy: 0.9929 - val_loss: 0.1350 - val_accuracy: 0.9766\n",
            "Epoch 6/8\n",
            "30/30 [==============================] - 0s 8ms/step - loss: 0.0949 - accuracy: 0.9960 - val_loss: 0.1379 - val_accuracy: 0.9766\n",
            "Epoch 7/8\n",
            "30/30 [==============================] - 0s 8ms/step - loss: 0.0904 - accuracy: 0.9974 - val_loss: 0.1419 - val_accuracy: 0.9760\n",
            "Epoch 8/8\n",
            "30/30 [==============================] - 0s 8ms/step - loss: 0.0879 - accuracy: 0.9981 - val_loss: 0.1407 - val_accuracy: 0.9766\n"
          ]
        }
      ]
    },
    {
      "cell_type": "code",
      "source": [
        "loss_train = history.history['accuracy']\n",
        "loss_val = history.history['val_accuracy']\n",
        "epochs = range(1,9)\n",
        "plt.plot(epochs, loss_train, 'b', label = 'Training accuracy')\n",
        "plt.plot(epochs, loss_val, 'g', label = 'validation accuracy')\n",
        "plt.title('Training and validation accuracy')\n",
        "plt.xlabel('Epochs')\n",
        "plt.ylabel('Accuracy')\n",
        "plt.legend()\n",
        "plt.show()"
      ],
      "metadata": {
        "colab": {
          "base_uri": "https://localhost:8080/",
          "height": 295
        },
        "id": "JqMNn1NmrGyg",
        "outputId": "660e0f9e-7d06-4707-e646-56dc6e0d5dd2"
      },
      "execution_count": 33,
      "outputs": [
        {
          "output_type": "display_data",
          "data": {
            "text/plain": [
              "<Figure size 432x288 with 1 Axes>"
            ],
            "image/png": "[encoded data removed]"
          },
          "metadata": {
            "needs_background": "light"
          }
        }
      ]
    },
    {
      "cell_type": "code",
      "source": [
        "loss_train = history.history['loss']\n",
        "loss_val = history.history['val_loss']\n",
        "epochs = range(1,9)\n",
        "plt.plot(epochs, loss_train, 'b', label = 'Training loss')\n",
        "plt.plot(epochs, loss_val, 'g', label = 'validation loss')\n",
        "plt.title('Training and validation loss')\n",
        "plt.xlabel('Epochs')\n",
        "plt.ylabel('Loss/Error')\n",
        "plt.legend()\n",
        "plt.show()"
      ],
      "metadata": {
        "colab": {
          "base_uri": "https://localhost:8080/",
          "height": 295
        },
        "id": "aE7q3H5WrO79",
        "outputId": "a6dbc521-e08e-44f7-bb1b-8c105f269248"
      },
      "execution_count": 34,
      "outputs": [
        {
          "output_type": "display_data",
          "data": {
            "text/plain": [
              "<Figure size 432x288 with 1 Axes>"
            ],
            "image/png": "[encoded data removed]"
          },
          "metadata": {
            "needs_background": "light"
          }
        }
      ]
    },
    {
      "cell_type": "code",
      "source": [
        "test_loss, test_acc = model.evaluate(padded_test,y_test)\n",
        "print('test_acc:', test_acc)"
      ],
      "metadata": {
        "colab": {
          "base_uri": "https://localhost:8080/"
        },
        "id": "rdlV1m7Sj3ch",
        "outputId": "9e29f01a-ef47-49fb-caa3-8bcb52d7aea0"
      },
      "execution_count": 35,
      "outputs": [
        {
          "output_type": "stream",
          "name": "stdout",
          "text": [
            "51/51 [==============================] - 0s 2ms/step - loss: 0.1407 - accuracy: 0.9766\n",
            "test_acc: 0.9765721559524536\n"
          ]
        }
      ]
    },
    {
      "cell_type": "code",
      "source": [
        "model.load_weights(output_dir+\"/weights.01.hdf5\")\n"
      ],
      "metadata": {
        "id": "iG0XLOXqEoAP"
      },
      "execution_count": 36,
      "outputs": []
    },
    {
      "cell_type": "code",
      "source": [
        "#Predict probablity on our validation data to calc yhat data across 25k data \n",
        "y_hat = model.predict(padded_test)"
      ],
      "metadata": {
        "colab": {
          "base_uri": "https://localhost:8080/"
        },
        "id": "CJ3FT8cFN3KE",
        "outputId": "850025da-bfb1-4cc6-f0f5-42de3117f5d0"
      },
      "execution_count": 37,
      "outputs": [
        {
          "output_type": "stream",
          "name": "stdout",
          "text": [
            "51/51 [==============================] - 0s 1ms/step\n"
          ]
        }
      ]
    },
    {
      "cell_type": "code",
      "source": [
        "pct_auc = roc_auc_score(y_test, y_hat)*100.0"
      ],
      "metadata": {
        "id": "OdDAHbxTM4pW"
      },
      "execution_count": 38,
      "outputs": []
    },
    {
      "cell_type": "code",
      "source": [
        "\"{:0.2f}\".format(pct_auc)"
      ],
      "metadata": {
        "colab": {
          "base_uri": "https://localhost:8080/",
          "height": 35
        },
        "id": "ROqgu-HDNTDU",
        "outputId": "8fd31329-66c7-4b04-8756-4525c958573e"
      },
      "execution_count": 39,
      "outputs": [
        {
          "output_type": "execute_result",
          "data": {
            "text/plain": [
              "'93.22'"
            ],
            "application/vnd.google.colaboratory.intrinsic+json": {
              "type": "string"
            }
          },
          "metadata": {},
          "execution_count": 39
        }
      ]
    },
    {
      "cell_type": "code",
      "source": [
        "fpr, tpr, thresholds = roc_curve (y_test,y_hat)\n",
        "plt.plot(fpr,tpr)\n",
        "plt.axis([0,1,0,1])\n",
        "plt.xlabel('False Positive Rate')\n",
        "plt.ylabel('True Positive')\n",
        "plt.show()"
      ],
      "metadata": {
        "colab": {
          "base_uri": "https://localhost:8080/",
          "height": 283
        },
        "id": "R4GmxWsVNXeG",
        "outputId": "ed534740-189e-4d13-a61a-3516867d6bd0"
      },
      "execution_count": 40,
      "outputs": [
        {
          "output_type": "display_data",
          "data": {
            "text/plain": [
              "<Figure size 432x288 with 1 Axes>"
            ],
            "image/png": "[encoded data removed]"
          },
          "metadata": {
            "needs_background": "light"
          }
        }
      ]
    },
    {
      "cell_type": "markdown",
      "source": [
        "Convolutional Model "
      ],
      "metadata": {
        "id": "T_Wo8F-pk7x3"
      }
    },
    {
      "cell_type": "code",
      "source": [
        "n_dense = 256\n",
        "dropout = 0.2\n",
        "output_dir = 'model_output/conv'\n",
        "\n",
        "modelCNN = Sequential()\n",
        "# 1st hidden layer: vector-space embedding\n",
        "modelCNN.add(Embedding(n_unique_words, n_dim, input_length=max_mssg_length)) \n",
        "modelCNN.add(SpatialDropout1D(drop_embed)) # no Flatten(),Conv1D() layer takes multidimension\n",
        "\n",
        "# 2nd hidden layer : convolutional layer\n",
        "# We use relu activation within our one-dimensional convolutional layer. The layer has \n",
        "# 256 unique filters, each of which is free to specialize in activating when it passes over \n",
        "# a particular three-token sequence. The activation map for each of the 256 filters has a \n",
        "# length of 398, corresponding to a 398×256 output shape\n",
        "modelCNN.add(Conv1D(n_conv, k_conv, activation='relu'))\n",
        "# model.add(Conv1D(n_conv, k_conv, activation='relu')) # can add more hidden layer\n",
        "\n",
        "# Global max-pooling is common for dimensionality reduction within deep learning NLP models. \n",
        "# We use it here to squash the activation map from 398 × 256 to 1 × 256. By applying it, only \n",
        "# the magnitude of largest activation for a given convolutional filter is retained by the \n",
        "# maximum-calculating operation, and we lose any temporal-position-specific information the \n",
        "#filter may have output to its 398-element-long activation map\n",
        "modelCNN.add(GlobalMaxPooling1D()) # not a hidden layer\n",
        "\n",
        "# Dense layer\n",
        "# Because the activations output from the global max-pooling layer are one-dimensional, \n",
        "#they can be fed directly into the dense layer, which consists (again) of relu neurons and \n",
        "# dropout is applied\n",
        "modelCNN.add(Dense(n_dense, activation='relu'))\n",
        "modelCNN.add(Dropout(dropout))\n",
        "\n",
        "# Output layer\n",
        "modelCNN.add(Dense(1, activation='sigmoid'))"
      ],
      "metadata": {
        "id": "73VxZGncmWNO"
      },
      "execution_count": 41,
      "outputs": []
    },
    {
      "cell_type": "markdown",
      "source": [
        "model summary"
      ],
      "metadata": {
        "id": "sDHMJ4cznT6g"
      }
    },
    {
      "cell_type": "code",
      "source": [
        "modelCNN.summary()"
      ],
      "metadata": {
        "colab": {
          "base_uri": "https://localhost:8080/"
        },
        "id": "K9_9nuEenVmb",
        "outputId": "ebf1c100-5e08-42f6-8026-32b2d9196893"
      },
      "execution_count": 42,
      "outputs": [
        {
          "output_type": "stream",
          "name": "stdout",
          "text": [
            "Model: \"sequential_1\"\n",
            "_________________________________________________________________\n",
            " Layer (type)                Output Shape              Param #   \n",
            "=================================================================\n",
            " embedding_1 (Embedding)     (None, 100, 64)           320000    \n",
            "                                                                 \n",
            " spatial_dropout1d (SpatialD  (None, 100, 64)          0         \n",
            " ropout1D)                                                       \n",
            "                                                                 \n",
            " conv1d (Conv1D)             (None, 98, 256)           49408     \n",
            "                                                                 \n",
            " global_max_pooling1d (Globa  (None, 256)              0         \n",
            " lMaxPooling1D)                                                  \n",
            "                                                                 \n",
            " dense_2 (Dense)             (None, 256)               65792     \n",
            "                                                                 \n",
            " dropout_1 (Dropout)         (None, 256)               0         \n",
            "                                                                 \n",
            " dense_3 (Dense)             (None, 1)                 257       \n",
            "                                                                 \n",
            "=================================================================\n",
            "Total params: 435,457\n",
            "Trainable params: 435,457\n",
            "Non-trainable params: 0\n",
            "_________________________________________________________________\n"
          ]
        }
      ]
    },
    {
      "cell_type": "markdown",
      "source": [
        "configure model"
      ],
      "metadata": {
        "id": "y_lthXZKnb7m"
      }
    },
    {
      "cell_type": "code",
      "source": [
        "modelCNN.compile(loss='binary_crossentropy', optimizer = 'adam', metrics = ['accuracy'])\n",
        "\n",
        "#allow to save our model param after each epoch during training \n",
        "modelcheckpoint = ModelCheckpoint(filepath=output_dir+\n",
        "                                  \"/weights.{epoch:02d}.hdf5\")\n",
        "\n",
        "#if the output_dir directory doesn't already exist, we use the makedirs() metho to make it \n",
        "if not os.path.exists(output_dir):\n",
        "  os.makedirs(output_dir)"
      ],
      "metadata": {
        "id": "cDBN_8ZKnZ8b"
      },
      "execution_count": 43,
      "outputs": []
    },
    {
      "cell_type": "markdown",
      "source": [
        "Train"
      ],
      "metadata": {
        "id": "2_OEW5LIn42w"
      }
    },
    {
      "cell_type": "code",
      "source": [
        "history=modelCNN.fit(x=padded_train,y = y_train,\n",
        "          batch_size=batch_size, epochs=8, verbose=1,\n",
        "          validation_data=(padded_test,y_test),\n",
        "          callbacks=[modelcheckpoint])"
      ],
      "metadata": {
        "colab": {
          "base_uri": "https://localhost:8080/"
        },
        "id": "Ypr4pHb9n5_z",
        "outputId": "af2456c6-a60e-440d-8dbc-31a9e0922074"
      },
      "execution_count": 44,
      "outputs": [
        {
          "output_type": "stream",
          "name": "stdout",
          "text": [
            "Epoch 1/8\n",
            "30/30 [==============================] - 8s 40ms/step - loss: 0.4550 - accuracy: 0.8406 - val_loss: 0.3719 - val_accuracy: 0.8662\n",
            "Epoch 2/8\n",
            "30/30 [==============================] - 0s 10ms/step - loss: 0.3238 - accuracy: 0.8655 - val_loss: 0.2637 - val_accuracy: 0.8662\n",
            "Epoch 3/8\n",
            "30/30 [==============================] - 0s 8ms/step - loss: 0.1997 - accuracy: 0.9093 - val_loss: 0.1605 - val_accuracy: 0.9667\n",
            "Epoch 4/8\n",
            "30/30 [==============================] - 0s 9ms/step - loss: 0.0770 - accuracy: 0.9855 - val_loss: 0.0602 - val_accuracy: 0.9797\n",
            "Epoch 5/8\n",
            "30/30 [==============================] - 0s 9ms/step - loss: 0.0237 - accuracy: 0.9937 - val_loss: 0.0651 - val_accuracy: 0.9871\n",
            "Epoch 6/8\n",
            "30/30 [==============================] - 0s 9ms/step - loss: 0.0095 - accuracy: 0.9976 - val_loss: 0.0626 - val_accuracy: 0.9809\n",
            "Epoch 7/8\n",
            "30/30 [==============================] - 0s 9ms/step - loss: 0.0039 - accuracy: 0.9995 - val_loss: 0.0688 - val_accuracy: 0.9871\n",
            "Epoch 8/8\n",
            "30/30 [==============================] - 0s 10ms/step - loss: 0.0023 - accuracy: 0.9997 - val_loss: 0.0733 - val_accuracy: 0.9864\n"
          ]
        }
      ]
    },
    {
      "cell_type": "code",
      "source": [
        "loss_train = history.history['accuracy']\n",
        "loss_val = history.history['val_accuracy']\n",
        "epochs = range(1,9)\n",
        "plt.plot(epochs, loss_train, 'b', label = 'Training accuracy')\n",
        "plt.plot(epochs, loss_val, 'g', label = 'validation accuracy')\n",
        "plt.title('Training and validation accuracy')\n",
        "plt.xlabel('Epochs')\n",
        "plt.ylabel('Accuracy')\n",
        "plt.legend()\n",
        "plt.show()"
      ],
      "metadata": {
        "id": "BZpyWu91rZuT",
        "colab": {
          "base_uri": "https://localhost:8080/",
          "height": 295
        },
        "outputId": "784e60d0-8050-4476-e0e2-a16aa40dfd7d"
      },
      "execution_count": 45,
      "outputs": [
        {
          "output_type": "display_data",
          "data": {
            "text/plain": [
              "<Figure size 432x288 with 1 Axes>"
            ],
            "image/png": "[encoded data removed]"
          },
          "metadata": {
            "needs_background": "light"
          }
        }
      ]
    },
    {
      "cell_type": "code",
      "source": [
        "loss_train = history.history['loss']\n",
        "loss_val = history.history['val_loss']\n",
        "epochs = range(1,9)\n",
        "plt.plot(epochs, loss_train, 'b', label = 'Training loss')\n",
        "plt.plot(epochs, loss_val, 'g', label = 'validation loss')\n",
        "plt.title('Training and validation loss')\n",
        "plt.xlabel('Epochs')\n",
        "plt.ylabel('Loss/Error')\n",
        "plt.legend()\n",
        "plt.show()"
      ],
      "metadata": {
        "id": "8Zy1PLD9rah4",
        "colab": {
          "base_uri": "https://localhost:8080/",
          "height": 295
        },
        "outputId": "e88fe68c-aa4a-43e2-ac62-e0deaa12bd30"
      },
      "execution_count": 46,
      "outputs": [
        {
          "output_type": "display_data",
          "data": {
            "text/plain": [
              "<Figure size 432x288 with 1 Axes>"
            ],
            "image/png": "[encoded data removed]"
          },
          "metadata": {
            "needs_background": "light"
          }
        }
      ]
    },
    {
      "cell_type": "markdown",
      "source": [
        "Evaluate"
      ],
      "metadata": {
        "id": "PPAmY-xkoVOI"
      }
    },
    {
      "cell_type": "code",
      "source": [
        "modelCNN.load_weights(output_dir+\"/weights.08.hdf5\") \n",
        "y_hat = modelCNN.predict(padded_test)"
      ],
      "metadata": {
        "id": "iJH6ZuAioUJR",
        "colab": {
          "base_uri": "https://localhost:8080/"
        },
        "outputId": "259de1fb-c289-47aa-80fb-ddd254f4603c"
      },
      "execution_count": 47,
      "outputs": [
        {
          "output_type": "stream",
          "name": "stdout",
          "text": [
            "51/51 [==============================] - 0s 4ms/step\n"
          ]
        }
      ]
    },
    {
      "cell_type": "code",
      "source": [
        "\"{:0.2f}\".format(roc_auc_score(y_test, y_hat)*100.0)"
      ],
      "metadata": {
        "id": "3MBNQ4Jvoull",
        "colab": {
          "base_uri": "https://localhost:8080/",
          "height": 35
        },
        "outputId": "f7bbf2fe-a06d-478c-c792-263519ecb186"
      },
      "execution_count": 48,
      "outputs": [
        {
          "output_type": "execute_result",
          "data": {
            "text/plain": [
              "'98.87'"
            ],
            "application/vnd.google.colaboratory.intrinsic+json": {
              "type": "string"
            }
          },
          "metadata": {},
          "execution_count": 48
        }
      ]
    },
    {
      "cell_type": "code",
      "source": [
        "fpr , tpr , thresholds = roc_curve (y_test , y_hat)\n",
        "plt.plot(fpr,tpr) \n",
        "plt.axis([0,1,0,1]) \n",
        "plt.title('False Positive Rate vs True Positive Rate ROC-AUC')\n",
        "plt.xlabel('False Positive Rate') \n",
        "plt.ylabel('True Positive Rate') \n",
        "plt.show()"
      ],
      "metadata": {
        "id": "6kD76wTKo34v",
        "colab": {
          "base_uri": "https://localhost:8080/",
          "height": 295
        },
        "outputId": "67c39783-0a5d-4ae0-9561-cb19b288af9f"
      },
      "execution_count": 49,
      "outputs": [
        {
          "output_type": "display_data",
          "data": {
            "text/plain": [
              "<Figure size 432x288 with 1 Axes>"
            ],
            "image/png": "[encoded data removed]"
          },
          "metadata": {
            "needs_background": "light"
          }
        }
      ]
    },
    {
      "cell_type": "markdown",
      "source": [
        "RNN model"
      ],
      "metadata": {
        "id": "_om8dvTipBZB"
      }
    },
    {
      "cell_type": "markdown",
      "source": [
        "RNN hyperparameters"
      ],
      "metadata": {
        "id": "X3KU5d3AqxD2"
      }
    },
    {
      "cell_type": "code",
      "source": [
        "output_dir = 'model_output/rnn'\n",
        "epochs = 16\n",
        "n_unique_words = 10000\n",
        "drom_embed = 0.2\n",
        "n_rnn = 256\n",
        "drop_rnn = 0.2\n",
        "max_mssg_length = 100"
      ],
      "metadata": {
        "id": "3mpk-Em_pD37"
      },
      "execution_count": 50,
      "outputs": []
    },
    {
      "cell_type": "markdown",
      "source": [
        "RNN NN architecture"
      ],
      "metadata": {
        "id": "nDlYgXRhq_jJ"
      }
    },
    {
      "cell_type": "code",
      "source": [
        "modelRNN = Sequential()\n",
        "\n",
        "#1st hidden layer \n",
        "modelRNN.add(Embedding(n_unique_words, n_dim, input_length = max_mssg_length))\n",
        "modelRNN.add(SpatialDropout1D(drop_embed))\n",
        "\n",
        "#2nd hidden layer: \n",
        "modelRNN.add(SimpleRNN(n_rnn, dropout=drop_rnn))\n",
        "\n",
        "#Output layer\n",
        "modelRNN.add(Dense(1, activation='sigmoid')) \n",
        "\n",
        "modelRNN.summary()"
      ],
      "metadata": {
        "id": "uiOiQ4SmrE8A",
        "colab": {
          "base_uri": "https://localhost:8080/"
        },
        "outputId": "7824a7ac-1602-4255-9dae-679967f5b5d9"
      },
      "execution_count": 51,
      "outputs": [
        {
          "output_type": "stream",
          "name": "stdout",
          "text": [
            "Model: \"sequential_2\"\n",
            "_________________________________________________________________\n",
            " Layer (type)                Output Shape              Param #   \n",
            "=================================================================\n",
            " embedding_2 (Embedding)     (None, 100, 64)           640000    \n",
            "                                                                 \n",
            " spatial_dropout1d_1 (Spatia  (None, 100, 64)          0         \n",
            " lDropout1D)                                                     \n",
            "                                                                 \n",
            " simple_rnn (SimpleRNN)      (None, 256)               82176     \n",
            "                                                                 \n",
            " dense_4 (Dense)             (None, 1)                 257       \n",
            "                                                                 \n",
            "=================================================================\n",
            "Total params: 722,433\n",
            "Trainable params: 722,433\n",
            "Non-trainable params: 0\n",
            "_________________________________________________________________\n"
          ]
        }
      ]
    },
    {
      "cell_type": "markdown",
      "source": [
        "Model Fit"
      ],
      "metadata": {
        "id": "nWtgv3W_sH9V"
      }
    },
    {
      "cell_type": "code",
      "source": [
        "modelRNN.compile(loss='binary_crossentropy', optimizer='adam', metrics=['accuracy'])\n",
        "\n",
        "#allow to save our model param after each epoch during training \n",
        "modelcheckpoint = ModelCheckpoint(filepath=output_dir+\n",
        "                                  \"/weights.{epoch:02d}.hdf5\")\n",
        "\n",
        "#if the output_dir directory doesn't already exist, we use the makedirs() metho to make it \n",
        "if not os.path.exists(output_dir):\n",
        "  os.makedirs(output_dir)\n",
        "\n",
        "history = modelRNN.fit(x=padded_train,y = y_train,\n",
        "          batch_size=batch_size, epochs=epochs, verbose=1,\n",
        "          validation_data=(padded_test,y_test),\n",
        "          callbacks=[modelcheckpoint])"
      ],
      "metadata": {
        "id": "hc5DPCcVsJRS",
        "colab": {
          "base_uri": "https://localhost:8080/"
        },
        "outputId": "08373927-6530-4441-d77d-a4bf4453abfe"
      },
      "execution_count": 52,
      "outputs": [
        {
          "output_type": "stream",
          "name": "stdout",
          "text": [
            "Epoch 1/16\n",
            "30/30 [==============================] - 5s 138ms/step - loss: 0.4168 - accuracy: 0.8472 - val_loss: 0.3868 - val_accuracy: 0.8662\n",
            "Epoch 2/16\n",
            "30/30 [==============================] - 4s 130ms/step - loss: 0.4020 - accuracy: 0.8565 - val_loss: 0.3828 - val_accuracy: 0.8662\n",
            "Epoch 3/16\n",
            "30/30 [==============================] - 5s 169ms/step - loss: 0.3567 - accuracy: 0.8655 - val_loss: 0.3340 - val_accuracy: 0.8662\n",
            "Epoch 4/16\n",
            "30/30 [==============================] - 4s 131ms/step - loss: 0.2476 - accuracy: 0.8961 - val_loss: 0.1866 - val_accuracy: 0.9525\n",
            "Epoch 5/16\n",
            "30/30 [==============================] - 4s 130ms/step - loss: 0.0834 - accuracy: 0.9744 - val_loss: 0.1284 - val_accuracy: 0.9587\n",
            "Epoch 6/16\n",
            "30/30 [==============================] - 4s 128ms/step - loss: 0.0247 - accuracy: 0.9934 - val_loss: 0.0796 - val_accuracy: 0.9747\n",
            "Epoch 7/16\n",
            "30/30 [==============================] - 4s 131ms/step - loss: 0.0095 - accuracy: 0.9968 - val_loss: 0.0782 - val_accuracy: 0.9760\n",
            "Epoch 8/16\n",
            "30/30 [==============================] - 4s 127ms/step - loss: 0.0041 - accuracy: 0.9995 - val_loss: 0.0857 - val_accuracy: 0.9778\n",
            "Epoch 9/16\n",
            "30/30 [==============================] - 4s 128ms/step - loss: 0.0023 - accuracy: 0.9997 - val_loss: 0.0828 - val_accuracy: 0.9766\n",
            "Epoch 10/16\n",
            "30/30 [==============================] - 4s 128ms/step - loss: 0.0017 - accuracy: 0.9997 - val_loss: 0.0624 - val_accuracy: 0.9797\n",
            "Epoch 11/16\n",
            "30/30 [==============================] - 5s 152ms/step - loss: 9.9815e-04 - accuracy: 1.0000 - val_loss: 0.0750 - val_accuracy: 0.9778\n",
            "Epoch 12/16\n",
            "30/30 [==============================] - 5s 165ms/step - loss: 6.5712e-04 - accuracy: 1.0000 - val_loss: 0.0701 - val_accuracy: 0.9790\n",
            "Epoch 13/16\n",
            "30/30 [==============================] - 4s 130ms/step - loss: 7.1396e-04 - accuracy: 1.0000 - val_loss: 0.0883 - val_accuracy: 0.9772\n",
            "Epoch 14/16\n",
            "30/30 [==============================] - 4s 127ms/step - loss: 3.9234e-04 - accuracy: 1.0000 - val_loss: 0.0748 - val_accuracy: 0.9784\n",
            "Epoch 15/16\n",
            "30/30 [==============================] - 5s 173ms/step - loss: 6.1690e-04 - accuracy: 0.9997 - val_loss: 0.0599 - val_accuracy: 0.9834\n",
            "Epoch 16/16\n",
            "30/30 [==============================] - 4s 135ms/step - loss: 3.0822e-04 - accuracy: 1.0000 - val_loss: 0.0750 - val_accuracy: 0.9790\n"
          ]
        }
      ]
    },
    {
      "cell_type": "code",
      "source": [
        "loss_train = history.history['accuracy']\n",
        "loss_val = history.history['val_accuracy']\n",
        "epochs = range(1,17)\n",
        "plt.plot(epochs, loss_train, 'b', label = 'Training accuracy')\n",
        "plt.plot(epochs, loss_val, 'g', label = 'validation accuracy')\n",
        "plt.title('Training and validation accuracy')\n",
        "plt.xlabel('Epochs')\n",
        "plt.ylabel('Accuracy')\n",
        "plt.legend()\n",
        "plt.show()"
      ],
      "metadata": {
        "id": "ZP6UtCNBrhny",
        "colab": {
          "base_uri": "https://localhost:8080/",
          "height": 295
        },
        "outputId": "b8abd594-87db-4ab5-c81f-d04d9a07ed93"
      },
      "execution_count": 53,
      "outputs": [
        {
          "output_type": "display_data",
          "data": {
            "text/plain": [
              "<Figure size 432x288 with 1 Axes>"
            ],
            "image/png": "[encoded data removed]"
          },
          "metadata": {
            "needs_background": "light"
          }
        }
      ]
    },
    {
      "cell_type": "code",
      "source": [
        "loss_train = history.history['loss']\n",
        "loss_val = history.history['val_loss']\n",
        "epochs = range(1,17)\n",
        "plt.plot(epochs, loss_train, 'b', label = 'Training loss')\n",
        "plt.plot(epochs, loss_val, 'g', label = 'validation loss')\n",
        "plt.title('Training and validation loss')\n",
        "plt.xlabel('Epochs')\n",
        "plt.ylabel('Loss/Error')\n",
        "plt.legend()\n",
        "plt.show()"
      ],
      "metadata": {
        "id": "cmOnddtnrkyk",
        "colab": {
          "base_uri": "https://localhost:8080/",
          "height": 295
        },
        "outputId": "2a9b02e0-4556-4a10-b37b-e87e7beb6133"
      },
      "execution_count": 54,
      "outputs": [
        {
          "output_type": "display_data",
          "data": {
            "text/plain": [
              "<Figure size 432x288 with 1 Axes>"
            ],
            "image/png": "[encoded data removed]"
          },
          "metadata": {
            "needs_background": "light"
          }
        }
      ]
    },
    {
      "cell_type": "markdown",
      "source": [
        "Evaluate"
      ],
      "metadata": {
        "id": "LtLUfrfOtT7Y"
      }
    },
    {
      "cell_type": "code",
      "source": [
        "\n",
        "modelRNN.load_weights(output_dir+\"/weights.16.hdf5\") \n"
      ],
      "metadata": {
        "id": "ZghMrEzNtaWi"
      },
      "execution_count": 55,
      "outputs": []
    },
    {
      "cell_type": "code",
      "source": [
        "y_hat = modelRNN.predict(padded_test)"
      ],
      "metadata": {
        "id": "7c9IasCKh0Un",
        "colab": {
          "base_uri": "https://localhost:8080/"
        },
        "outputId": "0c69843b-fca6-40fc-ab58-5a05170b1ea8"
      },
      "execution_count": 56,
      "outputs": [
        {
          "output_type": "stream",
          "name": "stdout",
          "text": [
            "51/51 [==============================] - 1s 10ms/step\n"
          ]
        }
      ]
    },
    {
      "cell_type": "code",
      "source": [
        "\"{:0.2f}\".format(roc_auc_score(y_test, y_hat)*100.0)"
      ],
      "metadata": {
        "id": "y0rL-TbFiGQP",
        "colab": {
          "base_uri": "https://localhost:8080/",
          "height": 35
        },
        "outputId": "ce3d4ad6-dfa6-4751-8a54-e2b448f3a9b8"
      },
      "execution_count": 57,
      "outputs": [
        {
          "output_type": "execute_result",
          "data": {
            "text/plain": [
              "'98.95'"
            ],
            "application/vnd.google.colaboratory.intrinsic+json": {
              "type": "string"
            }
          },
          "metadata": {},
          "execution_count": 57
        }
      ]
    },
    {
      "cell_type": "code",
      "source": [
        "fpr , tpr , thresholds = roc_curve (y_test , y_hat)\n",
        "plt.plot(fpr,tpr) \n",
        "plt.axis([0,1,0,1]) \n",
        "plt.title('False Positive Rate vs True Positive Rate ROC-AUC')\n",
        "plt.xlabel('False Positive Rate') \n",
        "plt.ylabel('True Positive Rate') \n",
        "plt.show()"
      ],
      "metadata": {
        "id": "IRCO5KrqiY5T",
        "colab": {
          "base_uri": "https://localhost:8080/",
          "height": 295
        },
        "outputId": "e73c417b-f459-4b51-c331-09b399242b42"
      },
      "execution_count": 58,
      "outputs": [
        {
          "output_type": "display_data",
          "data": {
            "text/plain": [
              "<Figure size 432x288 with 1 Axes>"
            ],
            "image/png": "[encoded data removed]"
          },
          "metadata": {
            "needs_background": "light"
          }
        }
      ]
    },
    {
      "cell_type": "markdown",
      "source": [
        "LSTM"
      ],
      "metadata": {
        "id": "ORiLomJqiyMG"
      }
    },
    {
      "cell_type": "markdown",
      "source": [
        "hyperparameters for LSTM model"
      ],
      "metadata": {
        "id": "he3jN-0GjPbJ"
      }
    },
    {
      "cell_type": "code",
      "source": [
        "output_dir = 'model_output/LSTM'\n",
        "epochs = 4\n",
        "n_unique_words = 10000\n",
        "drop_embed = 0.2\n",
        "\n",
        "n_lstm=256\n",
        "drop_lstm = 0.2\n"
      ],
      "metadata": {
        "id": "f8K2keUTjOS9"
      },
      "execution_count": 59,
      "outputs": []
    },
    {
      "cell_type": "markdown",
      "source": [
        "LSTM neural Network architecture"
      ],
      "metadata": {
        "id": "zllZ1AAgjrGp"
      }
    },
    {
      "cell_type": "code",
      "source": [
        "modelLSTM = Sequential()\n",
        "\n",
        "#1st hidden layer \n",
        "modelLSTM.add(Embedding(n_unique_words, n_dim, input_length = max_mssg_length))\n",
        "modelLSTM.add(SpatialDropout1D(drop_embed))\n",
        "\n",
        "#2nd hidden layer: \n",
        "modelLSTM.add(LSTM(n_lstm, dropout=drop_lstm))\n",
        "\n",
        "#Output layer\n",
        "modelLSTM.add(Dense(1, activation='sigmoid')) \n",
        "\n",
        "modelLSTM.summary()"
      ],
      "metadata": {
        "id": "-MDw3JDfjvBj",
        "colab": {
          "base_uri": "https://localhost:8080/"
        },
        "outputId": "644c25e9-330b-4698-e81e-330ef1d8aeea"
      },
      "execution_count": 60,
      "outputs": [
        {
          "output_type": "stream",
          "name": "stdout",
          "text": [
            "Model: \"sequential_3\"\n",
            "_________________________________________________________________\n",
            " Layer (type)                Output Shape              Param #   \n",
            "=================================================================\n",
            " embedding_3 (Embedding)     (None, 100, 64)           640000    \n",
            "                                                                 \n",
            " spatial_dropout1d_2 (Spatia  (None, 100, 64)          0         \n",
            " lDropout1D)                                                     \n",
            "                                                                 \n",
            " lstm (LSTM)                 (None, 256)               328704    \n",
            "                                                                 \n",
            " dense_5 (Dense)             (None, 1)                 257       \n",
            "                                                                 \n",
            "=================================================================\n",
            "Total params: 968,961\n",
            "Trainable params: 968,961\n",
            "Non-trainable params: 0\n",
            "_________________________________________________________________\n"
          ]
        }
      ]
    },
    {
      "cell_type": "markdown",
      "source": [
        "configure LSTM model"
      ],
      "metadata": {
        "id": "fqKWe_V3kMBn"
      }
    },
    {
      "cell_type": "code",
      "source": [
        "modelLSTM.compile(loss='binary_crossentropy', optimizer='adam', metrics=['accuracy'])\n",
        "\n",
        "#allow to save our model param after each epoch during training \n",
        "modelcheckpoint = ModelCheckpoint(filepath=output_dir+\n",
        "                                  \"/weights.{epoch:02d}.hdf5\")\n",
        "\n",
        "#if the output_dir directory doesn't already exist, we use the makedirs() metho to make it \n",
        "if not os.path.exists(output_dir):\n",
        "  os.makedirs(output_dir)\n",
        "\n",
        "history = modelLSTM.fit(x=padded_train,y = y_train,\n",
        "          batch_size=batch_size, epochs=epochs, verbose=1,\n",
        "          validation_data=(padded_test,y_test),\n",
        "          callbacks=[modelcheckpoint])"
      ],
      "metadata": {
        "id": "E7zcz-UskOlW",
        "colab": {
          "base_uri": "https://localhost:8080/"
        },
        "outputId": "b2de5562-d5c7-46a5-e14c-d51dc138f6cc"
      },
      "execution_count": 61,
      "outputs": [
        {
          "output_type": "stream",
          "name": "stdout",
          "text": [
            "Epoch 1/4\n",
            "30/30 [==============================] - 4s 39ms/step - loss: 0.3735 - accuracy: 0.8652 - val_loss: 0.1558 - val_accuracy: 0.9753\n",
            "Epoch 2/4\n",
            "30/30 [==============================] - 1s 19ms/step - loss: 0.0755 - accuracy: 0.9799 - val_loss: 0.0784 - val_accuracy: 0.9766\n",
            "Epoch 3/4\n",
            "30/30 [==============================] - 1s 18ms/step - loss: 0.0372 - accuracy: 0.9905 - val_loss: 0.0934 - val_accuracy: 0.9753\n",
            "Epoch 4/4\n",
            "30/30 [==============================] - 1s 21ms/step - loss: 0.0258 - accuracy: 0.9934 - val_loss: 0.0530 - val_accuracy: 0.9846\n"
          ]
        }
      ]
    },
    {
      "cell_type": "markdown",
      "source": [
        "Train LSTM model "
      ],
      "metadata": {
        "id": "6eQDorymksAr"
      }
    },
    {
      "cell_type": "code",
      "source": [
        "loss_train = history.history['accuracy']\n",
        "loss_val = history.history['val_accuracy']\n",
        "epochs = range(1,5)\n",
        "plt.plot(epochs, loss_train, 'b', label = 'Training accuracy')\n",
        "plt.plot(epochs, loss_val, 'g', label = 'validation accuracy')\n",
        "plt.title('Training and validation accuracy')\n",
        "plt.xlabel('Epochs')\n",
        "plt.ylabel('Accuracy')\n",
        "plt.legend()\n",
        "plt.show()"
      ],
      "metadata": {
        "id": "rLGapBPwkt2T",
        "colab": {
          "base_uri": "https://localhost:8080/",
          "height": 295
        },
        "outputId": "bc22b594-3771-4d70-a285-bbe1fa6f1713"
      },
      "execution_count": 62,
      "outputs": [
        {
          "output_type": "display_data",
          "data": {
            "text/plain": [
              "<Figure size 432x288 with 1 Axes>"
            ],
            "image/png": "[encoded data removed]"
          },
          "metadata": {
            "needs_background": "light"
          }
        }
      ]
    },
    {
      "cell_type": "code",
      "source": [
        "loss_train = history.history['loss']\n",
        "loss_val = history.history['val_loss']\n",
        "epochs = range(1,5)\n",
        "plt.plot(epochs, loss_train, 'b', label = 'Training loss')\n",
        "plt.plot(epochs, loss_val, 'g', label = 'validation loss')\n",
        "plt.title('Training and validation loss')\n",
        "plt.xlabel('Epochs')\n",
        "plt.ylabel('Loss/Error')\n",
        "plt.legend()\n",
        "plt.show()"
      ],
      "metadata": {
        "id": "7jtv-BXWlb7Y",
        "colab": {
          "base_uri": "https://localhost:8080/",
          "height": 295
        },
        "outputId": "6ac9fffb-3864-401e-b1b3-dd9ada8b6682"
      },
      "execution_count": 63,
      "outputs": [
        {
          "output_type": "display_data",
          "data": {
            "text/plain": [
              "<Figure size 432x288 with 1 Axes>"
            ],
            "image/png": "[encoded data removed]"
          },
          "metadata": {
            "needs_background": "light"
          }
        }
      ]
    },
    {
      "cell_type": "markdown",
      "source": [
        "Evaluate LSTM model"
      ],
      "metadata": {
        "id": "7s9SPJA_lmtA"
      }
    },
    {
      "cell_type": "code",
      "source": [
        "modelLSTM.load_weights(output_dir+\"/weights.01.hdf5\")\n",
        "y_hat = modelLSTM.predict(padded_test)"
      ],
      "metadata": {
        "id": "qjWrqHZXlogM",
        "colab": {
          "base_uri": "https://localhost:8080/"
        },
        "outputId": "d16b507f-d565-414b-af01-88b8a66bf732"
      },
      "execution_count": 64,
      "outputs": [
        {
          "output_type": "stream",
          "name": "stdout",
          "text": [
            "51/51 [==============================] - 1s 4ms/step\n"
          ]
        }
      ]
    },
    {
      "cell_type": "code",
      "source": [
        "plt.hist(y_hat)\n",
        "_ = plt.axvline(x=0.5, color='orange')"
      ],
      "metadata": {
        "id": "Y3f7o-lgmE0y",
        "colab": {
          "base_uri": "https://localhost:8080/",
          "height": 265
        },
        "outputId": "96ef8772-8386-4bfd-f387-14d0733d7926"
      },
      "execution_count": 65,
      "outputs": [
        {
          "output_type": "display_data",
          "data": {
            "text/plain": [
              "<Figure size 432x288 with 1 Axes>"
            ],
            "image/png": "[encoded data removed]"
          },
          "metadata": {
            "needs_background": "light"
          }
        }
      ]
    },
    {
      "cell_type": "code",
      "source": [
        "\"{:0.2f}\".format(roc_auc_score(y_test, y_hat)*100.0)"
      ],
      "metadata": {
        "id": "k0Sd1IajmcC-",
        "colab": {
          "base_uri": "https://localhost:8080/",
          "height": 35
        },
        "outputId": "27e9bff7-5d76-4518-8856-f3131896a758"
      },
      "execution_count": 66,
      "outputs": [
        {
          "output_type": "execute_result",
          "data": {
            "text/plain": [
              "'95.12'"
            ],
            "application/vnd.google.colaboratory.intrinsic+json": {
              "type": "string"
            }
          },
          "metadata": {},
          "execution_count": 66
        }
      ]
    },
    {
      "cell_type": "code",
      "source": [
        "fpr , tpr , thresholds = roc_curve (y_test , y_hat)\n",
        "plt.plot(fpr,tpr) \n",
        "plt.axis([0,1,0,1]) \n",
        "plt.title('False Positive Rate vs True Positive Rate ROC-AUC')\n",
        "plt.xlabel('False Positive Rate') \n",
        "plt.ylabel('True Positive Rate') \n",
        "plt.show()"
      ],
      "metadata": {
        "id": "KauO7dlzmkPq",
        "colab": {
          "base_uri": "https://localhost:8080/",
          "height": 295
        },
        "outputId": "39f1290e-1f7d-4a00-abf6-5e22a3a2e7a6"
      },
      "execution_count": 67,
      "outputs": [
        {
          "output_type": "display_data",
          "data": {
            "text/plain": [
              "<Figure size 432x288 with 1 Axes>"
            ],
            "image/png": "[encoded data removed]"
          },
          "metadata": {
            "needs_background": "light"
          }
        }
      ]
    },
    {
      "cell_type": "markdown",
      "source": [
        "6.) Tune the best model.\n",
        "    This was our CNN model which had a ROC_AUC score of 98.93\n",
        "    The only tuning we'll use is to increase the number of epochs"
      ],
      "metadata": {
        "id": "XNuNuJCunk34"
      }
    },
    {
      "cell_type": "code",
      "source": [
        "n_dense = 256\n",
        "dropout = 0.2\n",
        "output_dir = 'model_output/conv_tuned'\n",
        "epochs = 20\n",
        "\n",
        "modelCNNtuned = Sequential()\n",
        "# 1st hidden layer: vector-space embedding\n",
        "modelCNNtuned.add(Embedding(n_unique_words, n_dim, input_length=max_mssg_length)) \n",
        "modelCNNtuned.add(SpatialDropout1D(drop_embed)) # no Flatten(),Conv1D() layer takes multidimension\n",
        "\n",
        "# 2nd hidden layer : convolutional layer\n",
        "# We use relu activation within our one-dimensional convolutional layer. The layer has \n",
        "# 256 unique filters, each of which is free to specialize in activating when it passes over \n",
        "# a particular three-token sequence. The activation map for each of the 256 filters has a \n",
        "# length of 398, corresponding to a 398×256 output shape\n",
        "modelCNNtuned.add(Conv1D(n_conv, k_conv, activation='relu'))\n",
        "# model.add(Conv1D(n_conv, k_conv, activation='relu')) # can add more hidden layer\n",
        "\n",
        "# Global max-pooling is common for dimensionality reduction within deep learning NLP models. \n",
        "# We use it here to squash the activation map from 398 × 256 to 1 × 256. By applying it, only \n",
        "# the magnitude of largest activation for a given convolutional filter is retained by the \n",
        "# maximum-calculating operation, and we lose any temporal-position-specific information the \n",
        "#filter may have output to its 398-element-long activation map\n",
        "modelCNNtuned.add(GlobalMaxPooling1D()) # not a hidden layer\n",
        "\n",
        "# Dense layer\n",
        "# Because the activations output from the global max-pooling layer are one-dimensional, \n",
        "#they can be fed directly into the dense layer, which consists (again) of relu neurons and \n",
        "# dropout is applied\n",
        "modelCNNtuned.add(Dense(n_dense, activation='relu'))\n",
        "modelCNNtuned.add(Dropout(dropout))\n",
        "\n",
        "# Output layer\n",
        "modelCNNtuned.add(Dense(1, activation='sigmoid'))"
      ],
      "metadata": {
        "id": "h2oYygQwoEVQ"
      },
      "execution_count": 68,
      "outputs": []
    },
    {
      "cell_type": "code",
      "source": [
        "modelCNNtuned.summary()"
      ],
      "metadata": {
        "id": "Wnzr7DHtoaFY",
        "colab": {
          "base_uri": "https://localhost:8080/"
        },
        "outputId": "c0b82c95-f2e9-426d-c109-cfd45c9f76a1"
      },
      "execution_count": 69,
      "outputs": [
        {
          "output_type": "stream",
          "name": "stdout",
          "text": [
            "Model: \"sequential_4\"\n",
            "_________________________________________________________________\n",
            " Layer (type)                Output Shape              Param #   \n",
            "=================================================================\n",
            " embedding_4 (Embedding)     (None, 100, 64)           640000    \n",
            "                                                                 \n",
            " spatial_dropout1d_3 (Spatia  (None, 100, 64)          0         \n",
            " lDropout1D)                                                     \n",
            "                                                                 \n",
            " conv1d_1 (Conv1D)           (None, 98, 256)           49408     \n",
            "                                                                 \n",
            " global_max_pooling1d_1 (Glo  (None, 256)              0         \n",
            " balMaxPooling1D)                                                \n",
            "                                                                 \n",
            " dense_6 (Dense)             (None, 256)               65792     \n",
            "                                                                 \n",
            " dropout_2 (Dropout)         (None, 256)               0         \n",
            "                                                                 \n",
            " dense_7 (Dense)             (None, 1)                 257       \n",
            "                                                                 \n",
            "=================================================================\n",
            "Total params: 755,457\n",
            "Trainable params: 755,457\n",
            "Non-trainable params: 0\n",
            "_________________________________________________________________\n"
          ]
        }
      ]
    },
    {
      "cell_type": "code",
      "source": [
        "modelCNNtuned.compile(loss='binary_crossentropy', optimizer='adam', metrics=['accuracy'])\n",
        "#allow to save our model param after each epoch during training \n",
        "modelcheckpoint = ModelCheckpoint(filepath=output_dir+\n",
        "                                  \"/weights.{epoch:02d}.hdf5\")\n",
        "\n",
        "#if the output_dir directory doesn't already exist, we use the makedirs() metho to make it \n",
        "if not os.path.exists(output_dir):\n",
        "  os.makedirs(output_dir)"
      ],
      "metadata": {
        "id": "wnrUYYWMol1M"
      },
      "execution_count": 70,
      "outputs": []
    },
    {
      "cell_type": "code",
      "source": [
        "history = modelCNNtuned.fit(x=padded_train,y = y_train,\n",
        "          batch_size=batch_size, epochs=epochs, verbose=1,\n",
        "          validation_data=(padded_test,y_test),\n",
        "          callbacks=[modelcheckpoint])"
      ],
      "metadata": {
        "id": "uJKwAvoepDbP",
        "colab": {
          "base_uri": "https://localhost:8080/"
        },
        "outputId": "e22a1968-cca1-47b8-da0c-1f9f49cc287f"
      },
      "execution_count": 71,
      "outputs": [
        {
          "output_type": "stream",
          "name": "stdout",
          "text": [
            "Epoch 1/20\n",
            "30/30 [==============================] - 1s 15ms/step - loss: 0.4625 - accuracy: 0.8417 - val_loss: 0.3835 - val_accuracy: 0.8662\n",
            "Epoch 2/20\n",
            "30/30 [==============================] - 0s 10ms/step - loss: 0.3431 - accuracy: 0.8655 - val_loss: 0.2826 - val_accuracy: 0.8662\n",
            "Epoch 3/20\n",
            "30/30 [==============================] - 0s 10ms/step - loss: 0.2104 - accuracy: 0.8972 - val_loss: 0.1605 - val_accuracy: 0.9642\n",
            "Epoch 4/20\n",
            "30/30 [==============================] - 0s 10ms/step - loss: 0.0693 - accuracy: 0.9852 - val_loss: 0.0561 - val_accuracy: 0.9827\n",
            "Epoch 5/20\n",
            "30/30 [==============================] - 0s 10ms/step - loss: 0.0170 - accuracy: 0.9955 - val_loss: 0.0527 - val_accuracy: 0.9840\n",
            "Epoch 6/20\n",
            "30/30 [==============================] - 0s 10ms/step - loss: 0.0071 - accuracy: 0.9981 - val_loss: 0.0564 - val_accuracy: 0.9852\n",
            "Epoch 7/20\n",
            "30/30 [==============================] - 0s 9ms/step - loss: 0.0020 - accuracy: 1.0000 - val_loss: 0.0615 - val_accuracy: 0.9852\n",
            "Epoch 8/20\n",
            "30/30 [==============================] - 0s 9ms/step - loss: 0.0013 - accuracy: 1.0000 - val_loss: 0.0681 - val_accuracy: 0.9852\n",
            "Epoch 9/20\n",
            "30/30 [==============================] - 0s 9ms/step - loss: 6.4548e-04 - accuracy: 1.0000 - val_loss: 0.0704 - val_accuracy: 0.9852\n",
            "Epoch 10/20\n",
            "30/30 [==============================] - 0s 9ms/step - loss: 4.8188e-04 - accuracy: 1.0000 - val_loss: 0.0715 - val_accuracy: 0.9852\n",
            "Epoch 11/20\n",
            "30/30 [==============================] - 0s 8ms/step - loss: 3.2763e-04 - accuracy: 1.0000 - val_loss: 0.0731 - val_accuracy: 0.9852\n",
            "Epoch 12/20\n",
            "30/30 [==============================] - 0s 9ms/step - loss: 2.2559e-04 - accuracy: 1.0000 - val_loss: 0.0759 - val_accuracy: 0.9864\n",
            "Epoch 13/20\n",
            "30/30 [==============================] - 0s 9ms/step - loss: 2.2410e-04 - accuracy: 1.0000 - val_loss: 0.0764 - val_accuracy: 0.9852\n",
            "Epoch 14/20\n",
            "30/30 [==============================] - 0s 10ms/step - loss: 1.5604e-04 - accuracy: 1.0000 - val_loss: 0.0774 - val_accuracy: 0.9852\n",
            "Epoch 15/20\n",
            "30/30 [==============================] - 0s 9ms/step - loss: 1.4064e-04 - accuracy: 1.0000 - val_loss: 0.0795 - val_accuracy: 0.9864\n",
            "Epoch 16/20\n",
            "30/30 [==============================] - 0s 10ms/step - loss: 1.3528e-04 - accuracy: 1.0000 - val_loss: 0.0793 - val_accuracy: 0.9864\n",
            "Epoch 17/20\n",
            "30/30 [==============================] - 0s 9ms/step - loss: 1.1702e-04 - accuracy: 1.0000 - val_loss: 0.0808 - val_accuracy: 0.9864\n",
            "Epoch 18/20\n",
            "30/30 [==============================] - 0s 11ms/step - loss: 1.0183e-04 - accuracy: 1.0000 - val_loss: 0.0815 - val_accuracy: 0.9864\n",
            "Epoch 19/20\n",
            "30/30 [==============================] - 0s 10ms/step - loss: 8.5728e-05 - accuracy: 1.0000 - val_loss: 0.0823 - val_accuracy: 0.9864\n",
            "Epoch 20/20\n",
            "30/30 [==============================] - 0s 9ms/step - loss: 6.7565e-05 - accuracy: 1.0000 - val_loss: 0.0831 - val_accuracy: 0.9864\n"
          ]
        }
      ]
    },
    {
      "cell_type": "code",
      "source": [
        "loss_train = history.history['accuracy']\n",
        "loss_val = history.history['val_accuracy']\n",
        "epochs = range(1,21)\n",
        "plt.plot(epochs, loss_train, 'b', label = 'Training accuracy')\n",
        "plt.plot(epochs, loss_val, 'g', label = 'validation accuracy')\n",
        "plt.title('Training and validation accuracy')\n",
        "plt.xlabel('Epochs')\n",
        "plt.ylabel('Accuracy')\n",
        "plt.legend()\n",
        "plt.show()"
      ],
      "metadata": {
        "id": "eDADgDqQrsZ2",
        "colab": {
          "base_uri": "https://localhost:8080/",
          "height": 295
        },
        "outputId": "31d14c98-ba00-433c-e909-f21ff6134496"
      },
      "execution_count": 72,
      "outputs": [
        {
          "output_type": "display_data",
          "data": {
            "text/plain": [
              "<Figure size 432x288 with 1 Axes>"
            ],
            "image/png": "[encoded data removed]"
          },
          "metadata": {
            "needs_background": "light"
          }
        }
      ]
    },
    {
      "cell_type": "code",
      "source": [
        "loss_train = history.history['loss']\n",
        "loss_val = history.history['val_loss']\n",
        "epochs = range(1,21)\n",
        "plt.plot(epochs, loss_train, 'b', label = 'Training loss')\n",
        "plt.plot(epochs, loss_val, 'g', label = 'validation loss')\n",
        "plt.title('Training and validation loss')\n",
        "plt.xlabel('Epochs')\n",
        "plt.ylabel('Loss/Error')\n",
        "plt.legend()\n",
        "plt.show()"
      ],
      "metadata": {
        "id": "W5pqZEoxrtas",
        "colab": {
          "base_uri": "https://localhost:8080/",
          "height": 295
        },
        "outputId": "c4b16db4-64d0-4bc6-d3d1-e34219223f23"
      },
      "execution_count": 73,
      "outputs": [
        {
          "output_type": "display_data",
          "data": {
            "text/plain": [
              "<Figure size 432x288 with 1 Axes>"
            ],
            "image/png": "[encoded data removed]"
          },
          "metadata": {
            "needs_background": "light"
          }
        }
      ]
    },
    {
      "cell_type": "code",
      "source": [
        "modelCNNtuned.load_weights(output_dir+\"/weights.15.hdf5\") \n",
        "y_hat = modelCNN.predict(padded_test)"
      ],
      "metadata": {
        "id": "41oQ_rCypWHC",
        "colab": {
          "base_uri": "https://localhost:8080/"
        },
        "outputId": "eeab72ea-8168-418b-a0c8-f5978d5f8c3c"
      },
      "execution_count": 74,
      "outputs": [
        {
          "output_type": "stream",
          "name": "stdout",
          "text": [
            "51/51 [==============================] - 0s 2ms/step\n"
          ]
        }
      ]
    },
    {
      "cell_type": "code",
      "source": [
        "\"{:0.2f}\".format(roc_auc_score(y_test, y_hat)*100.0)"
      ],
      "metadata": {
        "id": "AmKvLij_plHd",
        "colab": {
          "base_uri": "https://localhost:8080/",
          "height": 35
        },
        "outputId": "0df647a3-4462-41e9-f44d-6105951cf814"
      },
      "execution_count": 75,
      "outputs": [
        {
          "output_type": "execute_result",
          "data": {
            "text/plain": [
              "'98.87'"
            ],
            "application/vnd.google.colaboratory.intrinsic+json": {
              "type": "string"
            }
          },
          "metadata": {},
          "execution_count": 75
        }
      ]
    },
    {
      "cell_type": "code",
      "source": [
        "fpr , tpr , thresholds = roc_curve (y_test , y_hat)\n",
        "plt.plot(fpr,tpr) \n",
        "plt.axis([0,1,0,1]) \n",
        "plt.title('False Positive Rate vs True Positive Rate ROC-AUC')\n",
        "plt.xlabel('False Positive Rate') \n",
        "plt.ylabel('True Positive Rate') \n",
        "plt.show()"
      ],
      "metadata": {
        "id": "juIacw1XppSN",
        "colab": {
          "base_uri": "https://localhost:8080/",
          "height": 295
        },
        "outputId": "b9770e63-125b-402b-eea9-43a30175c0cd"
      },
      "execution_count": 76,
      "outputs": [
        {
          "output_type": "display_data",
          "data": {
            "text/plain": [
              "<Figure size 432x288 with 1 Axes>"
            ],
            "image/png": "[encoded data removed]"
          },
          "metadata": {
            "needs_background": "light"
          }
        }
      ]
    }
  ]
}