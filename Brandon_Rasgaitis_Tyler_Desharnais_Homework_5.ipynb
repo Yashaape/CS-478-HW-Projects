{
  "nbformat": 4,
  "nbformat_minor": 0,
  "metadata": {
    "colab": {
      "provenance": []
    },
    "kernelspec": {
      "name": "python3",
      "display_name": "Python 3"
    },
    "language_info": {
      "name": "python"
    },
    "accelerator": "GPU",
    "gpuClass": "standard"
  },
  "cells": [
    {
      "cell_type": "markdown",
      "source": [
        "Load Dependencies "
      ],
      "metadata": {
        "id": "cYZ3sucEtaxf"
      }
    },
    {
      "cell_type": "code",
      "source": [
        "import nltk\n",
        "nltk.download('punkt')\n",
        "nltk.download('stopwords')\n",
        "nltk.download('wordnet')\n",
        "nltk.download('averaged_perceptron_tagger')\n",
        "nltk.download('maxent_ne_chunker')"
      ],
      "metadata": {
        "colab": {
          "base_uri": "https://localhost:8080/"
        },
        "id": "kx_BHHVE5fz4",
        "outputId": "098c4fc5-1a00-47fd-f053-ec6e7c775e72"
      },
      "execution_count": 1,
      "outputs": [
        {
          "output_type": "stream",
          "name": "stderr",
          "text": [
            "[nltk_data] Downloading package punkt to /root/nltk_data...\n",
            "[nltk_data]   Unzipping tokenizers/punkt.zip.\n",
            "[nltk_data] Downloading package stopwords to /root/nltk_data...\n",
            "[nltk_data]   Unzipping corpora/stopwords.zip.\n",
            "[nltk_data] Downloading package wordnet to /root/nltk_data...\n",
            "[nltk_data] Downloading package averaged_perceptron_tagger to\n",
            "[nltk_data]     /root/nltk_data...\n",
            "[nltk_data]   Unzipping taggers/averaged_perceptron_tagger.zip.\n",
            "[nltk_data] Downloading package maxent_ne_chunker to\n",
            "[nltk_data]     /root/nltk_data...\n",
            "[nltk_data]   Unzipping chunkers/maxent_ne_chunker.zip.\n"
          ]
        },
        {
          "output_type": "execute_result",
          "data": {
            "text/plain": [
              "True"
            ]
          },
          "metadata": {},
          "execution_count": 1
        }
      ]
    },
    {
      "cell_type": "code",
      "execution_count": 2,
      "metadata": {
        "id": "a8T2CKUps7b6",
        "colab": {
          "base_uri": "https://localhost:8080/",
          "height": 206
        },
        "outputId": "a995dee7-d524-4c91-bf78-4ee6b3e9a273"
      },
      "outputs": [
        {
          "output_type": "execute_result",
          "data": {
            "text/plain": [
              "  class                                            message Unnamed: 2  \\\n",
              "0   ham  Go until jurong point, crazy.. Available only ...        NaN   \n",
              "1   ham                      Ok lar... Joking wif u oni...        NaN   \n",
              "2  spam  Free entry in 2 a wkly comp to win FA Cup fina...        NaN   \n",
              "3   ham  U dun say so early hor... U c already then say...        NaN   \n",
              "4   ham  Nah I don't think he goes to usf, he lives aro...        NaN   \n",
              "\n",
              "  Unnamed: 3 Unnamed: 4  \n",
              "0        NaN        NaN  \n",
              "1        NaN        NaN  \n",
              "2        NaN        NaN  \n",
              "3        NaN        NaN  \n",
              "4        NaN        NaN  "
            ],
            "text/html": [
              "\n",
              "  <div id=\"df-49872b8e-6083-4d1d-ab54-bbc31ea5e075\">\n",
              "    <div class=\"colab-df-container\">\n",
              "      <div>\n",
              "<style scoped>\n",
              "    .dataframe tbody tr th:only-of-type {\n",
              "        vertical-align: middle;\n",
              "    }\n",
              "\n",
              "    .dataframe tbody tr th {\n",
              "        vertical-align: top;\n",
              "    }\n",
              "\n",
              "    .dataframe thead th {\n",
              "        text-align: right;\n",
              "    }\n",
              "</style>\n",
              "<table border=\"1\" class=\"dataframe\">\n",
              "  <thead>\n",
              "    <tr style=\"text-align: right;\">\n",
              "      <th></th>\n",
              "      <th>class</th>\n",
              "      <th>message</th>\n",
              "      <th>Unnamed: 2</th>\n",
              "      <th>Unnamed: 3</th>\n",
              "      <th>Unnamed: 4</th>\n",
              "    </tr>\n",
              "  </thead>\n",
              "  <tbody>\n",
              "    <tr>\n",
              "      <th>0</th>\n",
              "      <td>ham</td>\n",
              "      <td>Go until jurong point, crazy.. Available only ...</td>\n",
              "      <td>NaN</td>\n",
              "      <td>NaN</td>\n",
              "      <td>NaN</td>\n",
              "    </tr>\n",
              "    <tr>\n",
              "      <th>1</th>\n",
              "      <td>ham</td>\n",
              "      <td>Ok lar... Joking wif u oni...</td>\n",
              "      <td>NaN</td>\n",
              "      <td>NaN</td>\n",
              "      <td>NaN</td>\n",
              "    </tr>\n",
              "    <tr>\n",
              "      <th>2</th>\n",
              "      <td>spam</td>\n",
              "      <td>Free entry in 2 a wkly comp to win FA Cup fina...</td>\n",
              "      <td>NaN</td>\n",
              "      <td>NaN</td>\n",
              "      <td>NaN</td>\n",
              "    </tr>\n",
              "    <tr>\n",
              "      <th>3</th>\n",
              "      <td>ham</td>\n",
              "      <td>U dun say so early hor... U c already then say...</td>\n",
              "      <td>NaN</td>\n",
              "      <td>NaN</td>\n",
              "      <td>NaN</td>\n",
              "    </tr>\n",
              "    <tr>\n",
              "      <th>4</th>\n",
              "      <td>ham</td>\n",
              "      <td>Nah I don't think he goes to usf, he lives aro...</td>\n",
              "      <td>NaN</td>\n",
              "      <td>NaN</td>\n",
              "      <td>NaN</td>\n",
              "    </tr>\n",
              "  </tbody>\n",
              "</table>\n",
              "</div>\n",
              "      <button class=\"colab-df-convert\" onclick=\"convertToInteractive('df-49872b8e-6083-4d1d-ab54-bbc31ea5e075')\"\n",
              "              title=\"Convert this dataframe to an interactive table.\"\n",
              "              style=\"display:none;\">\n",
              "        \n",
              "  <svg xmlns=\"http://www.w3.org/2000/svg\" height=\"24px\"viewBox=\"0 0 24 24\"\n",
              "       width=\"24px\">\n",
              "    <path d=\"M0 0h24v24H0V0z\" fill=\"none\"/>\n",
              "    <path d=\"M18.56 5.44l.94 2.06.94-2.06 2.06-.94-2.06-.94-.94-2.06-.94 2.06-2.06.94zm-11 1L8.5 8.5l.94-2.06 2.06-.94-2.06-.94L8.5 2.5l-.94 2.06-2.06.94zm10 10l.94 2.06.94-2.06 2.06-.94-2.06-.94-.94-2.06-.94 2.06-2.06.94z\"/><path d=\"M17.41 7.96l-1.37-1.37c-.4-.4-.92-.59-1.43-.59-.52 0-1.04.2-1.43.59L10.3 9.45l-7.72 7.72c-.78.78-.78 2.05 0 2.83L4 21.41c.39.39.9.59 1.41.59.51 0 1.02-.2 1.41-.59l7.78-7.78 2.81-2.81c.8-.78.8-2.07 0-2.86zM5.41 20L4 18.59l7.72-7.72 1.47 1.35L5.41 20z\"/>\n",
              "  </svg>\n",
              "      </button>\n",
              "      \n",
              "  <style>\n",
              "    .colab-df-container {\n",
              "      display:flex;\n",
              "      flex-wrap:wrap;\n",
              "      gap: 12px;\n",
              "    }\n",
              "\n",
              "    .colab-df-convert {\n",
              "      background-color: #E8F0FE;\n",
              "      border: none;\n",
              "      border-radius: 50%;\n",
              "      cursor: pointer;\n",
              "      display: none;\n",
              "      fill: #1967D2;\n",
              "      height: 32px;\n",
              "      padding: 0 0 0 0;\n",
              "      width: 32px;\n",
              "    }\n",
              "\n",
              "    .colab-df-convert:hover {\n",
              "      background-color: #E2EBFA;\n",
              "      box-shadow: 0px 1px 2px rgba(60, 64, 67, 0.3), 0px 1px 3px 1px rgba(60, 64, 67, 0.15);\n",
              "      fill: #174EA6;\n",
              "    }\n",
              "\n",
              "    [theme=dark] .colab-df-convert {\n",
              "      background-color: #3B4455;\n",
              "      fill: #D2E3FC;\n",
              "    }\n",
              "\n",
              "    [theme=dark] .colab-df-convert:hover {\n",
              "      background-color: #434B5C;\n",
              "      box-shadow: 0px 1px 3px 1px rgba(0, 0, 0, 0.15);\n",
              "      filter: drop-shadow(0px 1px 2px rgba(0, 0, 0, 0.3));\n",
              "      fill: #FFFFFF;\n",
              "    }\n",
              "  </style>\n",
              "\n",
              "      <script>\n",
              "        const buttonEl =\n",
              "          document.querySelector('#df-49872b8e-6083-4d1d-ab54-bbc31ea5e075 button.colab-df-convert');\n",
              "        buttonEl.style.display =\n",
              "          google.colab.kernel.accessAllowed ? 'block' : 'none';\n",
              "\n",
              "        async function convertToInteractive(key) {\n",
              "          const element = document.querySelector('#df-49872b8e-6083-4d1d-ab54-bbc31ea5e075');\n",
              "          const dataTable =\n",
              "            await google.colab.kernel.invokeFunction('convertToInteractive',\n",
              "                                                     [key], {});\n",
              "          if (!dataTable) return;\n",
              "\n",
              "          const docLinkHtml = 'Like what you see? Visit the ' +\n",
              "            '<a target=\"_blank\" href=https://colab.research.google.com/notebooks/data_table.ipynb>data table notebook</a>'\n",
              "            + ' to learn more about interactive tables.';\n",
              "          element.innerHTML = '';\n",
              "          dataTable['output_type'] = 'display_data';\n",
              "          await google.colab.output.renderOutput(dataTable, element);\n",
              "          const docLink = document.createElement('div');\n",
              "          docLink.innerHTML = docLinkHtml;\n",
              "          element.appendChild(docLink);\n",
              "        }\n",
              "      </script>\n",
              "    </div>\n",
              "  </div>\n",
              "  "
            ]
          },
          "metadata": {},
          "execution_count": 2
        }
      ],
      "source": [
        "import pandas as pd\n",
        "import numpy as np\n",
        "\n",
        "import pickle as pk\n",
        "\n",
        "import warnings\n",
        "warnings.filterwarnings(\"ignore\")\n",
        "\n",
        "\n",
        "from bs4 import BeautifulSoup\n",
        "import unicodedata\n",
        "import re\n",
        "\n",
        "from nltk.tokenize import word_tokenize\n",
        "from nltk.tokenize import sent_tokenize\n",
        "\n",
        "from nltk.corpus import stopwords\n",
        "from nltk.corpus import wordnet\n",
        "from nltk import pos_tag\n",
        "from nltk import ne_chunk\n",
        "\n",
        "from nltk.stem.porter import PorterStemmer\n",
        "from nltk.stem.wordnet import WordNetLemmatizer\n",
        "\n",
        "from nltk.probability import FreqDist\n",
        "import matplotlib.pyplot as plt\n",
        "from wordcloud import WordCloud\n",
        "\n",
        "\n",
        "\n",
        "df = pd.read_csv('Dataset.csv')\n",
        "df.head()"
      ]
    },
    {
      "cell_type": "code",
      "source": [
        "df = df[['class', 'message']]\n",
        "\n",
        "X_mssg = df['message'].astype(str)\n",
        "Y_label = df['class'].astype(str)\n",
        "\n",
        "df.head()"
      ],
      "metadata": {
        "id": "gItWpi1jIubj",
        "colab": {
          "base_uri": "https://localhost:8080/",
          "height": 206
        },
        "outputId": "50908c33-0b9d-463e-f004-43e20ee3c7a3"
      },
      "execution_count": 3,
      "outputs": [
        {
          "output_type": "execute_result",
          "data": {
            "text/plain": [
              "  class                                            message\n",
              "0   ham  Go until jurong point, crazy.. Available only ...\n",
              "1   ham                      Ok lar... Joking wif u oni...\n",
              "2  spam  Free entry in 2 a wkly comp to win FA Cup fina...\n",
              "3   ham  U dun say so early hor... U c already then say...\n",
              "4   ham  Nah I don't think he goes to usf, he lives aro..."
            ],
            "text/html": [
              "\n",
              "  <div id=\"df-44143caf-56d5-4db5-bb2c-7241e0d3fef5\">\n",
              "    <div class=\"colab-df-container\">\n",
              "      <div>\n",
              "<style scoped>\n",
              "    .dataframe tbody tr th:only-of-type {\n",
              "        vertical-align: middle;\n",
              "    }\n",
              "\n",
              "    .dataframe tbody tr th {\n",
              "        vertical-align: top;\n",
              "    }\n",
              "\n",
              "    .dataframe thead th {\n",
              "        text-align: right;\n",
              "    }\n",
              "</style>\n",
              "<table border=\"1\" class=\"dataframe\">\n",
              "  <thead>\n",
              "    <tr style=\"text-align: right;\">\n",
              "      <th></th>\n",
              "      <th>class</th>\n",
              "      <th>message</th>\n",
              "    </tr>\n",
              "  </thead>\n",
              "  <tbody>\n",
              "    <tr>\n",
              "      <th>0</th>\n",
              "      <td>ham</td>\n",
              "      <td>Go until jurong point, crazy.. Available only ...</td>\n",
              "    </tr>\n",
              "    <tr>\n",
              "      <th>1</th>\n",
              "      <td>ham</td>\n",
              "      <td>Ok lar... Joking wif u oni...</td>\n",
              "    </tr>\n",
              "    <tr>\n",
              "      <th>2</th>\n",
              "      <td>spam</td>\n",
              "      <td>Free entry in 2 a wkly comp to win FA Cup fina...</td>\n",
              "    </tr>\n",
              "    <tr>\n",
              "      <th>3</th>\n",
              "      <td>ham</td>\n",
              "      <td>U dun say so early hor... U c already then say...</td>\n",
              "    </tr>\n",
              "    <tr>\n",
              "      <th>4</th>\n",
              "      <td>ham</td>\n",
              "      <td>Nah I don't think he goes to usf, he lives aro...</td>\n",
              "    </tr>\n",
              "  </tbody>\n",
              "</table>\n",
              "</div>\n",
              "      <button class=\"colab-df-convert\" onclick=\"convertToInteractive('df-44143caf-56d5-4db5-bb2c-7241e0d3fef5')\"\n",
              "              title=\"Convert this dataframe to an interactive table.\"\n",
              "              style=\"display:none;\">\n",
              "        \n",
              "  <svg xmlns=\"http://www.w3.org/2000/svg\" height=\"24px\"viewBox=\"0 0 24 24\"\n",
              "       width=\"24px\">\n",
              "    <path d=\"M0 0h24v24H0V0z\" fill=\"none\"/>\n",
              "    <path d=\"M18.56 5.44l.94 2.06.94-2.06 2.06-.94-2.06-.94-.94-2.06-.94 2.06-2.06.94zm-11 1L8.5 8.5l.94-2.06 2.06-.94-2.06-.94L8.5 2.5l-.94 2.06-2.06.94zm10 10l.94 2.06.94-2.06 2.06-.94-2.06-.94-.94-2.06-.94 2.06-2.06.94z\"/><path d=\"M17.41 7.96l-1.37-1.37c-.4-.4-.92-.59-1.43-.59-.52 0-1.04.2-1.43.59L10.3 9.45l-7.72 7.72c-.78.78-.78 2.05 0 2.83L4 21.41c.39.39.9.59 1.41.59.51 0 1.02-.2 1.41-.59l7.78-7.78 2.81-2.81c.8-.78.8-2.07 0-2.86zM5.41 20L4 18.59l7.72-7.72 1.47 1.35L5.41 20z\"/>\n",
              "  </svg>\n",
              "      </button>\n",
              "      \n",
              "  <style>\n",
              "    .colab-df-container {\n",
              "      display:flex;\n",
              "      flex-wrap:wrap;\n",
              "      gap: 12px;\n",
              "    }\n",
              "\n",
              "    .colab-df-convert {\n",
              "      background-color: #E8F0FE;\n",
              "      border: none;\n",
              "      border-radius: 50%;\n",
              "      cursor: pointer;\n",
              "      display: none;\n",
              "      fill: #1967D2;\n",
              "      height: 32px;\n",
              "      padding: 0 0 0 0;\n",
              "      width: 32px;\n",
              "    }\n",
              "\n",
              "    .colab-df-convert:hover {\n",
              "      background-color: #E2EBFA;\n",
              "      box-shadow: 0px 1px 2px rgba(60, 64, 67, 0.3), 0px 1px 3px 1px rgba(60, 64, 67, 0.15);\n",
              "      fill: #174EA6;\n",
              "    }\n",
              "\n",
              "    [theme=dark] .colab-df-convert {\n",
              "      background-color: #3B4455;\n",
              "      fill: #D2E3FC;\n",
              "    }\n",
              "\n",
              "    [theme=dark] .colab-df-convert:hover {\n",
              "      background-color: #434B5C;\n",
              "      box-shadow: 0px 1px 3px 1px rgba(0, 0, 0, 0.15);\n",
              "      filter: drop-shadow(0px 1px 2px rgba(0, 0, 0, 0.3));\n",
              "      fill: #FFFFFF;\n",
              "    }\n",
              "  </style>\n",
              "\n",
              "      <script>\n",
              "        const buttonEl =\n",
              "          document.querySelector('#df-44143caf-56d5-4db5-bb2c-7241e0d3fef5 button.colab-df-convert');\n",
              "        buttonEl.style.display =\n",
              "          google.colab.kernel.accessAllowed ? 'block' : 'none';\n",
              "\n",
              "        async function convertToInteractive(key) {\n",
              "          const element = document.querySelector('#df-44143caf-56d5-4db5-bb2c-7241e0d3fef5');\n",
              "          const dataTable =\n",
              "            await google.colab.kernel.invokeFunction('convertToInteractive',\n",
              "                                                     [key], {});\n",
              "          if (!dataTable) return;\n",
              "\n",
              "          const docLinkHtml = 'Like what you see? Visit the ' +\n",
              "            '<a target=\"_blank\" href=https://colab.research.google.com/notebooks/data_table.ipynb>data table notebook</a>'\n",
              "            + ' to learn more about interactive tables.';\n",
              "          element.innerHTML = '';\n",
              "          dataTable['output_type'] = 'display_data';\n",
              "          await google.colab.output.renderOutput(dataTable, element);\n",
              "          const docLink = document.createElement('div');\n",
              "          docLink.innerHTML = docLinkHtml;\n",
              "          element.appendChild(docLink);\n",
              "        }\n",
              "      </script>\n",
              "    </div>\n",
              "  </div>\n",
              "  "
            ]
          },
          "metadata": {},
          "execution_count": 3
        }
      ]
    },
    {
      "cell_type": "code",
      "source": [
        "X_mssg.iloc[0:5]"
      ],
      "metadata": {
        "colab": {
          "base_uri": "https://localhost:8080/"
        },
        "id": "V7ANSJV05-Hw",
        "outputId": "ce185023-4bcb-4fab-e230-058173839890"
      },
      "execution_count": 4,
      "outputs": [
        {
          "output_type": "execute_result",
          "data": {
            "text/plain": [
              "0    Go until jurong point, crazy.. Available only ...\n",
              "1                        Ok lar... Joking wif u oni...\n",
              "2    Free entry in 2 a wkly comp to win FA Cup fina...\n",
              "3    U dun say so early hor... U c already then say...\n",
              "4    Nah I don't think he goes to usf, he lives aro...\n",
              "Name: message, dtype: object"
            ]
          },
          "metadata": {},
          "execution_count": 4
        }
      ]
    },
    {
      "cell_type": "code",
      "source": [
        "Y_label.iloc[0:5]"
      ],
      "metadata": {
        "colab": {
          "base_uri": "https://localhost:8080/"
        },
        "id": "hFwghQHf60ya",
        "outputId": "a3498585-5024-497b-c3a1-8256883263ec"
      },
      "execution_count": 5,
      "outputs": [
        {
          "output_type": "execute_result",
          "data": {
            "text/plain": [
              "0     ham\n",
              "1     ham\n",
              "2    spam\n",
              "3     ham\n",
              "4     ham\n",
              "Name: class, dtype: object"
            ]
          },
          "metadata": {},
          "execution_count": 5
        }
      ]
    },
    {
      "cell_type": "markdown",
      "source": [
        "Converting to lowercase "
      ],
      "metadata": {
        "id": "W3toySfJ0AoA"
      }
    },
    {
      "cell_type": "code",
      "source": [
        "df['Clean_Messages'] = X_mssg.str.lower()\n",
        "df.head()"
      ],
      "metadata": {
        "colab": {
          "base_uri": "https://localhost:8080/",
          "height": 206
        },
        "id": "Wl1ydrOY7iW5",
        "outputId": "35963510-befe-43b8-cd17-0964a5e715c4"
      },
      "execution_count": 6,
      "outputs": [
        {
          "output_type": "execute_result",
          "data": {
            "text/plain": [
              "  class                                            message  \\\n",
              "0   ham  Go until jurong point, crazy.. Available only ...   \n",
              "1   ham                      Ok lar... Joking wif u oni...   \n",
              "2  spam  Free entry in 2 a wkly comp to win FA Cup fina...   \n",
              "3   ham  U dun say so early hor... U c already then say...   \n",
              "4   ham  Nah I don't think he goes to usf, he lives aro...   \n",
              "\n",
              "                                      Clean_Messages  \n",
              "0  go until jurong point, crazy.. available only ...  \n",
              "1                      ok lar... joking wif u oni...  \n",
              "2  free entry in 2 a wkly comp to win fa cup fina...  \n",
              "3  u dun say so early hor... u c already then say...  \n",
              "4  nah i don't think he goes to usf, he lives aro...  "
            ],
            "text/html": [
              "\n",
              "  <div id=\"df-974804ba-453c-4c03-b8ef-94829abed270\">\n",
              "    <div class=\"colab-df-container\">\n",
              "      <div>\n",
              "<style scoped>\n",
              "    .dataframe tbody tr th:only-of-type {\n",
              "        vertical-align: middle;\n",
              "    }\n",
              "\n",
              "    .dataframe tbody tr th {\n",
              "        vertical-align: top;\n",
              "    }\n",
              "\n",
              "    .dataframe thead th {\n",
              "        text-align: right;\n",
              "    }\n",
              "</style>\n",
              "<table border=\"1\" class=\"dataframe\">\n",
              "  <thead>\n",
              "    <tr style=\"text-align: right;\">\n",
              "      <th></th>\n",
              "      <th>class</th>\n",
              "      <th>message</th>\n",
              "      <th>Clean_Messages</th>\n",
              "    </tr>\n",
              "  </thead>\n",
              "  <tbody>\n",
              "    <tr>\n",
              "      <th>0</th>\n",
              "      <td>ham</td>\n",
              "      <td>Go until jurong point, crazy.. Available only ...</td>\n",
              "      <td>go until jurong point, crazy.. available only ...</td>\n",
              "    </tr>\n",
              "    <tr>\n",
              "      <th>1</th>\n",
              "      <td>ham</td>\n",
              "      <td>Ok lar... Joking wif u oni...</td>\n",
              "      <td>ok lar... joking wif u oni...</td>\n",
              "    </tr>\n",
              "    <tr>\n",
              "      <th>2</th>\n",
              "      <td>spam</td>\n",
              "      <td>Free entry in 2 a wkly comp to win FA Cup fina...</td>\n",
              "      <td>free entry in 2 a wkly comp to win fa cup fina...</td>\n",
              "    </tr>\n",
              "    <tr>\n",
              "      <th>3</th>\n",
              "      <td>ham</td>\n",
              "      <td>U dun say so early hor... U c already then say...</td>\n",
              "      <td>u dun say so early hor... u c already then say...</td>\n",
              "    </tr>\n",
              "    <tr>\n",
              "      <th>4</th>\n",
              "      <td>ham</td>\n",
              "      <td>Nah I don't think he goes to usf, he lives aro...</td>\n",
              "      <td>nah i don't think he goes to usf, he lives aro...</td>\n",
              "    </tr>\n",
              "  </tbody>\n",
              "</table>\n",
              "</div>\n",
              "      <button class=\"colab-df-convert\" onclick=\"convertToInteractive('df-974804ba-453c-4c03-b8ef-94829abed270')\"\n",
              "              title=\"Convert this dataframe to an interactive table.\"\n",
              "              style=\"display:none;\">\n",
              "        \n",
              "  <svg xmlns=\"http://www.w3.org/2000/svg\" height=\"24px\"viewBox=\"0 0 24 24\"\n",
              "       width=\"24px\">\n",
              "    <path d=\"M0 0h24v24H0V0z\" fill=\"none\"/>\n",
              "    <path d=\"M18.56 5.44l.94 2.06.94-2.06 2.06-.94-2.06-.94-.94-2.06-.94 2.06-2.06.94zm-11 1L8.5 8.5l.94-2.06 2.06-.94-2.06-.94L8.5 2.5l-.94 2.06-2.06.94zm10 10l.94 2.06.94-2.06 2.06-.94-2.06-.94-.94-2.06-.94 2.06-2.06.94z\"/><path d=\"M17.41 7.96l-1.37-1.37c-.4-.4-.92-.59-1.43-.59-.52 0-1.04.2-1.43.59L10.3 9.45l-7.72 7.72c-.78.78-.78 2.05 0 2.83L4 21.41c.39.39.9.59 1.41.59.51 0 1.02-.2 1.41-.59l7.78-7.78 2.81-2.81c.8-.78.8-2.07 0-2.86zM5.41 20L4 18.59l7.72-7.72 1.47 1.35L5.41 20z\"/>\n",
              "  </svg>\n",
              "      </button>\n",
              "      \n",
              "  <style>\n",
              "    .colab-df-container {\n",
              "      display:flex;\n",
              "      flex-wrap:wrap;\n",
              "      gap: 12px;\n",
              "    }\n",
              "\n",
              "    .colab-df-convert {\n",
              "      background-color: #E8F0FE;\n",
              "      border: none;\n",
              "      border-radius: 50%;\n",
              "      cursor: pointer;\n",
              "      display: none;\n",
              "      fill: #1967D2;\n",
              "      height: 32px;\n",
              "      padding: 0 0 0 0;\n",
              "      width: 32px;\n",
              "    }\n",
              "\n",
              "    .colab-df-convert:hover {\n",
              "      background-color: #E2EBFA;\n",
              "      box-shadow: 0px 1px 2px rgba(60, 64, 67, 0.3), 0px 1px 3px 1px rgba(60, 64, 67, 0.15);\n",
              "      fill: #174EA6;\n",
              "    }\n",
              "\n",
              "    [theme=dark] .colab-df-convert {\n",
              "      background-color: #3B4455;\n",
              "      fill: #D2E3FC;\n",
              "    }\n",
              "\n",
              "    [theme=dark] .colab-df-convert:hover {\n",
              "      background-color: #434B5C;\n",
              "      box-shadow: 0px 1px 3px 1px rgba(0, 0, 0, 0.15);\n",
              "      filter: drop-shadow(0px 1px 2px rgba(0, 0, 0, 0.3));\n",
              "      fill: #FFFFFF;\n",
              "    }\n",
              "  </style>\n",
              "\n",
              "      <script>\n",
              "        const buttonEl =\n",
              "          document.querySelector('#df-974804ba-453c-4c03-b8ef-94829abed270 button.colab-df-convert');\n",
              "        buttonEl.style.display =\n",
              "          google.colab.kernel.accessAllowed ? 'block' : 'none';\n",
              "\n",
              "        async function convertToInteractive(key) {\n",
              "          const element = document.querySelector('#df-974804ba-453c-4c03-b8ef-94829abed270');\n",
              "          const dataTable =\n",
              "            await google.colab.kernel.invokeFunction('convertToInteractive',\n",
              "                                                     [key], {});\n",
              "          if (!dataTable) return;\n",
              "\n",
              "          const docLinkHtml = 'Like what you see? Visit the ' +\n",
              "            '<a target=\"_blank\" href=https://colab.research.google.com/notebooks/data_table.ipynb>data table notebook</a>'\n",
              "            + ' to learn more about interactive tables.';\n",
              "          element.innerHTML = '';\n",
              "          dataTable['output_type'] = 'display_data';\n",
              "          await google.colab.output.renderOutput(dataTable, element);\n",
              "          const docLink = document.createElement('div');\n",
              "          docLink.innerHTML = docLinkHtml;\n",
              "          element.appendChild(docLink);\n",
              "        }\n",
              "      </script>\n",
              "    </div>\n",
              "  </div>\n",
              "  "
            ]
          },
          "metadata": {},
          "execution_count": 6
        }
      ]
    },
    {
      "cell_type": "markdown",
      "source": [
        "Removing Punctuation \n",
        "[!”#$%&’()*+,-./:;<=>?@[]^_`{|}~]"
      ],
      "metadata": {
        "id": "lX5el1hn8Nyv"
      }
    },
    {
      "cell_type": "code",
      "source": [
        "def remove_punctuation(text):\n",
        "    '''\n",
        "    Removes all punctuation from a string, if present\n",
        "    \n",
        "    Args:\n",
        "        text (str): String to which the function is to be applied, string\n",
        "    \n",
        "    Returns:\n",
        "        Clean string without punctuations\n",
        "    '''\n",
        "    return re.sub(r'[^a-zA-Z0-9]', ' ', text)"
      ],
      "metadata": {
        "id": "pNmFyMOa9fla"
      },
      "execution_count": 7,
      "outputs": []
    },
    {
      "cell_type": "code",
      "source": [
        "df['removed_punctuation'] = df['Clean_Messages'].apply(remove_punctuation)\n",
        "df.head()"
      ],
      "metadata": {
        "colab": {
          "base_uri": "https://localhost:8080/",
          "height": 206
        },
        "id": "UshNIl0B9z6W",
        "outputId": "51d209de-1330-425f-8377-dab78c77a13c"
      },
      "execution_count": 8,
      "outputs": [
        {
          "output_type": "execute_result",
          "data": {
            "text/plain": [
              "  class                                            message  \\\n",
              "0   ham  Go until jurong point, crazy.. Available only ...   \n",
              "1   ham                      Ok lar... Joking wif u oni...   \n",
              "2  spam  Free entry in 2 a wkly comp to win FA Cup fina...   \n",
              "3   ham  U dun say so early hor... U c already then say...   \n",
              "4   ham  Nah I don't think he goes to usf, he lives aro...   \n",
              "\n",
              "                                      Clean_Messages  \\\n",
              "0  go until jurong point, crazy.. available only ...   \n",
              "1                      ok lar... joking wif u oni...   \n",
              "2  free entry in 2 a wkly comp to win fa cup fina...   \n",
              "3  u dun say so early hor... u c already then say...   \n",
              "4  nah i don't think he goes to usf, he lives aro...   \n",
              "\n",
              "                                 removed_punctuation  \n",
              "0  go until jurong point  crazy   available only ...  \n",
              "1                      ok lar    joking wif u oni     \n",
              "2  free entry in 2 a wkly comp to win fa cup fina...  \n",
              "3  u dun say so early hor    u c already then say     \n",
              "4  nah i don t think he goes to usf  he lives aro...  "
            ],
            "text/html": [
              "\n",
              "  <div id=\"df-bae8de11-d05b-486a-94fb-f6fd3ce51f80\">\n",
              "    <div class=\"colab-df-container\">\n",
              "      <div>\n",
              "<style scoped>\n",
              "    .dataframe tbody tr th:only-of-type {\n",
              "        vertical-align: middle;\n",
              "    }\n",
              "\n",
              "    .dataframe tbody tr th {\n",
              "        vertical-align: top;\n",
              "    }\n",
              "\n",
              "    .dataframe thead th {\n",
              "        text-align: right;\n",
              "    }\n",
              "</style>\n",
              "<table border=\"1\" class=\"dataframe\">\n",
              "  <thead>\n",
              "    <tr style=\"text-align: right;\">\n",
              "      <th></th>\n",
              "      <th>class</th>\n",
              "      <th>message</th>\n",
              "      <th>Clean_Messages</th>\n",
              "      <th>removed_punctuation</th>\n",
              "    </tr>\n",
              "  </thead>\n",
              "  <tbody>\n",
              "    <tr>\n",
              "      <th>0</th>\n",
              "      <td>ham</td>\n",
              "      <td>Go until jurong point, crazy.. Available only ...</td>\n",
              "      <td>go until jurong point, crazy.. available only ...</td>\n",
              "      <td>go until jurong point  crazy   available only ...</td>\n",
              "    </tr>\n",
              "    <tr>\n",
              "      <th>1</th>\n",
              "      <td>ham</td>\n",
              "      <td>Ok lar... Joking wif u oni...</td>\n",
              "      <td>ok lar... joking wif u oni...</td>\n",
              "      <td>ok lar    joking wif u oni</td>\n",
              "    </tr>\n",
              "    <tr>\n",
              "      <th>2</th>\n",
              "      <td>spam</td>\n",
              "      <td>Free entry in 2 a wkly comp to win FA Cup fina...</td>\n",
              "      <td>free entry in 2 a wkly comp to win fa cup fina...</td>\n",
              "      <td>free entry in 2 a wkly comp to win fa cup fina...</td>\n",
              "    </tr>\n",
              "    <tr>\n",
              "      <th>3</th>\n",
              "      <td>ham</td>\n",
              "      <td>U dun say so early hor... U c already then say...</td>\n",
              "      <td>u dun say so early hor... u c already then say...</td>\n",
              "      <td>u dun say so early hor    u c already then say</td>\n",
              "    </tr>\n",
              "    <tr>\n",
              "      <th>4</th>\n",
              "      <td>ham</td>\n",
              "      <td>Nah I don't think he goes to usf, he lives aro...</td>\n",
              "      <td>nah i don't think he goes to usf, he lives aro...</td>\n",
              "      <td>nah i don t think he goes to usf  he lives aro...</td>\n",
              "    </tr>\n",
              "  </tbody>\n",
              "</table>\n",
              "</div>\n",
              "      <button class=\"colab-df-convert\" onclick=\"convertToInteractive('df-bae8de11-d05b-486a-94fb-f6fd3ce51f80')\"\n",
              "              title=\"Convert this dataframe to an interactive table.\"\n",
              "              style=\"display:none;\">\n",
              "        \n",
              "  <svg xmlns=\"http://www.w3.org/2000/svg\" height=\"24px\"viewBox=\"0 0 24 24\"\n",
              "       width=\"24px\">\n",
              "    <path d=\"M0 0h24v24H0V0z\" fill=\"none\"/>\n",
              "    <path d=\"M18.56 5.44l.94 2.06.94-2.06 2.06-.94-2.06-.94-.94-2.06-.94 2.06-2.06.94zm-11 1L8.5 8.5l.94-2.06 2.06-.94-2.06-.94L8.5 2.5l-.94 2.06-2.06.94zm10 10l.94 2.06.94-2.06 2.06-.94-2.06-.94-.94-2.06-.94 2.06-2.06.94z\"/><path d=\"M17.41 7.96l-1.37-1.37c-.4-.4-.92-.59-1.43-.59-.52 0-1.04.2-1.43.59L10.3 9.45l-7.72 7.72c-.78.78-.78 2.05 0 2.83L4 21.41c.39.39.9.59 1.41.59.51 0 1.02-.2 1.41-.59l7.78-7.78 2.81-2.81c.8-.78.8-2.07 0-2.86zM5.41 20L4 18.59l7.72-7.72 1.47 1.35L5.41 20z\"/>\n",
              "  </svg>\n",
              "      </button>\n",
              "      \n",
              "  <style>\n",
              "    .colab-df-container {\n",
              "      display:flex;\n",
              "      flex-wrap:wrap;\n",
              "      gap: 12px;\n",
              "    }\n",
              "\n",
              "    .colab-df-convert {\n",
              "      background-color: #E8F0FE;\n",
              "      border: none;\n",
              "      border-radius: 50%;\n",
              "      cursor: pointer;\n",
              "      display: none;\n",
              "      fill: #1967D2;\n",
              "      height: 32px;\n",
              "      padding: 0 0 0 0;\n",
              "      width: 32px;\n",
              "    }\n",
              "\n",
              "    .colab-df-convert:hover {\n",
              "      background-color: #E2EBFA;\n",
              "      box-shadow: 0px 1px 2px rgba(60, 64, 67, 0.3), 0px 1px 3px 1px rgba(60, 64, 67, 0.15);\n",
              "      fill: #174EA6;\n",
              "    }\n",
              "\n",
              "    [theme=dark] .colab-df-convert {\n",
              "      background-color: #3B4455;\n",
              "      fill: #D2E3FC;\n",
              "    }\n",
              "\n",
              "    [theme=dark] .colab-df-convert:hover {\n",
              "      background-color: #434B5C;\n",
              "      box-shadow: 0px 1px 3px 1px rgba(0, 0, 0, 0.15);\n",
              "      filter: drop-shadow(0px 1px 2px rgba(0, 0, 0, 0.3));\n",
              "      fill: #FFFFFF;\n",
              "    }\n",
              "  </style>\n",
              "\n",
              "      <script>\n",
              "        const buttonEl =\n",
              "          document.querySelector('#df-bae8de11-d05b-486a-94fb-f6fd3ce51f80 button.colab-df-convert');\n",
              "        buttonEl.style.display =\n",
              "          google.colab.kernel.accessAllowed ? 'block' : 'none';\n",
              "\n",
              "        async function convertToInteractive(key) {\n",
              "          const element = document.querySelector('#df-bae8de11-d05b-486a-94fb-f6fd3ce51f80');\n",
              "          const dataTable =\n",
              "            await google.colab.kernel.invokeFunction('convertToInteractive',\n",
              "                                                     [key], {});\n",
              "          if (!dataTable) return;\n",
              "\n",
              "          const docLinkHtml = 'Like what you see? Visit the ' +\n",
              "            '<a target=\"_blank\" href=https://colab.research.google.com/notebooks/data_table.ipynb>data table notebook</a>'\n",
              "            + ' to learn more about interactive tables.';\n",
              "          element.innerHTML = '';\n",
              "          dataTable['output_type'] = 'display_data';\n",
              "          await google.colab.output.renderOutput(dataTable, element);\n",
              "          const docLink = document.createElement('div');\n",
              "          docLink.innerHTML = docLinkHtml;\n",
              "          element.appendChild(docLink);\n",
              "        }\n",
              "      </script>\n",
              "    </div>\n",
              "  </div>\n",
              "  "
            ]
          },
          "metadata": {},
          "execution_count": 8
        }
      ]
    },
    {
      "cell_type": "markdown",
      "source": [
        "Tokenization"
      ],
      "metadata": {
        "id": "Lw2mJkDvCVqm"
      }
    },
    {
      "cell_type": "code",
      "source": [
        "#word tokenizer\n",
        "df['word_tokenized'] = df['Clean_Messages'].apply(word_tokenize)\n",
        "\n",
        "#sentence tokenizer\n",
        "df['sentence_tokenized'] = df['Clean_Messages'].apply(sent_tokenize)\n",
        "df.head()"
      ],
      "metadata": {
        "colab": {
          "base_uri": "https://localhost:8080/",
          "height": 320
        },
        "id": "2G6QPREOCXGG",
        "outputId": "2fa98bfd-68a6-43a7-a93d-56b17435af3d"
      },
      "execution_count": 9,
      "outputs": [
        {
          "output_type": "execute_result",
          "data": {
            "text/plain": [
              "  class                                            message  \\\n",
              "0   ham  Go until jurong point, crazy.. Available only ...   \n",
              "1   ham                      Ok lar... Joking wif u oni...   \n",
              "2  spam  Free entry in 2 a wkly comp to win FA Cup fina...   \n",
              "3   ham  U dun say so early hor... U c already then say...   \n",
              "4   ham  Nah I don't think he goes to usf, he lives aro...   \n",
              "\n",
              "                                      Clean_Messages  \\\n",
              "0  go until jurong point, crazy.. available only ...   \n",
              "1                      ok lar... joking wif u oni...   \n",
              "2  free entry in 2 a wkly comp to win fa cup fina...   \n",
              "3  u dun say so early hor... u c already then say...   \n",
              "4  nah i don't think he goes to usf, he lives aro...   \n",
              "\n",
              "                                 removed_punctuation  \\\n",
              "0  go until jurong point  crazy   available only ...   \n",
              "1                      ok lar    joking wif u oni      \n",
              "2  free entry in 2 a wkly comp to win fa cup fina...   \n",
              "3  u dun say so early hor    u c already then say      \n",
              "4  nah i don t think he goes to usf  he lives aro...   \n",
              "\n",
              "                                      word_tokenized  \\\n",
              "0  [go, until, jurong, point, ,, crazy, .., avail...   \n",
              "1           [ok, lar, ..., joking, wif, u, oni, ...]   \n",
              "2  [free, entry, in, 2, a, wkly, comp, to, win, f...   \n",
              "3  [u, dun, say, so, early, hor, ..., u, c, alrea...   \n",
              "4  [nah, i, do, n't, think, he, goes, to, usf, ,,...   \n",
              "\n",
              "                                  sentence_tokenized  \n",
              "0  [go until jurong point, crazy.. available only...  \n",
              "1                    [ok lar... joking wif u oni...]  \n",
              "2  [free entry in 2 a wkly comp to win fa cup fin...  \n",
              "3  [u dun say so early hor... u c already then sa...  \n",
              "4  [nah i don't think he goes to usf, he lives ar...  "
            ],
            "text/html": [
              "\n",
              "  <div id=\"df-27df04e5-35b2-4fef-afd7-93a7d0d6b0ed\">\n",
              "    <div class=\"colab-df-container\">\n",
              "      <div>\n",
              "<style scoped>\n",
              "    .dataframe tbody tr th:only-of-type {\n",
              "        vertical-align: middle;\n",
              "    }\n",
              "\n",
              "    .dataframe tbody tr th {\n",
              "        vertical-align: top;\n",
              "    }\n",
              "\n",
              "    .dataframe thead th {\n",
              "        text-align: right;\n",
              "    }\n",
              "</style>\n",
              "<table border=\"1\" class=\"dataframe\">\n",
              "  <thead>\n",
              "    <tr style=\"text-align: right;\">\n",
              "      <th></th>\n",
              "      <th>class</th>\n",
              "      <th>message</th>\n",
              "      <th>Clean_Messages</th>\n",
              "      <th>removed_punctuation</th>\n",
              "      <th>word_tokenized</th>\n",
              "      <th>sentence_tokenized</th>\n",
              "    </tr>\n",
              "  </thead>\n",
              "  <tbody>\n",
              "    <tr>\n",
              "      <th>0</th>\n",
              "      <td>ham</td>\n",
              "      <td>Go until jurong point, crazy.. Available only ...</td>\n",
              "      <td>go until jurong point, crazy.. available only ...</td>\n",
              "      <td>go until jurong point  crazy   available only ...</td>\n",
              "      <td>[go, until, jurong, point, ,, crazy, .., avail...</td>\n",
              "      <td>[go until jurong point, crazy.. available only...</td>\n",
              "    </tr>\n",
              "    <tr>\n",
              "      <th>1</th>\n",
              "      <td>ham</td>\n",
              "      <td>Ok lar... Joking wif u oni...</td>\n",
              "      <td>ok lar... joking wif u oni...</td>\n",
              "      <td>ok lar    joking wif u oni</td>\n",
              "      <td>[ok, lar, ..., joking, wif, u, oni, ...]</td>\n",
              "      <td>[ok lar... joking wif u oni...]</td>\n",
              "    </tr>\n",
              "    <tr>\n",
              "      <th>2</th>\n",
              "      <td>spam</td>\n",
              "      <td>Free entry in 2 a wkly comp to win FA Cup fina...</td>\n",
              "      <td>free entry in 2 a wkly comp to win fa cup fina...</td>\n",
              "      <td>free entry in 2 a wkly comp to win fa cup fina...</td>\n",
              "      <td>[free, entry, in, 2, a, wkly, comp, to, win, f...</td>\n",
              "      <td>[free entry in 2 a wkly comp to win fa cup fin...</td>\n",
              "    </tr>\n",
              "    <tr>\n",
              "      <th>3</th>\n",
              "      <td>ham</td>\n",
              "      <td>U dun say so early hor... U c already then say...</td>\n",
              "      <td>u dun say so early hor... u c already then say...</td>\n",
              "      <td>u dun say so early hor    u c already then say</td>\n",
              "      <td>[u, dun, say, so, early, hor, ..., u, c, alrea...</td>\n",
              "      <td>[u dun say so early hor... u c already then sa...</td>\n",
              "    </tr>\n",
              "    <tr>\n",
              "      <th>4</th>\n",
              "      <td>ham</td>\n",
              "      <td>Nah I don't think he goes to usf, he lives aro...</td>\n",
              "      <td>nah i don't think he goes to usf, he lives aro...</td>\n",
              "      <td>nah i don t think he goes to usf  he lives aro...</td>\n",
              "      <td>[nah, i, do, n't, think, he, goes, to, usf, ,,...</td>\n",
              "      <td>[nah i don't think he goes to usf, he lives ar...</td>\n",
              "    </tr>\n",
              "  </tbody>\n",
              "</table>\n",
              "</div>\n",
              "      <button class=\"colab-df-convert\" onclick=\"convertToInteractive('df-27df04e5-35b2-4fef-afd7-93a7d0d6b0ed')\"\n",
              "              title=\"Convert this dataframe to an interactive table.\"\n",
              "              style=\"display:none;\">\n",
              "        \n",
              "  <svg xmlns=\"http://www.w3.org/2000/svg\" height=\"24px\"viewBox=\"0 0 24 24\"\n",
              "       width=\"24px\">\n",
              "    <path d=\"M0 0h24v24H0V0z\" fill=\"none\"/>\n",
              "    <path d=\"M18.56 5.44l.94 2.06.94-2.06 2.06-.94-2.06-.94-.94-2.06-.94 2.06-2.06.94zm-11 1L8.5 8.5l.94-2.06 2.06-.94-2.06-.94L8.5 2.5l-.94 2.06-2.06.94zm10 10l.94 2.06.94-2.06 2.06-.94-2.06-.94-.94-2.06-.94 2.06-2.06.94z\"/><path d=\"M17.41 7.96l-1.37-1.37c-.4-.4-.92-.59-1.43-.59-.52 0-1.04.2-1.43.59L10.3 9.45l-7.72 7.72c-.78.78-.78 2.05 0 2.83L4 21.41c.39.39.9.59 1.41.59.51 0 1.02-.2 1.41-.59l7.78-7.78 2.81-2.81c.8-.78.8-2.07 0-2.86zM5.41 20L4 18.59l7.72-7.72 1.47 1.35L5.41 20z\"/>\n",
              "  </svg>\n",
              "      </button>\n",
              "      \n",
              "  <style>\n",
              "    .colab-df-container {\n",
              "      display:flex;\n",
              "      flex-wrap:wrap;\n",
              "      gap: 12px;\n",
              "    }\n",
              "\n",
              "    .colab-df-convert {\n",
              "      background-color: #E8F0FE;\n",
              "      border: none;\n",
              "      border-radius: 50%;\n",
              "      cursor: pointer;\n",
              "      display: none;\n",
              "      fill: #1967D2;\n",
              "      height: 32px;\n",
              "      padding: 0 0 0 0;\n",
              "      width: 32px;\n",
              "    }\n",
              "\n",
              "    .colab-df-convert:hover {\n",
              "      background-color: #E2EBFA;\n",
              "      box-shadow: 0px 1px 2px rgba(60, 64, 67, 0.3), 0px 1px 3px 1px rgba(60, 64, 67, 0.15);\n",
              "      fill: #174EA6;\n",
              "    }\n",
              "\n",
              "    [theme=dark] .colab-df-convert {\n",
              "      background-color: #3B4455;\n",
              "      fill: #D2E3FC;\n",
              "    }\n",
              "\n",
              "    [theme=dark] .colab-df-convert:hover {\n",
              "      background-color: #434B5C;\n",
              "      box-shadow: 0px 1px 3px 1px rgba(0, 0, 0, 0.15);\n",
              "      filter: drop-shadow(0px 1px 2px rgba(0, 0, 0, 0.3));\n",
              "      fill: #FFFFFF;\n",
              "    }\n",
              "  </style>\n",
              "\n",
              "      <script>\n",
              "        const buttonEl =\n",
              "          document.querySelector('#df-27df04e5-35b2-4fef-afd7-93a7d0d6b0ed button.colab-df-convert');\n",
              "        buttonEl.style.display =\n",
              "          google.colab.kernel.accessAllowed ? 'block' : 'none';\n",
              "\n",
              "        async function convertToInteractive(key) {\n",
              "          const element = document.querySelector('#df-27df04e5-35b2-4fef-afd7-93a7d0d6b0ed');\n",
              "          const dataTable =\n",
              "            await google.colab.kernel.invokeFunction('convertToInteractive',\n",
              "                                                     [key], {});\n",
              "          if (!dataTable) return;\n",
              "\n",
              "          const docLinkHtml = 'Like what you see? Visit the ' +\n",
              "            '<a target=\"_blank\" href=https://colab.research.google.com/notebooks/data_table.ipynb>data table notebook</a>'\n",
              "            + ' to learn more about interactive tables.';\n",
              "          element.innerHTML = '';\n",
              "          dataTable['output_type'] = 'display_data';\n",
              "          await google.colab.output.renderOutput(dataTable, element);\n",
              "          const docLink = document.createElement('div');\n",
              "          docLink.innerHTML = docLinkHtml;\n",
              "          element.appendChild(docLink);\n",
              "        }\n",
              "      </script>\n",
              "    </div>\n",
              "  </div>\n",
              "  "
            ]
          },
          "metadata": {},
          "execution_count": 9
        }
      ]
    },
    {
      "cell_type": "markdown",
      "source": [
        "Removing stopwords "
      ],
      "metadata": {
        "id": "2GTmoikHPjkY"
      }
    },
    {
      "cell_type": "code",
      "source": [
        "print(stopwords.words(\"english\"))"
      ],
      "metadata": {
        "colab": {
          "base_uri": "https://localhost:8080/"
        },
        "id": "60UKChTVQ9WF",
        "outputId": "d7305201-7921-4c37-fd9e-149c74503875"
      },
      "execution_count": 10,
      "outputs": [
        {
          "output_type": "stream",
          "name": "stdout",
          "text": [
            "['i', 'me', 'my', 'myself', 'we', 'our', 'ours', 'ourselves', 'you', \"you're\", \"you've\", \"you'll\", \"you'd\", 'your', 'yours', 'yourself', 'yourselves', 'he', 'him', 'his', 'himself', 'she', \"she's\", 'her', 'hers', 'herself', 'it', \"it's\", 'its', 'itself', 'they', 'them', 'their', 'theirs', 'themselves', 'what', 'which', 'who', 'whom', 'this', 'that', \"that'll\", 'these', 'those', 'am', 'is', 'are', 'was', 'were', 'be', 'been', 'being', 'have', 'has', 'had', 'having', 'do', 'does', 'did', 'doing', 'a', 'an', 'the', 'and', 'but', 'if', 'or', 'because', 'as', 'until', 'while', 'of', 'at', 'by', 'for', 'with', 'about', 'against', 'between', 'into', 'through', 'during', 'before', 'after', 'above', 'below', 'to', 'from', 'up', 'down', 'in', 'out', 'on', 'off', 'over', 'under', 'again', 'further', 'then', 'once', 'here', 'there', 'when', 'where', 'why', 'how', 'all', 'any', 'both', 'each', 'few', 'more', 'most', 'other', 'some', 'such', 'no', 'nor', 'not', 'only', 'own', 'same', 'so', 'than', 'too', 'very', 's', 't', 'can', 'will', 'just', 'don', \"don't\", 'should', \"should've\", 'now', 'd', 'll', 'm', 'o', 're', 've', 'y', 'ain', 'aren', \"aren't\", 'couldn', \"couldn't\", 'didn', \"didn't\", 'doesn', \"doesn't\", 'hadn', \"hadn't\", 'hasn', \"hasn't\", 'haven', \"haven't\", 'isn', \"isn't\", 'ma', 'mightn', \"mightn't\", 'mustn', \"mustn't\", 'needn', \"needn't\", 'shan', \"shan't\", 'shouldn', \"shouldn't\", 'wasn', \"wasn't\", 'weren', \"weren't\", 'won', \"won't\", 'wouldn', \"wouldn't\"]\n"
          ]
        }
      ]
    },
    {
      "cell_type": "code",
      "source": [
        "def remove_stopwords(text):\n",
        "    '''\n",
        "    Removes Stop Words (also capitalized) from a string, if present\n",
        "    \n",
        "    Args:\n",
        "        text (str): String to which the function is to be applied, string\n",
        "    \n",
        "    Returns:\n",
        "        Clean string without Stop Words\n",
        "    ''' \n",
        "    \n",
        "    # check in lowercase \n",
        "    t = [token for token in text if token.lower() not in stopwords.words(\"english\")]\n",
        "    text = ' '.join(t)    \n",
        "    return text"
      ],
      "metadata": {
        "id": "7ghxooNKPhJ6"
      },
      "execution_count": 11,
      "outputs": []
    },
    {
      "cell_type": "code",
      "source": [
        "\n",
        "df['Message_WO_StopWords'] = df['word_tokenized'].apply(remove_stopwords)\n",
        "df.head()"
      ],
      "metadata": {
        "colab": {
          "base_uri": "https://localhost:8080/",
          "height": 406
        },
        "id": "wWFrP8zLQH7m",
        "outputId": "e1357fd8-6d65-4e41-cd37-f10a55ed6e2c"
      },
      "execution_count": 12,
      "outputs": [
        {
          "output_type": "execute_result",
          "data": {
            "text/plain": [
              "  class                                            message  \\\n",
              "0   ham  Go until jurong point, crazy.. Available only ...   \n",
              "1   ham                      Ok lar... Joking wif u oni...   \n",
              "2  spam  Free entry in 2 a wkly comp to win FA Cup fina...   \n",
              "3   ham  U dun say so early hor... U c already then say...   \n",
              "4   ham  Nah I don't think he goes to usf, he lives aro...   \n",
              "\n",
              "                                      Clean_Messages  \\\n",
              "0  go until jurong point, crazy.. available only ...   \n",
              "1                      ok lar... joking wif u oni...   \n",
              "2  free entry in 2 a wkly comp to win fa cup fina...   \n",
              "3  u dun say so early hor... u c already then say...   \n",
              "4  nah i don't think he goes to usf, he lives aro...   \n",
              "\n",
              "                                 removed_punctuation  \\\n",
              "0  go until jurong point  crazy   available only ...   \n",
              "1                      ok lar    joking wif u oni      \n",
              "2  free entry in 2 a wkly comp to win fa cup fina...   \n",
              "3  u dun say so early hor    u c already then say      \n",
              "4  nah i don t think he goes to usf  he lives aro...   \n",
              "\n",
              "                                      word_tokenized  \\\n",
              "0  [go, until, jurong, point, ,, crazy, .., avail...   \n",
              "1           [ok, lar, ..., joking, wif, u, oni, ...]   \n",
              "2  [free, entry, in, 2, a, wkly, comp, to, win, f...   \n",
              "3  [u, dun, say, so, early, hor, ..., u, c, alrea...   \n",
              "4  [nah, i, do, n't, think, he, goes, to, usf, ,,...   \n",
              "\n",
              "                                  sentence_tokenized  \\\n",
              "0  [go until jurong point, crazy.. available only...   \n",
              "1                    [ok lar... joking wif u oni...]   \n",
              "2  [free entry in 2 a wkly comp to win fa cup fin...   \n",
              "3  [u dun say so early hor... u c already then sa...   \n",
              "4  [nah i don't think he goes to usf, he lives ar...   \n",
              "\n",
              "                                Message_WO_StopWords  \n",
              "0  go jurong point , crazy .. available bugis n g...  \n",
              "1                    ok lar ... joking wif u oni ...  \n",
              "2  free entry 2 wkly comp win fa cup final tkts 2...  \n",
              "3        u dun say early hor ... u c already say ...  \n",
              "4       nah n't think goes usf , lives around though  "
            ],
            "text/html": [
              "\n",
              "  <div id=\"df-f464e1ca-0676-4127-9d9e-6fc87f4aa7b8\">\n",
              "    <div class=\"colab-df-container\">\n",
              "      <div>\n",
              "<style scoped>\n",
              "    .dataframe tbody tr th:only-of-type {\n",
              "        vertical-align: middle;\n",
              "    }\n",
              "\n",
              "    .dataframe tbody tr th {\n",
              "        vertical-align: top;\n",
              "    }\n",
              "\n",
              "    .dataframe thead th {\n",
              "        text-align: right;\n",
              "    }\n",
              "</style>\n",
              "<table border=\"1\" class=\"dataframe\">\n",
              "  <thead>\n",
              "    <tr style=\"text-align: right;\">\n",
              "      <th></th>\n",
              "      <th>class</th>\n",
              "      <th>message</th>\n",
              "      <th>Clean_Messages</th>\n",
              "      <th>removed_punctuation</th>\n",
              "      <th>word_tokenized</th>\n",
              "      <th>sentence_tokenized</th>\n",
              "      <th>Message_WO_StopWords</th>\n",
              "    </tr>\n",
              "  </thead>\n",
              "  <tbody>\n",
              "    <tr>\n",
              "      <th>0</th>\n",
              "      <td>ham</td>\n",
              "      <td>Go until jurong point, crazy.. Available only ...</td>\n",
              "      <td>go until jurong point, crazy.. available only ...</td>\n",
              "      <td>go until jurong point  crazy   available only ...</td>\n",
              "      <td>[go, until, jurong, point, ,, crazy, .., avail...</td>\n",
              "      <td>[go until jurong point, crazy.. available only...</td>\n",
              "      <td>go jurong point , crazy .. available bugis n g...</td>\n",
              "    </tr>\n",
              "    <tr>\n",
              "      <th>1</th>\n",
              "      <td>ham</td>\n",
              "      <td>Ok lar... Joking wif u oni...</td>\n",
              "      <td>ok lar... joking wif u oni...</td>\n",
              "      <td>ok lar    joking wif u oni</td>\n",
              "      <td>[ok, lar, ..., joking, wif, u, oni, ...]</td>\n",
              "      <td>[ok lar... joking wif u oni...]</td>\n",
              "      <td>ok lar ... joking wif u oni ...</td>\n",
              "    </tr>\n",
              "    <tr>\n",
              "      <th>2</th>\n",
              "      <td>spam</td>\n",
              "      <td>Free entry in 2 a wkly comp to win FA Cup fina...</td>\n",
              "      <td>free entry in 2 a wkly comp to win fa cup fina...</td>\n",
              "      <td>free entry in 2 a wkly comp to win fa cup fina...</td>\n",
              "      <td>[free, entry, in, 2, a, wkly, comp, to, win, f...</td>\n",
              "      <td>[free entry in 2 a wkly comp to win fa cup fin...</td>\n",
              "      <td>free entry 2 wkly comp win fa cup final tkts 2...</td>\n",
              "    </tr>\n",
              "    <tr>\n",
              "      <th>3</th>\n",
              "      <td>ham</td>\n",
              "      <td>U dun say so early hor... U c already then say...</td>\n",
              "      <td>u dun say so early hor... u c already then say...</td>\n",
              "      <td>u dun say so early hor    u c already then say</td>\n",
              "      <td>[u, dun, say, so, early, hor, ..., u, c, alrea...</td>\n",
              "      <td>[u dun say so early hor... u c already then sa...</td>\n",
              "      <td>u dun say early hor ... u c already say ...</td>\n",
              "    </tr>\n",
              "    <tr>\n",
              "      <th>4</th>\n",
              "      <td>ham</td>\n",
              "      <td>Nah I don't think he goes to usf, he lives aro...</td>\n",
              "      <td>nah i don't think he goes to usf, he lives aro...</td>\n",
              "      <td>nah i don t think he goes to usf  he lives aro...</td>\n",
              "      <td>[nah, i, do, n't, think, he, goes, to, usf, ,,...</td>\n",
              "      <td>[nah i don't think he goes to usf, he lives ar...</td>\n",
              "      <td>nah n't think goes usf , lives around though</td>\n",
              "    </tr>\n",
              "  </tbody>\n",
              "</table>\n",
              "</div>\n",
              "      <button class=\"colab-df-convert\" onclick=\"convertToInteractive('df-f464e1ca-0676-4127-9d9e-6fc87f4aa7b8')\"\n",
              "              title=\"Convert this dataframe to an interactive table.\"\n",
              "              style=\"display:none;\">\n",
              "        \n",
              "  <svg xmlns=\"http://www.w3.org/2000/svg\" height=\"24px\"viewBox=\"0 0 24 24\"\n",
              "       width=\"24px\">\n",
              "    <path d=\"M0 0h24v24H0V0z\" fill=\"none\"/>\n",
              "    <path d=\"M18.56 5.44l.94 2.06.94-2.06 2.06-.94-2.06-.94-.94-2.06-.94 2.06-2.06.94zm-11 1L8.5 8.5l.94-2.06 2.06-.94-2.06-.94L8.5 2.5l-.94 2.06-2.06.94zm10 10l.94 2.06.94-2.06 2.06-.94-2.06-.94-.94-2.06-.94 2.06-2.06.94z\"/><path d=\"M17.41 7.96l-1.37-1.37c-.4-.4-.92-.59-1.43-.59-.52 0-1.04.2-1.43.59L10.3 9.45l-7.72 7.72c-.78.78-.78 2.05 0 2.83L4 21.41c.39.39.9.59 1.41.59.51 0 1.02-.2 1.41-.59l7.78-7.78 2.81-2.81c.8-.78.8-2.07 0-2.86zM5.41 20L4 18.59l7.72-7.72 1.47 1.35L5.41 20z\"/>\n",
              "  </svg>\n",
              "      </button>\n",
              "      \n",
              "  <style>\n",
              "    .colab-df-container {\n",
              "      display:flex;\n",
              "      flex-wrap:wrap;\n",
              "      gap: 12px;\n",
              "    }\n",
              "\n",
              "    .colab-df-convert {\n",
              "      background-color: #E8F0FE;\n",
              "      border: none;\n",
              "      border-radius: 50%;\n",
              "      cursor: pointer;\n",
              "      display: none;\n",
              "      fill: #1967D2;\n",
              "      height: 32px;\n",
              "      padding: 0 0 0 0;\n",
              "      width: 32px;\n",
              "    }\n",
              "\n",
              "    .colab-df-convert:hover {\n",
              "      background-color: #E2EBFA;\n",
              "      box-shadow: 0px 1px 2px rgba(60, 64, 67, 0.3), 0px 1px 3px 1px rgba(60, 64, 67, 0.15);\n",
              "      fill: #174EA6;\n",
              "    }\n",
              "\n",
              "    [theme=dark] .colab-df-convert {\n",
              "      background-color: #3B4455;\n",
              "      fill: #D2E3FC;\n",
              "    }\n",
              "\n",
              "    [theme=dark] .colab-df-convert:hover {\n",
              "      background-color: #434B5C;\n",
              "      box-shadow: 0px 1px 3px 1px rgba(0, 0, 0, 0.15);\n",
              "      filter: drop-shadow(0px 1px 2px rgba(0, 0, 0, 0.3));\n",
              "      fill: #FFFFFF;\n",
              "    }\n",
              "  </style>\n",
              "\n",
              "      <script>\n",
              "        const buttonEl =\n",
              "          document.querySelector('#df-f464e1ca-0676-4127-9d9e-6fc87f4aa7b8 button.colab-df-convert');\n",
              "        buttonEl.style.display =\n",
              "          google.colab.kernel.accessAllowed ? 'block' : 'none';\n",
              "\n",
              "        async function convertToInteractive(key) {\n",
              "          const element = document.querySelector('#df-f464e1ca-0676-4127-9d9e-6fc87f4aa7b8');\n",
              "          const dataTable =\n",
              "            await google.colab.kernel.invokeFunction('convertToInteractive',\n",
              "                                                     [key], {});\n",
              "          if (!dataTable) return;\n",
              "\n",
              "          const docLinkHtml = 'Like what you see? Visit the ' +\n",
              "            '<a target=\"_blank\" href=https://colab.research.google.com/notebooks/data_table.ipynb>data table notebook</a>'\n",
              "            + ' to learn more about interactive tables.';\n",
              "          element.innerHTML = '';\n",
              "          dataTable['output_type'] = 'display_data';\n",
              "          await google.colab.output.renderOutput(dataTable, element);\n",
              "          const docLink = document.createElement('div');\n",
              "          docLink.innerHTML = docLinkHtml;\n",
              "          element.appendChild(docLink);\n",
              "        }\n",
              "      </script>\n",
              "    </div>\n",
              "  </div>\n",
              "  "
            ]
          },
          "metadata": {},
          "execution_count": 12
        }
      ]
    },
    {
      "cell_type": "markdown",
      "source": [
        "Stemming"
      ],
      "metadata": {
        "id": "I5oBsyU7ZiqK"
      }
    },
    {
      "cell_type": "code",
      "source": [
        "ps = PorterStemmer()\n",
        "\n",
        "def stemming(text):\n",
        "  stem_text = [ps.stem(word) for word in text]\n",
        "  return stem_text"
      ],
      "metadata": {
        "id": "ic-_HgvbbftH"
      },
      "execution_count": 13,
      "outputs": []
    },
    {
      "cell_type": "code",
      "source": [
        "df['stemmed_message'] = df['Message_WO_StopWords'].apply(lambda x: stemming(x))\n",
        "#df['stemmed_message'].tolist()\n",
        "df.head()"
      ],
      "metadata": {
        "colab": {
          "base_uri": "https://localhost:8080/",
          "height": 563
        },
        "id": "V2ZMMRrOSNlj",
        "outputId": "31994791-5bfe-4f94-905b-817b21a780fd"
      },
      "execution_count": 14,
      "outputs": [
        {
          "output_type": "execute_result",
          "data": {
            "text/plain": [
              "  class                                            message  \\\n",
              "0   ham  Go until jurong point, crazy.. Available only ...   \n",
              "1   ham                      Ok lar... Joking wif u oni...   \n",
              "2  spam  Free entry in 2 a wkly comp to win FA Cup fina...   \n",
              "3   ham  U dun say so early hor... U c already then say...   \n",
              "4   ham  Nah I don't think he goes to usf, he lives aro...   \n",
              "\n",
              "                                      Clean_Messages  \\\n",
              "0  go until jurong point, crazy.. available only ...   \n",
              "1                      ok lar... joking wif u oni...   \n",
              "2  free entry in 2 a wkly comp to win fa cup fina...   \n",
              "3  u dun say so early hor... u c already then say...   \n",
              "4  nah i don't think he goes to usf, he lives aro...   \n",
              "\n",
              "                                 removed_punctuation  \\\n",
              "0  go until jurong point  crazy   available only ...   \n",
              "1                      ok lar    joking wif u oni      \n",
              "2  free entry in 2 a wkly comp to win fa cup fina...   \n",
              "3  u dun say so early hor    u c already then say      \n",
              "4  nah i don t think he goes to usf  he lives aro...   \n",
              "\n",
              "                                      word_tokenized  \\\n",
              "0  [go, until, jurong, point, ,, crazy, .., avail...   \n",
              "1           [ok, lar, ..., joking, wif, u, oni, ...]   \n",
              "2  [free, entry, in, 2, a, wkly, comp, to, win, f...   \n",
              "3  [u, dun, say, so, early, hor, ..., u, c, alrea...   \n",
              "4  [nah, i, do, n't, think, he, goes, to, usf, ,,...   \n",
              "\n",
              "                                  sentence_tokenized  \\\n",
              "0  [go until jurong point, crazy.. available only...   \n",
              "1                    [ok lar... joking wif u oni...]   \n",
              "2  [free entry in 2 a wkly comp to win fa cup fin...   \n",
              "3  [u dun say so early hor... u c already then sa...   \n",
              "4  [nah i don't think he goes to usf, he lives ar...   \n",
              "\n",
              "                                Message_WO_StopWords  \\\n",
              "0  go jurong point , crazy .. available bugis n g...   \n",
              "1                    ok lar ... joking wif u oni ...   \n",
              "2  free entry 2 wkly comp win fa cup final tkts 2...   \n",
              "3        u dun say early hor ... u c already say ...   \n",
              "4       nah n't think goes usf , lives around though   \n",
              "\n",
              "                                     stemmed_message  \n",
              "0  [g, o,  , j, u, r, o, n, g,  , p, o, i, n, t, ...  \n",
              "1  [o, k,  , l, a, r,  , ., ., .,  , j, o, k, i, ...  \n",
              "2  [f, r, e, e,  , e, n, t, r, y,  , 2,  , w, k, ...  \n",
              "3  [u,  , d, u, n,  , s, a, y,  , e, a, r, l, y, ...  \n",
              "4  [n, a, h,  , n, ', t,  , t, h, i, n, k,  , g, ...  "
            ],
            "text/html": [
              "\n",
              "  <div id=\"df-e3d848ce-6ccb-48a3-a940-32f9e9f7e428\">\n",
              "    <div class=\"colab-df-container\">\n",
              "      <div>\n",
              "<style scoped>\n",
              "    .dataframe tbody tr th:only-of-type {\n",
              "        vertical-align: middle;\n",
              "    }\n",
              "\n",
              "    .dataframe tbody tr th {\n",
              "        vertical-align: top;\n",
              "    }\n",
              "\n",
              "    .dataframe thead th {\n",
              "        text-align: right;\n",
              "    }\n",
              "</style>\n",
              "<table border=\"1\" class=\"dataframe\">\n",
              "  <thead>\n",
              "    <tr style=\"text-align: right;\">\n",
              "      <th></th>\n",
              "      <th>class</th>\n",
              "      <th>message</th>\n",
              "      <th>Clean_Messages</th>\n",
              "      <th>removed_punctuation</th>\n",
              "      <th>word_tokenized</th>\n",
              "      <th>sentence_tokenized</th>\n",
              "      <th>Message_WO_StopWords</th>\n",
              "      <th>stemmed_message</th>\n",
              "    </tr>\n",
              "  </thead>\n",
              "  <tbody>\n",
              "    <tr>\n",
              "      <th>0</th>\n",
              "      <td>ham</td>\n",
              "      <td>Go until jurong point, crazy.. Available only ...</td>\n",
              "      <td>go until jurong point, crazy.. available only ...</td>\n",
              "      <td>go until jurong point  crazy   available only ...</td>\n",
              "      <td>[go, until, jurong, point, ,, crazy, .., avail...</td>\n",
              "      <td>[go until jurong point, crazy.. available only...</td>\n",
              "      <td>go jurong point , crazy .. available bugis n g...</td>\n",
              "      <td>[g, o,  , j, u, r, o, n, g,  , p, o, i, n, t, ...</td>\n",
              "    </tr>\n",
              "    <tr>\n",
              "      <th>1</th>\n",
              "      <td>ham</td>\n",
              "      <td>Ok lar... Joking wif u oni...</td>\n",
              "      <td>ok lar... joking wif u oni...</td>\n",
              "      <td>ok lar    joking wif u oni</td>\n",
              "      <td>[ok, lar, ..., joking, wif, u, oni, ...]</td>\n",
              "      <td>[ok lar... joking wif u oni...]</td>\n",
              "      <td>ok lar ... joking wif u oni ...</td>\n",
              "      <td>[o, k,  , l, a, r,  , ., ., .,  , j, o, k, i, ...</td>\n",
              "    </tr>\n",
              "    <tr>\n",
              "      <th>2</th>\n",
              "      <td>spam</td>\n",
              "      <td>Free entry in 2 a wkly comp to win FA Cup fina...</td>\n",
              "      <td>free entry in 2 a wkly comp to win fa cup fina...</td>\n",
              "      <td>free entry in 2 a wkly comp to win fa cup fina...</td>\n",
              "      <td>[free, entry, in, 2, a, wkly, comp, to, win, f...</td>\n",
              "      <td>[free entry in 2 a wkly comp to win fa cup fin...</td>\n",
              "      <td>free entry 2 wkly comp win fa cup final tkts 2...</td>\n",
              "      <td>[f, r, e, e,  , e, n, t, r, y,  , 2,  , w, k, ...</td>\n",
              "    </tr>\n",
              "    <tr>\n",
              "      <th>3</th>\n",
              "      <td>ham</td>\n",
              "      <td>U dun say so early hor... U c already then say...</td>\n",
              "      <td>u dun say so early hor... u c already then say...</td>\n",
              "      <td>u dun say so early hor    u c already then say</td>\n",
              "      <td>[u, dun, say, so, early, hor, ..., u, c, alrea...</td>\n",
              "      <td>[u dun say so early hor... u c already then sa...</td>\n",
              "      <td>u dun say early hor ... u c already say ...</td>\n",
              "      <td>[u,  , d, u, n,  , s, a, y,  , e, a, r, l, y, ...</td>\n",
              "    </tr>\n",
              "    <tr>\n",
              "      <th>4</th>\n",
              "      <td>ham</td>\n",
              "      <td>Nah I don't think he goes to usf, he lives aro...</td>\n",
              "      <td>nah i don't think he goes to usf, he lives aro...</td>\n",
              "      <td>nah i don t think he goes to usf  he lives aro...</td>\n",
              "      <td>[nah, i, do, n't, think, he, goes, to, usf, ,,...</td>\n",
              "      <td>[nah i don't think he goes to usf, he lives ar...</td>\n",
              "      <td>nah n't think goes usf , lives around though</td>\n",
              "      <td>[n, a, h,  , n, ', t,  , t, h, i, n, k,  , g, ...</td>\n",
              "    </tr>\n",
              "  </tbody>\n",
              "</table>\n",
              "</div>\n",
              "      <button class=\"colab-df-convert\" onclick=\"convertToInteractive('df-e3d848ce-6ccb-48a3-a940-32f9e9f7e428')\"\n",
              "              title=\"Convert this dataframe to an interactive table.\"\n",
              "              style=\"display:none;\">\n",
              "        \n",
              "  <svg xmlns=\"http://www.w3.org/2000/svg\" height=\"24px\"viewBox=\"0 0 24 24\"\n",
              "       width=\"24px\">\n",
              "    <path d=\"M0 0h24v24H0V0z\" fill=\"none\"/>\n",
              "    <path d=\"M18.56 5.44l.94 2.06.94-2.06 2.06-.94-2.06-.94-.94-2.06-.94 2.06-2.06.94zm-11 1L8.5 8.5l.94-2.06 2.06-.94-2.06-.94L8.5 2.5l-.94 2.06-2.06.94zm10 10l.94 2.06.94-2.06 2.06-.94-2.06-.94-.94-2.06-.94 2.06-2.06.94z\"/><path d=\"M17.41 7.96l-1.37-1.37c-.4-.4-.92-.59-1.43-.59-.52 0-1.04.2-1.43.59L10.3 9.45l-7.72 7.72c-.78.78-.78 2.05 0 2.83L4 21.41c.39.39.9.59 1.41.59.51 0 1.02-.2 1.41-.59l7.78-7.78 2.81-2.81c.8-.78.8-2.07 0-2.86zM5.41 20L4 18.59l7.72-7.72 1.47 1.35L5.41 20z\"/>\n",
              "  </svg>\n",
              "      </button>\n",
              "      \n",
              "  <style>\n",
              "    .colab-df-container {\n",
              "      display:flex;\n",
              "      flex-wrap:wrap;\n",
              "      gap: 12px;\n",
              "    }\n",
              "\n",
              "    .colab-df-convert {\n",
              "      background-color: #E8F0FE;\n",
              "      border: none;\n",
              "      border-radius: 50%;\n",
              "      cursor: pointer;\n",
              "      display: none;\n",
              "      fill: #1967D2;\n",
              "      height: 32px;\n",
              "      padding: 0 0 0 0;\n",
              "      width: 32px;\n",
              "    }\n",
              "\n",
              "    .colab-df-convert:hover {\n",
              "      background-color: #E2EBFA;\n",
              "      box-shadow: 0px 1px 2px rgba(60, 64, 67, 0.3), 0px 1px 3px 1px rgba(60, 64, 67, 0.15);\n",
              "      fill: #174EA6;\n",
              "    }\n",
              "\n",
              "    [theme=dark] .colab-df-convert {\n",
              "      background-color: #3B4455;\n",
              "      fill: #D2E3FC;\n",
              "    }\n",
              "\n",
              "    [theme=dark] .colab-df-convert:hover {\n",
              "      background-color: #434B5C;\n",
              "      box-shadow: 0px 1px 3px 1px rgba(0, 0, 0, 0.15);\n",
              "      filter: drop-shadow(0px 1px 2px rgba(0, 0, 0, 0.3));\n",
              "      fill: #FFFFFF;\n",
              "    }\n",
              "  </style>\n",
              "\n",
              "      <script>\n",
              "        const buttonEl =\n",
              "          document.querySelector('#df-e3d848ce-6ccb-48a3-a940-32f9e9f7e428 button.colab-df-convert');\n",
              "        buttonEl.style.display =\n",
              "          google.colab.kernel.accessAllowed ? 'block' : 'none';\n",
              "\n",
              "        async function convertToInteractive(key) {\n",
              "          const element = document.querySelector('#df-e3d848ce-6ccb-48a3-a940-32f9e9f7e428');\n",
              "          const dataTable =\n",
              "            await google.colab.kernel.invokeFunction('convertToInteractive',\n",
              "                                                     [key], {});\n",
              "          if (!dataTable) return;\n",
              "\n",
              "          const docLinkHtml = 'Like what you see? Visit the ' +\n",
              "            '<a target=\"_blank\" href=https://colab.research.google.com/notebooks/data_table.ipynb>data table notebook</a>'\n",
              "            + ' to learn more about interactive tables.';\n",
              "          element.innerHTML = '';\n",
              "          dataTable['output_type'] = 'display_data';\n",
              "          await google.colab.output.renderOutput(dataTable, element);\n",
              "          const docLink = document.createElement('div');\n",
              "          docLink.innerHTML = docLinkHtml;\n",
              "          element.appendChild(docLink);\n",
              "        }\n",
              "      </script>\n",
              "    </div>\n",
              "  </div>\n",
              "  "
            ]
          },
          "metadata": {},
          "execution_count": 14
        }
      ]
    },
    {
      "cell_type": "markdown",
      "source": [
        "n-grams"
      ],
      "metadata": {
        "id": "VpaE699QWTGB"
      }
    },
    {
      "cell_type": "code",
      "source": [
        "#method to generate n-grams:\n",
        "#params:\n",
        "#text-the text for which we have to generate n-grams\n",
        "#ngram-number of grams to be generated from the text(1,2,3,4 etc., default value=1)\n",
        "\n",
        "def generate_N_grams(text,ngram=1):\n",
        "  words=[word for word in text.split(\" \") if word not in set(stopwords.words('english'))]  \n",
        "  #print(\"Sentence after removing stopwords:\",words) uncomment to see a more specific change in print output statements.\n",
        "  temp=zip(*[words[i:] for i in range(0,ngram)])\n",
        "  ans=[' '.join(ngram) for ngram in temp]\n",
        "  return ans\n"
      ],
      "metadata": {
        "id": "CgfYiJE2WUny"
      },
      "execution_count": 15,
      "outputs": []
    },
    {
      "cell_type": "code",
      "source": [
        "df['n_grams_for_message'] = df['Message_WO_StopWords'].apply(generate_N_grams)\n",
        "df.head()"
      ],
      "metadata": {
        "colab": {
          "base_uri": "https://localhost:8080/",
          "height": 722
        },
        "id": "RrZp86SXYsrg",
        "outputId": "dcf537c7-3dd5-4eb5-c573-2d3944e64d46"
      },
      "execution_count": 16,
      "outputs": [
        {
          "output_type": "execute_result",
          "data": {
            "text/plain": [
              "  class                                            message  \\\n",
              "0   ham  Go until jurong point, crazy.. Available only ...   \n",
              "1   ham                      Ok lar... Joking wif u oni...   \n",
              "2  spam  Free entry in 2 a wkly comp to win FA Cup fina...   \n",
              "3   ham  U dun say so early hor... U c already then say...   \n",
              "4   ham  Nah I don't think he goes to usf, he lives aro...   \n",
              "\n",
              "                                      Clean_Messages  \\\n",
              "0  go until jurong point, crazy.. available only ...   \n",
              "1                      ok lar... joking wif u oni...   \n",
              "2  free entry in 2 a wkly comp to win fa cup fina...   \n",
              "3  u dun say so early hor... u c already then say...   \n",
              "4  nah i don't think he goes to usf, he lives aro...   \n",
              "\n",
              "                                 removed_punctuation  \\\n",
              "0  go until jurong point  crazy   available only ...   \n",
              "1                      ok lar    joking wif u oni      \n",
              "2  free entry in 2 a wkly comp to win fa cup fina...   \n",
              "3  u dun say so early hor    u c already then say      \n",
              "4  nah i don t think he goes to usf  he lives aro...   \n",
              "\n",
              "                                      word_tokenized  \\\n",
              "0  [go, until, jurong, point, ,, crazy, .., avail...   \n",
              "1           [ok, lar, ..., joking, wif, u, oni, ...]   \n",
              "2  [free, entry, in, 2, a, wkly, comp, to, win, f...   \n",
              "3  [u, dun, say, so, early, hor, ..., u, c, alrea...   \n",
              "4  [nah, i, do, n't, think, he, goes, to, usf, ,,...   \n",
              "\n",
              "                                  sentence_tokenized  \\\n",
              "0  [go until jurong point, crazy.. available only...   \n",
              "1                    [ok lar... joking wif u oni...]   \n",
              "2  [free entry in 2 a wkly comp to win fa cup fin...   \n",
              "3  [u dun say so early hor... u c already then sa...   \n",
              "4  [nah i don't think he goes to usf, he lives ar...   \n",
              "\n",
              "                                Message_WO_StopWords  \\\n",
              "0  go jurong point , crazy .. available bugis n g...   \n",
              "1                    ok lar ... joking wif u oni ...   \n",
              "2  free entry 2 wkly comp win fa cup final tkts 2...   \n",
              "3        u dun say early hor ... u c already say ...   \n",
              "4       nah n't think goes usf , lives around though   \n",
              "\n",
              "                                     stemmed_message  \\\n",
              "0  [g, o,  , j, u, r, o, n, g,  , p, o, i, n, t, ...   \n",
              "1  [o, k,  , l, a, r,  , ., ., .,  , j, o, k, i, ...   \n",
              "2  [f, r, e, e,  , e, n, t, r, y,  , 2,  , w, k, ...   \n",
              "3  [u,  , d, u, n,  , s, a, y,  , e, a, r, l, y, ...   \n",
              "4  [n, a, h,  , n, ', t,  , t, h, i, n, k,  , g, ...   \n",
              "\n",
              "                                 n_grams_for_message  \n",
              "0  [go, jurong, point, ,, crazy, .., available, b...  \n",
              "1           [ok, lar, ..., joking, wif, u, oni, ...]  \n",
              "2  [free, entry, 2, wkly, comp, win, fa, cup, fin...  \n",
              "3  [u, dun, say, early, hor, ..., u, c, already, ...  \n",
              "4  [nah, n't, think, goes, usf, ,, lives, around,...  "
            ],
            "text/html": [
              "\n",
              "  <div id=\"df-b749f348-f7b5-4685-8f88-eb21780ca79a\">\n",
              "    <div class=\"colab-df-container\">\n",
              "      <div>\n",
              "<style scoped>\n",
              "    .dataframe tbody tr th:only-of-type {\n",
              "        vertical-align: middle;\n",
              "    }\n",
              "\n",
              "    .dataframe tbody tr th {\n",
              "        vertical-align: top;\n",
              "    }\n",
              "\n",
              "    .dataframe thead th {\n",
              "        text-align: right;\n",
              "    }\n",
              "</style>\n",
              "<table border=\"1\" class=\"dataframe\">\n",
              "  <thead>\n",
              "    <tr style=\"text-align: right;\">\n",
              "      <th></th>\n",
              "      <th>class</th>\n",
              "      <th>message</th>\n",
              "      <th>Clean_Messages</th>\n",
              "      <th>removed_punctuation</th>\n",
              "      <th>word_tokenized</th>\n",
              "      <th>sentence_tokenized</th>\n",
              "      <th>Message_WO_StopWords</th>\n",
              "      <th>stemmed_message</th>\n",
              "      <th>n_grams_for_message</th>\n",
              "    </tr>\n",
              "  </thead>\n",
              "  <tbody>\n",
              "    <tr>\n",
              "      <th>0</th>\n",
              "      <td>ham</td>\n",
              "      <td>Go until jurong point, crazy.. Available only ...</td>\n",
              "      <td>go until jurong point, crazy.. available only ...</td>\n",
              "      <td>go until jurong point  crazy   available only ...</td>\n",
              "      <td>[go, until, jurong, point, ,, crazy, .., avail...</td>\n",
              "      <td>[go until jurong point, crazy.. available only...</td>\n",
              "      <td>go jurong point , crazy .. available bugis n g...</td>\n",
              "      <td>[g, o,  , j, u, r, o, n, g,  , p, o, i, n, t, ...</td>\n",
              "      <td>[go, jurong, point, ,, crazy, .., available, b...</td>\n",
              "    </tr>\n",
              "    <tr>\n",
              "      <th>1</th>\n",
              "      <td>ham</td>\n",
              "      <td>Ok lar... Joking wif u oni...</td>\n",
              "      <td>ok lar... joking wif u oni...</td>\n",
              "      <td>ok lar    joking wif u oni</td>\n",
              "      <td>[ok, lar, ..., joking, wif, u, oni, ...]</td>\n",
              "      <td>[ok lar... joking wif u oni...]</td>\n",
              "      <td>ok lar ... joking wif u oni ...</td>\n",
              "      <td>[o, k,  , l, a, r,  , ., ., .,  , j, o, k, i, ...</td>\n",
              "      <td>[ok, lar, ..., joking, wif, u, oni, ...]</td>\n",
              "    </tr>\n",
              "    <tr>\n",
              "      <th>2</th>\n",
              "      <td>spam</td>\n",
              "      <td>Free entry in 2 a wkly comp to win FA Cup fina...</td>\n",
              "      <td>free entry in 2 a wkly comp to win fa cup fina...</td>\n",
              "      <td>free entry in 2 a wkly comp to win fa cup fina...</td>\n",
              "      <td>[free, entry, in, 2, a, wkly, comp, to, win, f...</td>\n",
              "      <td>[free entry in 2 a wkly comp to win fa cup fin...</td>\n",
              "      <td>free entry 2 wkly comp win fa cup final tkts 2...</td>\n",
              "      <td>[f, r, e, e,  , e, n, t, r, y,  , 2,  , w, k, ...</td>\n",
              "      <td>[free, entry, 2, wkly, comp, win, fa, cup, fin...</td>\n",
              "    </tr>\n",
              "    <tr>\n",
              "      <th>3</th>\n",
              "      <td>ham</td>\n",
              "      <td>U dun say so early hor... U c already then say...</td>\n",
              "      <td>u dun say so early hor... u c already then say...</td>\n",
              "      <td>u dun say so early hor    u c already then say</td>\n",
              "      <td>[u, dun, say, so, early, hor, ..., u, c, alrea...</td>\n",
              "      <td>[u dun say so early hor... u c already then sa...</td>\n",
              "      <td>u dun say early hor ... u c already say ...</td>\n",
              "      <td>[u,  , d, u, n,  , s, a, y,  , e, a, r, l, y, ...</td>\n",
              "      <td>[u, dun, say, early, hor, ..., u, c, already, ...</td>\n",
              "    </tr>\n",
              "    <tr>\n",
              "      <th>4</th>\n",
              "      <td>ham</td>\n",
              "      <td>Nah I don't think he goes to usf, he lives aro...</td>\n",
              "      <td>nah i don't think he goes to usf, he lives aro...</td>\n",
              "      <td>nah i don t think he goes to usf  he lives aro...</td>\n",
              "      <td>[nah, i, do, n't, think, he, goes, to, usf, ,,...</td>\n",
              "      <td>[nah i don't think he goes to usf, he lives ar...</td>\n",
              "      <td>nah n't think goes usf , lives around though</td>\n",
              "      <td>[n, a, h,  , n, ', t,  , t, h, i, n, k,  , g, ...</td>\n",
              "      <td>[nah, n't, think, goes, usf, ,, lives, around,...</td>\n",
              "    </tr>\n",
              "  </tbody>\n",
              "</table>\n",
              "</div>\n",
              "      <button class=\"colab-df-convert\" onclick=\"convertToInteractive('df-b749f348-f7b5-4685-8f88-eb21780ca79a')\"\n",
              "              title=\"Convert this dataframe to an interactive table.\"\n",
              "              style=\"display:none;\">\n",
              "        \n",
              "  <svg xmlns=\"http://www.w3.org/2000/svg\" height=\"24px\"viewBox=\"0 0 24 24\"\n",
              "       width=\"24px\">\n",
              "    <path d=\"M0 0h24v24H0V0z\" fill=\"none\"/>\n",
              "    <path d=\"M18.56 5.44l.94 2.06.94-2.06 2.06-.94-2.06-.94-.94-2.06-.94 2.06-2.06.94zm-11 1L8.5 8.5l.94-2.06 2.06-.94-2.06-.94L8.5 2.5l-.94 2.06-2.06.94zm10 10l.94 2.06.94-2.06 2.06-.94-2.06-.94-.94-2.06-.94 2.06-2.06.94z\"/><path d=\"M17.41 7.96l-1.37-1.37c-.4-.4-.92-.59-1.43-.59-.52 0-1.04.2-1.43.59L10.3 9.45l-7.72 7.72c-.78.78-.78 2.05 0 2.83L4 21.41c.39.39.9.59 1.41.59.51 0 1.02-.2 1.41-.59l7.78-7.78 2.81-2.81c.8-.78.8-2.07 0-2.86zM5.41 20L4 18.59l7.72-7.72 1.47 1.35L5.41 20z\"/>\n",
              "  </svg>\n",
              "      </button>\n",
              "      \n",
              "  <style>\n",
              "    .colab-df-container {\n",
              "      display:flex;\n",
              "      flex-wrap:wrap;\n",
              "      gap: 12px;\n",
              "    }\n",
              "\n",
              "    .colab-df-convert {\n",
              "      background-color: #E8F0FE;\n",
              "      border: none;\n",
              "      border-radius: 50%;\n",
              "      cursor: pointer;\n",
              "      display: none;\n",
              "      fill: #1967D2;\n",
              "      height: 32px;\n",
              "      padding: 0 0 0 0;\n",
              "      width: 32px;\n",
              "    }\n",
              "\n",
              "    .colab-df-convert:hover {\n",
              "      background-color: #E2EBFA;\n",
              "      box-shadow: 0px 1px 2px rgba(60, 64, 67, 0.3), 0px 1px 3px 1px rgba(60, 64, 67, 0.15);\n",
              "      fill: #174EA6;\n",
              "    }\n",
              "\n",
              "    [theme=dark] .colab-df-convert {\n",
              "      background-color: #3B4455;\n",
              "      fill: #D2E3FC;\n",
              "    }\n",
              "\n",
              "    [theme=dark] .colab-df-convert:hover {\n",
              "      background-color: #434B5C;\n",
              "      box-shadow: 0px 1px 3px 1px rgba(0, 0, 0, 0.15);\n",
              "      filter: drop-shadow(0px 1px 2px rgba(0, 0, 0, 0.3));\n",
              "      fill: #FFFFFF;\n",
              "    }\n",
              "  </style>\n",
              "\n",
              "      <script>\n",
              "        const buttonEl =\n",
              "          document.querySelector('#df-b749f348-f7b5-4685-8f88-eb21780ca79a button.colab-df-convert');\n",
              "        buttonEl.style.display =\n",
              "          google.colab.kernel.accessAllowed ? 'block' : 'none';\n",
              "\n",
              "        async function convertToInteractive(key) {\n",
              "          const element = document.querySelector('#df-b749f348-f7b5-4685-8f88-eb21780ca79a');\n",
              "          const dataTable =\n",
              "            await google.colab.kernel.invokeFunction('convertToInteractive',\n",
              "                                                     [key], {});\n",
              "          if (!dataTable) return;\n",
              "\n",
              "          const docLinkHtml = 'Like what you see? Visit the ' +\n",
              "            '<a target=\"_blank\" href=https://colab.research.google.com/notebooks/data_table.ipynb>data table notebook</a>'\n",
              "            + ' to learn more about interactive tables.';\n",
              "          element.innerHTML = '';\n",
              "          dataTable['output_type'] = 'display_data';\n",
              "          await google.colab.output.renderOutput(dataTable, element);\n",
              "          const docLink = document.createElement('div');\n",
              "          docLink.innerHTML = docLinkHtml;\n",
              "          element.appendChild(docLink);\n",
              "        }\n",
              "      </script>\n",
              "    </div>\n",
              "  </div>\n",
              "  "
            ]
          },
          "metadata": {},
          "execution_count": 16
        }
      ]
    },
    {
      "cell_type": "markdown",
      "source": [
        "Converting to integer index"
      ],
      "metadata": {
        "id": "52Wvg_qvaF_I"
      }
    },
    {
      "cell_type": "code",
      "source": [
        "df['tokenized_word_index'] = df['word_tokenized'].index\n",
        "df.head()"
      ],
      "metadata": {
        "colab": {
          "base_uri": "https://localhost:8080/",
          "height": 722
        },
        "id": "kfLELc2PaMD-",
        "outputId": "c254e4b0-397e-4a12-9c3b-957f9e22a048"
      },
      "execution_count": 17,
      "outputs": [
        {
          "output_type": "execute_result",
          "data": {
            "text/plain": [
              "  class                                            message  \\\n",
              "0   ham  Go until jurong point, crazy.. Available only ...   \n",
              "1   ham                      Ok lar... Joking wif u oni...   \n",
              "2  spam  Free entry in 2 a wkly comp to win FA Cup fina...   \n",
              "3   ham  U dun say so early hor... U c already then say...   \n",
              "4   ham  Nah I don't think he goes to usf, he lives aro...   \n",
              "\n",
              "                                      Clean_Messages  \\\n",
              "0  go until jurong point, crazy.. available only ...   \n",
              "1                      ok lar... joking wif u oni...   \n",
              "2  free entry in 2 a wkly comp to win fa cup fina...   \n",
              "3  u dun say so early hor... u c already then say...   \n",
              "4  nah i don't think he goes to usf, he lives aro...   \n",
              "\n",
              "                                 removed_punctuation  \\\n",
              "0  go until jurong point  crazy   available only ...   \n",
              "1                      ok lar    joking wif u oni      \n",
              "2  free entry in 2 a wkly comp to win fa cup fina...   \n",
              "3  u dun say so early hor    u c already then say      \n",
              "4  nah i don t think he goes to usf  he lives aro...   \n",
              "\n",
              "                                      word_tokenized  \\\n",
              "0  [go, until, jurong, point, ,, crazy, .., avail...   \n",
              "1           [ok, lar, ..., joking, wif, u, oni, ...]   \n",
              "2  [free, entry, in, 2, a, wkly, comp, to, win, f...   \n",
              "3  [u, dun, say, so, early, hor, ..., u, c, alrea...   \n",
              "4  [nah, i, do, n't, think, he, goes, to, usf, ,,...   \n",
              "\n",
              "                                  sentence_tokenized  \\\n",
              "0  [go until jurong point, crazy.. available only...   \n",
              "1                    [ok lar... joking wif u oni...]   \n",
              "2  [free entry in 2 a wkly comp to win fa cup fin...   \n",
              "3  [u dun say so early hor... u c already then sa...   \n",
              "4  [nah i don't think he goes to usf, he lives ar...   \n",
              "\n",
              "                                Message_WO_StopWords  \\\n",
              "0  go jurong point , crazy .. available bugis n g...   \n",
              "1                    ok lar ... joking wif u oni ...   \n",
              "2  free entry 2 wkly comp win fa cup final tkts 2...   \n",
              "3        u dun say early hor ... u c already say ...   \n",
              "4       nah n't think goes usf , lives around though   \n",
              "\n",
              "                                     stemmed_message  \\\n",
              "0  [g, o,  , j, u, r, o, n, g,  , p, o, i, n, t, ...   \n",
              "1  [o, k,  , l, a, r,  , ., ., .,  , j, o, k, i, ...   \n",
              "2  [f, r, e, e,  , e, n, t, r, y,  , 2,  , w, k, ...   \n",
              "3  [u,  , d, u, n,  , s, a, y,  , e, a, r, l, y, ...   \n",
              "4  [n, a, h,  , n, ', t,  , t, h, i, n, k,  , g, ...   \n",
              "\n",
              "                                 n_grams_for_message  tokenized_word_index  \n",
              "0  [go, jurong, point, ,, crazy, .., available, b...                     0  \n",
              "1           [ok, lar, ..., joking, wif, u, oni, ...]                     1  \n",
              "2  [free, entry, 2, wkly, comp, win, fa, cup, fin...                     2  \n",
              "3  [u, dun, say, early, hor, ..., u, c, already, ...                     3  \n",
              "4  [nah, n't, think, goes, usf, ,, lives, around,...                     4  "
            ],
            "text/html": [
              "\n",
              "  <div id=\"df-314518f4-90a1-48bc-9e9f-e0b171a9176c\">\n",
              "    <div class=\"colab-df-container\">\n",
              "      <div>\n",
              "<style scoped>\n",
              "    .dataframe tbody tr th:only-of-type {\n",
              "        vertical-align: middle;\n",
              "    }\n",
              "\n",
              "    .dataframe tbody tr th {\n",
              "        vertical-align: top;\n",
              "    }\n",
              "\n",
              "    .dataframe thead th {\n",
              "        text-align: right;\n",
              "    }\n",
              "</style>\n",
              "<table border=\"1\" class=\"dataframe\">\n",
              "  <thead>\n",
              "    <tr style=\"text-align: right;\">\n",
              "      <th></th>\n",
              "      <th>class</th>\n",
              "      <th>message</th>\n",
              "      <th>Clean_Messages</th>\n",
              "      <th>removed_punctuation</th>\n",
              "      <th>word_tokenized</th>\n",
              "      <th>sentence_tokenized</th>\n",
              "      <th>Message_WO_StopWords</th>\n",
              "      <th>stemmed_message</th>\n",
              "      <th>n_grams_for_message</th>\n",
              "      <th>tokenized_word_index</th>\n",
              "    </tr>\n",
              "  </thead>\n",
              "  <tbody>\n",
              "    <tr>\n",
              "      <th>0</th>\n",
              "      <td>ham</td>\n",
              "      <td>Go until jurong point, crazy.. Available only ...</td>\n",
              "      <td>go until jurong point, crazy.. available only ...</td>\n",
              "      <td>go until jurong point  crazy   available only ...</td>\n",
              "      <td>[go, until, jurong, point, ,, crazy, .., avail...</td>\n",
              "      <td>[go until jurong point, crazy.. available only...</td>\n",
              "      <td>go jurong point , crazy .. available bugis n g...</td>\n",
              "      <td>[g, o,  , j, u, r, o, n, g,  , p, o, i, n, t, ...</td>\n",
              "      <td>[go, jurong, point, ,, crazy, .., available, b...</td>\n",
              "      <td>0</td>\n",
              "    </tr>\n",
              "    <tr>\n",
              "      <th>1</th>\n",
              "      <td>ham</td>\n",
              "      <td>Ok lar... Joking wif u oni...</td>\n",
              "      <td>ok lar... joking wif u oni...</td>\n",
              "      <td>ok lar    joking wif u oni</td>\n",
              "      <td>[ok, lar, ..., joking, wif, u, oni, ...]</td>\n",
              "      <td>[ok lar... joking wif u oni...]</td>\n",
              "      <td>ok lar ... joking wif u oni ...</td>\n",
              "      <td>[o, k,  , l, a, r,  , ., ., .,  , j, o, k, i, ...</td>\n",
              "      <td>[ok, lar, ..., joking, wif, u, oni, ...]</td>\n",
              "      <td>1</td>\n",
              "    </tr>\n",
              "    <tr>\n",
              "      <th>2</th>\n",
              "      <td>spam</td>\n",
              "      <td>Free entry in 2 a wkly comp to win FA Cup fina...</td>\n",
              "      <td>free entry in 2 a wkly comp to win fa cup fina...</td>\n",
              "      <td>free entry in 2 a wkly comp to win fa cup fina...</td>\n",
              "      <td>[free, entry, in, 2, a, wkly, comp, to, win, f...</td>\n",
              "      <td>[free entry in 2 a wkly comp to win fa cup fin...</td>\n",
              "      <td>free entry 2 wkly comp win fa cup final tkts 2...</td>\n",
              "      <td>[f, r, e, e,  , e, n, t, r, y,  , 2,  , w, k, ...</td>\n",
              "      <td>[free, entry, 2, wkly, comp, win, fa, cup, fin...</td>\n",
              "      <td>2</td>\n",
              "    </tr>\n",
              "    <tr>\n",
              "      <th>3</th>\n",
              "      <td>ham</td>\n",
              "      <td>U dun say so early hor... U c already then say...</td>\n",
              "      <td>u dun say so early hor... u c already then say...</td>\n",
              "      <td>u dun say so early hor    u c already then say</td>\n",
              "      <td>[u, dun, say, so, early, hor, ..., u, c, alrea...</td>\n",
              "      <td>[u dun say so early hor... u c already then sa...</td>\n",
              "      <td>u dun say early hor ... u c already say ...</td>\n",
              "      <td>[u,  , d, u, n,  , s, a, y,  , e, a, r, l, y, ...</td>\n",
              "      <td>[u, dun, say, early, hor, ..., u, c, already, ...</td>\n",
              "      <td>3</td>\n",
              "    </tr>\n",
              "    <tr>\n",
              "      <th>4</th>\n",
              "      <td>ham</td>\n",
              "      <td>Nah I don't think he goes to usf, he lives aro...</td>\n",
              "      <td>nah i don't think he goes to usf, he lives aro...</td>\n",
              "      <td>nah i don t think he goes to usf  he lives aro...</td>\n",
              "      <td>[nah, i, do, n't, think, he, goes, to, usf, ,,...</td>\n",
              "      <td>[nah i don't think he goes to usf, he lives ar...</td>\n",
              "      <td>nah n't think goes usf , lives around though</td>\n",
              "      <td>[n, a, h,  , n, ', t,  , t, h, i, n, k,  , g, ...</td>\n",
              "      <td>[nah, n't, think, goes, usf, ,, lives, around,...</td>\n",
              "      <td>4</td>\n",
              "    </tr>\n",
              "  </tbody>\n",
              "</table>\n",
              "</div>\n",
              "      <button class=\"colab-df-convert\" onclick=\"convertToInteractive('df-314518f4-90a1-48bc-9e9f-e0b171a9176c')\"\n",
              "              title=\"Convert this dataframe to an interactive table.\"\n",
              "              style=\"display:none;\">\n",
              "        \n",
              "  <svg xmlns=\"http://www.w3.org/2000/svg\" height=\"24px\"viewBox=\"0 0 24 24\"\n",
              "       width=\"24px\">\n",
              "    <path d=\"M0 0h24v24H0V0z\" fill=\"none\"/>\n",
              "    <path d=\"M18.56 5.44l.94 2.06.94-2.06 2.06-.94-2.06-.94-.94-2.06-.94 2.06-2.06.94zm-11 1L8.5 8.5l.94-2.06 2.06-.94-2.06-.94L8.5 2.5l-.94 2.06-2.06.94zm10 10l.94 2.06.94-2.06 2.06-.94-2.06-.94-.94-2.06-.94 2.06-2.06.94z\"/><path d=\"M17.41 7.96l-1.37-1.37c-.4-.4-.92-.59-1.43-.59-.52 0-1.04.2-1.43.59L10.3 9.45l-7.72 7.72c-.78.78-.78 2.05 0 2.83L4 21.41c.39.39.9.59 1.41.59.51 0 1.02-.2 1.41-.59l7.78-7.78 2.81-2.81c.8-.78.8-2.07 0-2.86zM5.41 20L4 18.59l7.72-7.72 1.47 1.35L5.41 20z\"/>\n",
              "  </svg>\n",
              "      </button>\n",
              "      \n",
              "  <style>\n",
              "    .colab-df-container {\n",
              "      display:flex;\n",
              "      flex-wrap:wrap;\n",
              "      gap: 12px;\n",
              "    }\n",
              "\n",
              "    .colab-df-convert {\n",
              "      background-color: #E8F0FE;\n",
              "      border: none;\n",
              "      border-radius: 50%;\n",
              "      cursor: pointer;\n",
              "      display: none;\n",
              "      fill: #1967D2;\n",
              "      height: 32px;\n",
              "      padding: 0 0 0 0;\n",
              "      width: 32px;\n",
              "    }\n",
              "\n",
              "    .colab-df-convert:hover {\n",
              "      background-color: #E2EBFA;\n",
              "      box-shadow: 0px 1px 2px rgba(60, 64, 67, 0.3), 0px 1px 3px 1px rgba(60, 64, 67, 0.15);\n",
              "      fill: #174EA6;\n",
              "    }\n",
              "\n",
              "    [theme=dark] .colab-df-convert {\n",
              "      background-color: #3B4455;\n",
              "      fill: #D2E3FC;\n",
              "    }\n",
              "\n",
              "    [theme=dark] .colab-df-convert:hover {\n",
              "      background-color: #434B5C;\n",
              "      box-shadow: 0px 1px 3px 1px rgba(0, 0, 0, 0.15);\n",
              "      filter: drop-shadow(0px 1px 2px rgba(0, 0, 0, 0.3));\n",
              "      fill: #FFFFFF;\n",
              "    }\n",
              "  </style>\n",
              "\n",
              "      <script>\n",
              "        const buttonEl =\n",
              "          document.querySelector('#df-314518f4-90a1-48bc-9e9f-e0b171a9176c button.colab-df-convert');\n",
              "        buttonEl.style.display =\n",
              "          google.colab.kernel.accessAllowed ? 'block' : 'none';\n",
              "\n",
              "        async function convertToInteractive(key) {\n",
              "          const element = document.querySelector('#df-314518f4-90a1-48bc-9e9f-e0b171a9176c');\n",
              "          const dataTable =\n",
              "            await google.colab.kernel.invokeFunction('convertToInteractive',\n",
              "                                                     [key], {});\n",
              "          if (!dataTable) return;\n",
              "\n",
              "          const docLinkHtml = 'Like what you see? Visit the ' +\n",
              "            '<a target=\"_blank\" href=https://colab.research.google.com/notebooks/data_table.ipynb>data table notebook</a>'\n",
              "            + ' to learn more about interactive tables.';\n",
              "          element.innerHTML = '';\n",
              "          dataTable['output_type'] = 'display_data';\n",
              "          await google.colab.output.renderOutput(dataTable, element);\n",
              "          const docLink = document.createElement('div');\n",
              "          docLink.innerHTML = docLinkHtml;\n",
              "          element.appendChild(docLink);\n",
              "        }\n",
              "      </script>\n",
              "    </div>\n",
              "  </div>\n",
              "  "
            ]
          },
          "metadata": {},
          "execution_count": 17
        }
      ]
    },
    {
      "cell_type": "code",
      "source": [
        "df['tokenized_word_index'].dtypes"
      ],
      "metadata": {
        "colab": {
          "base_uri": "https://localhost:8080/"
        },
        "id": "rJ7tRtr3ipni",
        "outputId": "8cec0253-5bbb-4a4b-de89-e5915aa6883f"
      },
      "execution_count": 18,
      "outputs": [
        {
          "output_type": "execute_result",
          "data": {
            "text/plain": [
              "dtype('int64')"
            ]
          },
          "metadata": {},
          "execution_count": 18
        }
      ]
    },
    {
      "cell_type": "markdown",
      "source": [
        "Set Hyperparameters/Load model dependencies"
      ],
      "metadata": {
        "id": "Z-ftTuRYjEqK"
      }
    },
    {
      "cell_type": "code",
      "source": [
        "import keras\n",
        "from keras_preprocessing.sequence import pad_sequences\n",
        "from keras_preprocessing.text import Tokenizer\n",
        "from keras.models import Sequential \n",
        "from keras.layers import Dense,Dropout,Flatten\n",
        "from keras.layers import Embedding\n",
        "from keras.callbacks import ModelCheckpoint \n",
        "from keras.callbacks import EarlyStopping\n",
        "from keras.layers import SpatialDropout1D, Conv1D, GlobalMaxPooling1D  \n",
        "from keras.layers import SimpleRNN\n",
        "from keras.layers import LSTM\n",
        "\n",
        "import os\n",
        "from sklearn.preprocessing import LabelEncoder\n",
        "from sklearn.metrics import roc_auc_score, roc_curve\n",
        "import pandas as pd \n",
        "import matplotlib.pyplot as plt \n",
        "from sklearn.model_selection import train_test_split\n",
        "import tensorflow as tf\n",
        "%matplotlib inline"
      ],
      "metadata": {
        "id": "bpJtotM-mjOz"
      },
      "execution_count": 19,
      "outputs": []
    },
    {
      "cell_type": "code",
      "source": [
        "epochs = 8\n",
        "batch_size = 128\n",
        "n_dimensions = 64\n",
        "n_unique_words = 5000\n",
        "stop_words = 50\n",
        "max_mssg_length = 100\n",
        "pad_type=trunc_type = 'pre'\n",
        "n_dim = 64\n",
        "n_dense = 64\n",
        "dropout = 0.5\n",
        "\n",
        "drop_embed = 0.2 # convolutional model \n",
        "# convolutional layer architecture:\n",
        "n_conv = 256 # filters, a.k.a. kernels\n",
        "k_conv = 3 # kernel length\n",
        "\n",
        "\n",
        "optimizer = 'adam'\n",
        "\n",
        "output_dir = 'model_output/dense' # Store model's parameters after each epoch"
      ],
      "metadata": {
        "id": "5EeXJnz5qHxc"
      },
      "execution_count": 20,
      "outputs": []
    },
    {
      "cell_type": "code",
      "source": [
        "X = df['message'].values\n",
        "y = df['class'].values\n",
        "\n",
        "print(X)\n",
        "print(y)\n",
        "\n",
        "\n",
        "label = LabelEncoder()\n",
        "y=label.fit_transform(y)\n",
        "\n",
        "X_train, X_test, y_train, y_test = train_test_split(X,y, test_size = 0.3, random_state=42, shuffle = True)"
      ],
      "metadata": {
        "id": "nX_5xjp-oGiT",
        "colab": {
          "base_uri": "https://localhost:8080/"
        },
        "outputId": "1593e121-308b-4497-d001-c38274540155"
      },
      "execution_count": 21,
      "outputs": [
        {
          "output_type": "stream",
          "name": "stdout",
          "text": [
            "['Go until jurong point, crazy.. Available only in bugis n great world la e buffet... Cine there got amore wat...'\n",
            " 'Ok lar... Joking wif u oni...'\n",
            " \"Free entry in 2 a wkly comp to win FA Cup final tkts 21st May 2005. Text FA to 87121 to receive entry question(std txt rate)T&C's apply 08452810075over18's\"\n",
            " ...\n",
            " 'Hi babe its me thanks for coming even though it didnt go that well!i just wanted my bed! Hope to see you soon love and kisses xxx'\n",
            " 'So gd got free ice cream... I oso wan...'\n",
            " 'Pls give her prometazine syrup. 5mls then  &lt;#&gt; mins later feed.']\n",
            "['ham' 'ham' 'spam' ... 'ham' 'ham' 'ham']\n"
          ]
        }
      ]
    },
    {
      "cell_type": "code",
      "source": [
        "t = Tokenizer()\n",
        "t.fit_on_texts(X_train)\n",
        "\n",
        "# integer encode the documents\n",
        "encoded_train = t.texts_to_sequences(X_train)\n",
        "encoded_test = t.texts_to_sequences(X_test)\n",
        "print(encoded_train[0:2])"
      ],
      "metadata": {
        "colab": {
          "base_uri": "https://localhost:8080/"
        },
        "id": "RqIboFLn_CHk",
        "outputId": "0f100154-2ea5-4145-8234-79c2d17b1d95"
      },
      "execution_count": 22,
      "outputs": [
        {
          "output_type": "stream",
          "name": "stdout",
          "text": [
            "[[48, 30, 248, 75, 19], [222, 47, 21, 108, 625, 1529, 2292, 1800, 1, 316, 8, 1801]]\n"
          ]
        }
      ]
    },
    {
      "cell_type": "markdown",
      "source": [
        "number of label_value_counts() of the data set to show the distribution of labels."
      ],
      "metadata": {
        "id": "UdJp81GUtUGX"
      }
    },
    {
      "cell_type": "code",
      "source": [
        "Y_label.value_counts().plot(kind='barh')"
      ],
      "metadata": {
        "colab": {
          "base_uri": "https://localhost:8080/",
          "height": 282
        },
        "id": "KBpDi0PSrzsB",
        "outputId": "ef4092e6-a5c0-4655-e203-e3087a2d9498"
      },
      "execution_count": 23,
      "outputs": [
        {
          "output_type": "execute_result",
          "data": {
            "text/plain": [
              "<matplotlib.axes._subplots.AxesSubplot at 0x7fe504cc9040>"
            ]
          },
          "metadata": {},
          "execution_count": 23
        },
        {
          "output_type": "display_data",
          "data": {
            "text/plain": [
              "<Figure size 432x288 with 1 Axes>"
            ],
            "image/png": "[encoded data removed]"
          },
          "metadata": {
            "needs_background": "light"
          }
        }
      ]
    },
    {
      "cell_type": "markdown",
      "source": [
        "Preprocess Data"
      ],
      "metadata": {
        "id": "_yrZux9f1V0P"
      }
    },
    {
      "cell_type": "code",
      "source": [
        "padded_train = pad_sequences(encoded_train, maxlen = max_mssg_length,\n",
        "                        padding = 'post', truncating = trunc_type, value = 0)\n",
        "\n",
        "padded_test = pad_sequences(encoded_test, maxlen = max_mssg_length,\n",
        "                        padding = 'post', truncating = trunc_type, value = 0)\n",
        "print(padded_train)"
      ],
      "metadata": {
        "colab": {
          "base_uri": "https://localhost:8080/"
        },
        "id": "4yk7xLqA5LPk",
        "outputId": "fc40b276-7a7f-454c-a6dc-30b3fc5ed999"
      },
      "execution_count": 24,
      "outputs": [
        {
          "output_type": "stream",
          "name": "stdout",
          "text": [
            "[[  48   30  248 ...    0    0    0]\n",
            " [ 222   47   21 ...    0    0    0]\n",
            " [ 720   13  985 ...    0    0    0]\n",
            " ...\n",
            " [7333   30 7334 ...    0    0    0]\n",
            " [ 714 1773 1182 ...    0    0    0]\n",
            " [   8  162   19 ...    0    0    0]]\n"
          ]
        }
      ]
    },
    {
      "cell_type": "markdown",
      "source": [
        "Bi-LSTM Model"
      ],
      "metadata": {
        "id": "e02zSKh5onHM"
      }
    },
    {
      "cell_type": "code",
      "source": [
        "#new imports\n",
        "from keras.layers import Bidirectional"
      ],
      "metadata": {
        "id": "yv82YN5Uo9fI"
      },
      "execution_count": 25,
      "outputs": []
    },
    {
      "cell_type": "markdown",
      "source": [
        "Hyperparameters for Bi-LSTM"
      ],
      "metadata": {
        "id": "XuOS2omppQ0_"
      }
    },
    {
      "cell_type": "code",
      "source": [
        "ouput_dir = 'model_output/biLSTM'\n",
        "epochs = 6\n",
        "batch_size = 128\n",
        "\n",
        "n_dim = 64\n",
        "n_unique_words = 10000\n",
        "max_mssg_length = 200 \n",
        "pad_type = trunc_type = 'pre'\n",
        "\n",
        "#LSTM layer arch:\n",
        "n_lstm = 256\n",
        "drop_lstm = 0.2"
      ],
      "metadata": {
        "id": "LRXgC61lpV8h"
      },
      "execution_count": 26,
      "outputs": []
    },
    {
      "cell_type": "code",
      "source": [
        "padded_train = pad_sequences(encoded_train, maxlen = max_mssg_length,\n",
        "                        padding = pad_type, truncating = trunc_type, value = 0)\n",
        "\n",
        "padded_test = pad_sequences(encoded_test, maxlen = max_mssg_length,\n",
        "                        padding = pad_type, truncating = trunc_type, value = 0)\n",
        "print(padded_train)"
      ],
      "metadata": {
        "colab": {
          "base_uri": "https://localhost:8080/"
        },
        "id": "iEiTu8-gquL0",
        "outputId": "08827df9-f8e8-4485-88dc-b42dd0df907d"
      },
      "execution_count": 27,
      "outputs": [
        {
          "output_type": "stream",
          "name": "stdout",
          "text": [
            "[[   0    0    0 ...  248   75   19]\n",
            " [   0    0    0 ...  316    8 1801]\n",
            " [   0    0    0 ... 2293  560  987]\n",
            " ...\n",
            " [   0    0    0 ...  254   30 7335]\n",
            " [   0    0    0 ... 1182    1  231]\n",
            " [   0    0    0 ...    8  279  174]]\n"
          ]
        }
      ]
    },
    {
      "cell_type": "markdown",
      "source": [
        "DNN architecture "
      ],
      "metadata": {
        "id": "nGg2VvzlrPSS"
      }
    },
    {
      "cell_type": "code",
      "source": [
        "modelBI_LSTM = Sequential()\n",
        "\n",
        "#1st hidden layer \n",
        "modelBI_LSTM.add(Embedding(n_unique_words, n_dim, input_length = max_mssg_length))\n",
        "modelBI_LSTM.add(SpatialDropout1D(drop_embed))\n",
        "\n",
        "#2nd hidden layer: \n",
        "modelBI_LSTM.add(LSTM(n_lstm, dropout=drop_lstm))\n",
        "\n",
        "#Output layer\n",
        "modelBI_LSTM.add(Dense(1, activation='sigmoid')) \n",
        "\n",
        "#LSTM layer parameters double due to both reading directions\n",
        "modelBI_LSTM.summary()"
      ],
      "metadata": {
        "colab": {
          "base_uri": "https://localhost:8080/"
        },
        "id": "fzr_06USrQvt",
        "outputId": "c82a5ab5-cbf1-4fa1-8384-d4d0d53bcd5d"
      },
      "execution_count": 28,
      "outputs": [
        {
          "output_type": "stream",
          "name": "stdout",
          "text": [
            "Model: \"sequential\"\n",
            "_________________________________________________________________\n",
            " Layer (type)                Output Shape              Param #   \n",
            "=================================================================\n",
            " embedding (Embedding)       (None, 200, 64)           640000    \n",
            "                                                                 \n",
            " spatial_dropout1d (SpatialD  (None, 200, 64)          0         \n",
            " ropout1D)                                                       \n",
            "                                                                 \n",
            " lstm (LSTM)                 (None, 256)               328704    \n",
            "                                                                 \n",
            " dense (Dense)               (None, 1)                 257       \n",
            "                                                                 \n",
            "=================================================================\n",
            "Total params: 968,961\n",
            "Trainable params: 968,961\n",
            "Non-trainable params: 0\n",
            "_________________________________________________________________\n"
          ]
        }
      ]
    },
    {
      "cell_type": "markdown",
      "source": [
        "Configer bi-LSTM model"
      ],
      "metadata": {
        "id": "PuJ6sAxmsEmg"
      }
    },
    {
      "cell_type": "code",
      "source": [
        "modelBI_LSTM.compile(loss ='binary_crossentropy', optimizer = 'adam', metrics=['accuracy'])\n",
        "\n",
        "#allow to save our model param after each epoch during training \n",
        "modelcheckpoint = ModelCheckpoint(filepath=output_dir+\n",
        "                                  \"/weights.{epoch:02d}.hdf5\")\n",
        "\n",
        "#if the output_dir directory doesn't already exist, we use the makedirs() metho to make it \n",
        "if not os.path.exists(output_dir):\n",
        "  os.makedirs(output_dir)"
      ],
      "metadata": {
        "id": "LZmFIiYXsIJF"
      },
      "execution_count": 29,
      "outputs": []
    },
    {
      "cell_type": "markdown",
      "source": [
        "Train bi-LSTM model"
      ],
      "metadata": {
        "id": "MKa2lZvAsh5C"
      }
    },
    {
      "cell_type": "code",
      "source": [
        "history = modelBI_LSTM.fit(x=padded_train,y = y_train,\n",
        "          batch_size=batch_size, epochs=epochs, verbose=1,\n",
        "          validation_data=(padded_test,y_test),\n",
        "          callbacks=[modelcheckpoint])"
      ],
      "metadata": {
        "colab": {
          "base_uri": "https://localhost:8080/"
        },
        "id": "c9sxq9-4sj35",
        "outputId": "37f0f208-60f2-4b4a-c958-0601b45f1a81"
      },
      "execution_count": 30,
      "outputs": [
        {
          "output_type": "stream",
          "name": "stdout",
          "text": [
            "Epoch 1/6\n",
            "30/30 [==============================] - 8s 49ms/step - loss: 0.3377 - accuracy: 0.8755 - val_loss: 0.1352 - val_accuracy: 0.9673\n",
            "Epoch 2/6\n",
            "30/30 [==============================] - 1s 31ms/step - loss: 0.0608 - accuracy: 0.9857 - val_loss: 0.0883 - val_accuracy: 0.9784\n",
            "Epoch 3/6\n",
            "30/30 [==============================] - 1s 30ms/step - loss: 0.0369 - accuracy: 0.9897 - val_loss: 0.0772 - val_accuracy: 0.9747\n",
            "Epoch 4/6\n",
            "30/30 [==============================] - 1s 31ms/step - loss: 0.0214 - accuracy: 0.9942 - val_loss: 0.0593 - val_accuracy: 0.9852\n",
            "Epoch 5/6\n",
            "30/30 [==============================] - 1s 31ms/step - loss: 0.0100 - accuracy: 0.9971 - val_loss: 0.0520 - val_accuracy: 0.9846\n",
            "Epoch 6/6\n",
            "30/30 [==============================] - 1s 31ms/step - loss: 0.0047 - accuracy: 0.9989 - val_loss: 0.0641 - val_accuracy: 0.9864\n"
          ]
        }
      ]
    },
    {
      "cell_type": "code",
      "source": [
        "loss_train = history.history['accuracy']\n",
        "loss_val = history.history['val_accuracy']\n",
        "epochs = range(1,7)\n",
        "plt.plot(epochs, loss_train, 'b', label = 'Training accuracy')\n",
        "plt.plot(epochs, loss_val, 'g', label = 'validation accuracy')\n",
        "plt.title('Training and validation accuracy')\n",
        "plt.xlabel('Epochs')\n",
        "plt.ylabel('Accuracy')\n",
        "plt.legend()\n",
        "plt.show()"
      ],
      "metadata": {
        "colab": {
          "base_uri": "https://localhost:8080/",
          "height": 295
        },
        "id": "PoMXbMJetC_I",
        "outputId": "7b6100a5-7532-43b1-d00b-3dc8901ff1e5"
      },
      "execution_count": 31,
      "outputs": [
        {
          "output_type": "display_data",
          "data": {
            "text/plain": [
              "<Figure size 432x288 with 1 Axes>"
            ],
            "image/png": "[encoded data removed]"
          },
          "metadata": {
            "needs_background": "light"
          }
        }
      ]
    },
    {
      "cell_type": "code",
      "source": [
        "loss_train = history.history['loss']\n",
        "loss_val = history.history['val_loss']\n",
        "epochs = range(1,7)\n",
        "plt.plot(epochs, loss_train, 'b', label = 'Training loss')\n",
        "plt.plot(epochs, loss_val, 'g', label = 'validation loss')\n",
        "plt.title('Training and validation loss')\n",
        "plt.xlabel('Epochs')\n",
        "plt.ylabel('Loss/Error')\n",
        "plt.legend()\n",
        "plt.show()"
      ],
      "metadata": {
        "colab": {
          "base_uri": "https://localhost:8080/",
          "height": 295
        },
        "id": "7Spwn1GOtDwB",
        "outputId": "bb4a1775-d213-4b94-d4ae-0f6ef5d81de1"
      },
      "execution_count": 32,
      "outputs": [
        {
          "output_type": "display_data",
          "data": {
            "text/plain": [
              "<Figure size 432x288 with 1 Axes>"
            ],
            "image/png": "[encoded data removed]"
          },
          "metadata": {
            "needs_background": "light"
          }
        }
      ]
    },
    {
      "cell_type": "markdown",
      "source": [
        "Evaluate and ROC-AUC"
      ],
      "metadata": {
        "id": "EArFoCyete8N"
      }
    },
    {
      "cell_type": "code",
      "source": [
        "modelBI_LSTM.load_weights(output_dir+\"/weights.06.hdf5\")\n",
        "y_hat = modelBI_LSTM.predict(padded_test)"
      ],
      "metadata": {
        "colab": {
          "base_uri": "https://localhost:8080/"
        },
        "id": "qGLCFvzNtiCw",
        "outputId": "922b379a-e09c-4355-955b-8862da14c2f4"
      },
      "execution_count": 33,
      "outputs": [
        {
          "output_type": "stream",
          "name": "stdout",
          "text": [
            "51/51 [==============================] - 1s 9ms/step\n"
          ]
        }
      ]
    },
    {
      "cell_type": "code",
      "source": [
        "plt.hist(y_hat)\n",
        "_ = plt.axvline(x=0.5, color='orange')"
      ],
      "metadata": {
        "colab": {
          "base_uri": "https://localhost:8080/",
          "height": 265
        },
        "id": "eHBv0A2rt_EG",
        "outputId": "922150f7-b455-43cc-b189-9344d8b948a7"
      },
      "execution_count": 34,
      "outputs": [
        {
          "output_type": "display_data",
          "data": {
            "text/plain": [
              "<Figure size 432x288 with 1 Axes>"
            ],
            "image/png": "[encoded data removed]"
          },
          "metadata": {
            "needs_background": "light"
          }
        }
      ]
    },
    {
      "cell_type": "code",
      "source": [
        "\"{:0.2f}\".format(roc_auc_score(y_test,y_hat)*100.0)"
      ],
      "metadata": {
        "colab": {
          "base_uri": "https://localhost:8080/",
          "height": 35
        },
        "id": "vcTYHAJ0uObG",
        "outputId": "2aa43cf2-e8bb-4e36-a318-539d4607e046"
      },
      "execution_count": 35,
      "outputs": [
        {
          "output_type": "execute_result",
          "data": {
            "text/plain": [
              "'99.06'"
            ],
            "application/vnd.google.colaboratory.intrinsic+json": {
              "type": "string"
            }
          },
          "metadata": {},
          "execution_count": 35
        }
      ]
    },
    {
      "cell_type": "code",
      "source": [
        "fpr , tpr , thresholds = roc_curve (y_test , y_hat)\n",
        "plt.plot(fpr,tpr) \n",
        "plt.axis([0,1,0,1]) \n",
        "plt.title('False Positive Rate vs True Positive Rate ROC-AUC')\n",
        "plt.xlabel('False Positive Rate') \n",
        "plt.ylabel('True Positive Rate') \n",
        "plt.show()"
      ],
      "metadata": {
        "colab": {
          "base_uri": "https://localhost:8080/",
          "height": 295
        },
        "id": "TkzC3m46ukox",
        "outputId": "27094faf-b0e3-4322-8d6a-e27b06c02d07"
      },
      "execution_count": 36,
      "outputs": [
        {
          "output_type": "display_data",
          "data": {
            "text/plain": [
              "<Figure size 432x288 with 1 Axes>"
            ],
            "image/png": "[encoded data removed]"
          },
          "metadata": {
            "needs_background": "light"
          }
        }
      ]
    },
    {
      "cell_type": "markdown",
      "source": [
        "*Stacked* Bi-LSTM"
      ],
      "metadata": {
        "id": "d-oz_B-currZ"
      }
    },
    {
      "cell_type": "markdown",
      "source": [
        "hpyerparameters for stacked bi-lstm"
      ],
      "metadata": {
        "id": "mSITKLt2A4dC"
      }
    },
    {
      "cell_type": "code",
      "source": [
        "output_dir = 'model_output/stackedLSTM'\n",
        "\n",
        "epochs = 4\n",
        "batch_size = 128\n",
        "\n",
        "n_dim = 64\n",
        "n_unique_words = 10000\n",
        "max_mssg_length = 200 \n",
        "pad_type = trunc_type = 'pre'\n",
        "drop_embed = 0.2\n",
        "\n",
        "#LSTM layer arch:\n",
        "n_lstm_1 = 64 #lower\n",
        "n_lstm_2 = 64 \n",
        "drop_lstm = 0.2"
      ],
      "metadata": {
        "id": "MvZhj598A_tO"
      },
      "execution_count": 37,
      "outputs": []
    },
    {
      "cell_type": "markdown",
      "source": [
        "Load and Preprocess"
      ],
      "metadata": {
        "id": "l7l_-1ZvBfIB"
      }
    },
    {
      "cell_type": "code",
      "source": [
        "padded_train = pad_sequences(encoded_train, maxlen = max_mssg_length,\n",
        "                        padding = pad_type, truncating = trunc_type, value = 0)\n",
        "\n",
        "padded_test = pad_sequences(encoded_test, maxlen = max_mssg_length,\n",
        "                        padding = pad_type, truncating = trunc_type, value = 0)\n",
        "print(padded_train)"
      ],
      "metadata": {
        "colab": {
          "base_uri": "https://localhost:8080/"
        },
        "id": "n5vDuV5-BhHF",
        "outputId": "fb431fab-b8dc-4583-d288-b766073dab91"
      },
      "execution_count": 38,
      "outputs": [
        {
          "output_type": "stream",
          "name": "stdout",
          "text": [
            "[[   0    0    0 ...  248   75   19]\n",
            " [   0    0    0 ...  316    8 1801]\n",
            " [   0    0    0 ... 2293  560  987]\n",
            " ...\n",
            " [   0    0    0 ...  254   30 7335]\n",
            " [   0    0    0 ... 1182    1  231]\n",
            " [   0    0    0 ...    8  279  174]]\n"
          ]
        }
      ]
    },
    {
      "cell_type": "markdown",
      "source": [
        "stacked bi-lstsm model NN"
      ],
      "metadata": {
        "id": "9O2L7A4-Bx5Y"
      }
    },
    {
      "cell_type": "code",
      "source": [
        "modelStackedBI_LSTM = Sequential()\n",
        "modelStackedBI_LSTM.add(Embedding(n_unique_words, n_dim, input_length = max_mssg_length))\n",
        "modelStackedBI_LSTM.add(SpatialDropout1D(drop_embed))\n",
        "modelStackedBI_LSTM.add(Bidirectional(LSTM(n_lstm_1, dropout=drop_lstm,\n",
        "                                           return_sequences=True)))\n",
        "modelStackedBI_LSTM.add(Bidirectional(LSTM(n_lstm_2, dropout=drop_lstm)))\n",
        "modelStackedBI_LSTM.add(Dense(1, activation='sigmoid'))\n",
        "\n",
        "modelStackedBI_LSTM.summary()"
      ],
      "metadata": {
        "colab": {
          "base_uri": "https://localhost:8080/"
        },
        "id": "Yc-DlHvqB4sY",
        "outputId": "27374fd9-9bf0-42bd-915b-f30ccc2be151"
      },
      "execution_count": 39,
      "outputs": [
        {
          "output_type": "stream",
          "name": "stdout",
          "text": [
            "Model: \"sequential_1\"\n",
            "_________________________________________________________________\n",
            " Layer (type)                Output Shape              Param #   \n",
            "=================================================================\n",
            " embedding_1 (Embedding)     (None, 200, 64)           640000    \n",
            "                                                                 \n",
            " spatial_dropout1d_1 (Spatia  (None, 200, 64)          0         \n",
            " lDropout1D)                                                     \n",
            "                                                                 \n",
            " bidirectional (Bidirectiona  (None, 200, 128)         66048     \n",
            " l)                                                              \n",
            "                                                                 \n",
            " bidirectional_1 (Bidirectio  (None, 128)              98816     \n",
            " nal)                                                            \n",
            "                                                                 \n",
            " dense_1 (Dense)             (None, 1)                 129       \n",
            "                                                                 \n",
            "=================================================================\n",
            "Total params: 804,993\n",
            "Trainable params: 804,993\n",
            "Non-trainable params: 0\n",
            "_________________________________________________________________\n"
          ]
        }
      ]
    },
    {
      "cell_type": "markdown",
      "source": [
        "Configure stacked bi_lstm model"
      ],
      "metadata": {
        "id": "GN8lFBgsDPgx"
      }
    },
    {
      "cell_type": "code",
      "source": [
        "modelStackedBI_LSTM.compile(loss='binary_crossentropy', optimizer='adam', metrics=['accuracy'])\n",
        "\n",
        "#allow to save our model param after each epoch during training \n",
        "modelcheckpoint = ModelCheckpoint(filepath=output_dir+\n",
        "                                  \"/weights.{epoch:02d}.hdf5\")\n",
        "\n",
        "#if the output_dir directory doesn't already exist, we use the makedirs() metho to make it \n",
        "if not os.path.exists(output_dir):\n",
        "  os.makedirs(output_dir)"
      ],
      "metadata": {
        "id": "tLK18etPC__u"
      },
      "execution_count": 40,
      "outputs": []
    },
    {
      "cell_type": "markdown",
      "source": [
        "Train stacked bi_lstm model"
      ],
      "metadata": {
        "id": "wOadZyHHDajJ"
      }
    },
    {
      "cell_type": "code",
      "source": [
        "history = modelStackedBI_LSTM.fit(x=padded_train,y = y_train,\n",
        "          batch_size=batch_size, epochs=epochs, verbose=1,\n",
        "          validation_data=(padded_test,y_test),\n",
        "          callbacks=[modelcheckpoint])"
      ],
      "metadata": {
        "colab": {
          "base_uri": "https://localhost:8080/"
        },
        "id": "UO52FUoeDdjz",
        "outputId": "679e7e35-325c-4a14-95ed-bf6aa01c62e3"
      },
      "execution_count": 41,
      "outputs": [
        {
          "output_type": "stream",
          "name": "stdout",
          "text": [
            "Epoch 1/4\n",
            "30/30 [==============================] - 9s 98ms/step - loss: 0.4045 - accuracy: 0.8520 - val_loss: 0.2267 - val_accuracy: 0.8662\n",
            "Epoch 2/4\n",
            "30/30 [==============================] - 1s 49ms/step - loss: 0.1065 - accuracy: 0.9704 - val_loss: 0.0697 - val_accuracy: 0.9834\n",
            "Epoch 3/4\n",
            "30/30 [==============================] - 1s 49ms/step - loss: 0.0277 - accuracy: 0.9947 - val_loss: 0.0625 - val_accuracy: 0.9858\n",
            "Epoch 4/4\n",
            "30/30 [==============================] - 1s 50ms/step - loss: 0.0148 - accuracy: 0.9974 - val_loss: 0.0588 - val_accuracy: 0.9877\n"
          ]
        }
      ]
    },
    {
      "cell_type": "markdown",
      "source": [
        "Evaluate"
      ],
      "metadata": {
        "id": "0vbvmw68Dplg"
      }
    },
    {
      "cell_type": "code",
      "source": [
        "loss_train = history.history['accuracy']\n",
        "loss_val = history.history['val_accuracy']\n",
        "epochs = range(1,5)\n",
        "plt.plot(epochs, loss_train, 'b', label = 'Training accuracy')\n",
        "plt.plot(epochs, loss_val, 'g', label = 'validation accuracy')\n",
        "plt.title('Training and validation accuracy')\n",
        "plt.xlabel('Epochs')\n",
        "plt.ylabel('Accuracy')\n",
        "plt.legend()\n",
        "plt.show()"
      ],
      "metadata": {
        "colab": {
          "base_uri": "https://localhost:8080/",
          "height": 295
        },
        "id": "gXTj0d5bDu32",
        "outputId": "87f8b71f-223b-4f29-c659-d657fc485979"
      },
      "execution_count": 42,
      "outputs": [
        {
          "output_type": "display_data",
          "data": {
            "text/plain": [
              "<Figure size 432x288 with 1 Axes>"
            ],
            "image/png": "[encoded data removed]"
          },
          "metadata": {
            "needs_background": "light"
          }
        }
      ]
    },
    {
      "cell_type": "code",
      "source": [
        "loss_train = history.history['loss']\n",
        "loss_val = history.history['val_loss']\n",
        "epochs = range(1,5)\n",
        "plt.plot(epochs, loss_train, 'b', label = 'Training loss')\n",
        "plt.plot(epochs, loss_val, 'g', label = 'validation loss')\n",
        "plt.title('Training and validation loss')\n",
        "plt.xlabel('Epochs')\n",
        "plt.ylabel('Loss/Error')\n",
        "plt.legend()\n",
        "plt.show()"
      ],
      "metadata": {
        "colab": {
          "base_uri": "https://localhost:8080/",
          "height": 295
        },
        "id": "oG2ZOl49D6Ez",
        "outputId": "1cc94120-c602-43b8-e401-c905c91cc527"
      },
      "execution_count": 43,
      "outputs": [
        {
          "output_type": "display_data",
          "data": {
            "text/plain": [
              "<Figure size 432x288 with 1 Axes>"
            ],
            "image/png": "[encoded data removed]"
          },
          "metadata": {
            "needs_background": "light"
          }
        }
      ]
    },
    {
      "cell_type": "markdown",
      "source": [
        "Metrics for stacked bi_lstm model"
      ],
      "metadata": {
        "id": "vpGztSgoEB_J"
      }
    },
    {
      "cell_type": "code",
      "source": [
        "modelStackedBI_LSTM.load_weights(output_dir+\"/weights.03.hdf5\")\n",
        "y_hat = modelStackedBI_LSTM.predict(padded_test)"
      ],
      "metadata": {
        "colab": {
          "base_uri": "https://localhost:8080/"
        },
        "id": "zZ4oBBVdEExw",
        "outputId": "eedaa76e-0c43-437d-a710-f2ddede3a44d"
      },
      "execution_count": 44,
      "outputs": [
        {
          "output_type": "stream",
          "name": "stdout",
          "text": [
            "51/51 [==============================] - 2s 15ms/step\n"
          ]
        }
      ]
    },
    {
      "cell_type": "code",
      "source": [
        "plt.hist(y_hat)\n",
        "_ = plt.axvline(x=0.5, color='orange')"
      ],
      "metadata": {
        "colab": {
          "base_uri": "https://localhost:8080/",
          "height": 265
        },
        "id": "bHqgM7gOEfXB",
        "outputId": "f0b91b8b-5c32-4d3f-cba4-cbdf2fa2293d"
      },
      "execution_count": 45,
      "outputs": [
        {
          "output_type": "display_data",
          "data": {
            "text/plain": [
              "<Figure size 432x288 with 1 Axes>"
            ],
            "image/png": "[encoded data removed]"
          },
          "metadata": {
            "needs_background": "light"
          }
        }
      ]
    },
    {
      "cell_type": "code",
      "source": [
        "\"{:0.2f}\".format(roc_auc_score(y_test,y_hat)*100.0)"
      ],
      "metadata": {
        "colab": {
          "base_uri": "https://localhost:8080/",
          "height": 35
        },
        "id": "7qBo5qsDEhG8",
        "outputId": "170d61fa-5c32-4d5d-ebe5-1f0eaa1bc6c1"
      },
      "execution_count": 46,
      "outputs": [
        {
          "output_type": "execute_result",
          "data": {
            "text/plain": [
              "'98.65'"
            ],
            "application/vnd.google.colaboratory.intrinsic+json": {
              "type": "string"
            }
          },
          "metadata": {},
          "execution_count": 46
        }
      ]
    },
    {
      "cell_type": "code",
      "source": [
        "fpr , tpr , thresholds = roc_curve (y_test , y_hat)\n",
        "plt.plot(fpr,tpr) \n",
        "plt.axis([0,1,0,1]) \n",
        "plt.title('False Positive Rate vs True Positive Rate ROC-AUC')\n",
        "plt.xlabel('False Positive Rate') \n",
        "plt.ylabel('True Positive Rate') \n",
        "plt.show()"
      ],
      "metadata": {
        "colab": {
          "base_uri": "https://localhost:8080/",
          "height": 295
        },
        "id": "IjIYpCfsEov9",
        "outputId": "3749cfa6-2506-47f3-8b34-1a04dc237086"
      },
      "execution_count": 47,
      "outputs": [
        {
          "output_type": "display_data",
          "data": {
            "text/plain": [
              "<Figure size 432x288 with 1 Axes>"
            ],
            "image/png": "[encoded data removed]"
          },
          "metadata": {
            "needs_background": "light"
          }
        }
      ]
    },
    {
      "cell_type": "markdown",
      "source": [
        "GRU model"
      ],
      "metadata": {
        "id": "l74KhCDKErFF"
      }
    },
    {
      "cell_type": "markdown",
      "source": [
        "load dependency for GRU model"
      ],
      "metadata": {
        "id": "aIjWcKPcGavT"
      }
    },
    {
      "cell_type": "code",
      "source": [
        "from keras.layers import GRU"
      ],
      "metadata": {
        "id": "xmmNoiSWEwU4"
      },
      "execution_count": 48,
      "outputs": []
    },
    {
      "cell_type": "markdown",
      "source": [
        "Hyperparameters for GRU"
      ],
      "metadata": {
        "id": "0Jkmu-gTGsJQ"
      }
    },
    {
      "cell_type": "code",
      "source": [
        "output_dir = 'model_output/gru'\n",
        "\n",
        "epochs = 4\n",
        "batch_size = 128\n",
        "\n",
        "n_dim = 64\n",
        "n_unique_words = 10000\n",
        "max_mssg_length = 100\n",
        "pad_type = trunc_type = 'pre'\n",
        "drop_embed = 0.2\n",
        "\n",
        "#GRU layer architecture: \n",
        "n_gru = 256\n",
        "drop_gru = 0.2"
      ],
      "metadata": {
        "id": "rwx6Zl9YGuTP"
      },
      "execution_count": 49,
      "outputs": []
    },
    {
      "cell_type": "markdown",
      "source": [
        "preprocess data for GRU Model"
      ],
      "metadata": {
        "id": "CMw5Is53HPEj"
      }
    },
    {
      "cell_type": "code",
      "source": [
        "padded_train = pad_sequences(encoded_train, maxlen = max_mssg_length,\n",
        "                        padding = pad_type, truncating = trunc_type, value = 0)\n",
        "\n",
        "padded_test = pad_sequences(encoded_test, maxlen = max_mssg_length,\n",
        "                        padding = pad_type, truncating = trunc_type, value = 0)\n",
        "print(padded_train)"
      ],
      "metadata": {
        "colab": {
          "base_uri": "https://localhost:8080/"
        },
        "id": "AslB41y0HR2H",
        "outputId": "50e4c96d-6a05-4e7d-838f-4fe3ec7fc573"
      },
      "execution_count": 50,
      "outputs": [
        {
          "output_type": "stream",
          "name": "stdout",
          "text": [
            "[[   0    0    0 ...  248   75   19]\n",
            " [   0    0    0 ...  316    8 1801]\n",
            " [   0    0    0 ... 2293  560  987]\n",
            " ...\n",
            " [   0    0    0 ...  254   30 7335]\n",
            " [   0    0    0 ... 1182    1  231]\n",
            " [   0    0    0 ...    8  279  174]]\n"
          ]
        }
      ]
    },
    {
      "cell_type": "markdown",
      "source": [
        "GRU neural network architecture"
      ],
      "metadata": {
        "id": "8xGUs80SHyfg"
      }
    },
    {
      "cell_type": "code",
      "source": [
        "modelGRU = Sequential()\n",
        "modelGRU.add(Embedding(n_unique_words, n_dim, input_length = max_mssg_length))\n",
        "modelGRU.add(SpatialDropout1D(drop_embed))\n",
        "modelGRU.add(GRU(n_gru, dropout=drop_gru))\n",
        "#model.add(Dense(n_dense, activation='relu'))\n",
        "#model.add(Dropout(dropout))\n",
        "modelGRU.add(Dense(1, activation='sigmoid'))\n",
        "\n",
        "modelGRU.summary()"
      ],
      "metadata": {
        "colab": {
          "base_uri": "https://localhost:8080/"
        },
        "id": "1-IiaMu-IOuN",
        "outputId": "cf6c1559-0347-498d-ec69-fa60f950d3c4"
      },
      "execution_count": 51,
      "outputs": [
        {
          "output_type": "stream",
          "name": "stdout",
          "text": [
            "Model: \"sequential_2\"\n",
            "_________________________________________________________________\n",
            " Layer (type)                Output Shape              Param #   \n",
            "=================================================================\n",
            " embedding_2 (Embedding)     (None, 100, 64)           640000    \n",
            "                                                                 \n",
            " spatial_dropout1d_2 (Spatia  (None, 100, 64)          0         \n",
            " lDropout1D)                                                     \n",
            "                                                                 \n",
            " gru (GRU)                   (None, 256)               247296    \n",
            "                                                                 \n",
            " dense_2 (Dense)             (None, 1)                 257       \n",
            "                                                                 \n",
            "=================================================================\n",
            "Total params: 887,553\n",
            "Trainable params: 887,553\n",
            "Non-trainable params: 0\n",
            "_________________________________________________________________\n"
          ]
        }
      ]
    },
    {
      "cell_type": "markdown",
      "source": [
        "Configure GRU model"
      ],
      "metadata": {
        "id": "Zp_GtYhTJgbv"
      }
    },
    {
      "cell_type": "code",
      "source": [
        "modelGRU.compile(loss='binary_crossentropy', optimizer='adam', metrics=['accuracy'])\n",
        "\n",
        "#allow to save our model param after each epoch during training \n",
        "modelcheckpoint = ModelCheckpoint(filepath=output_dir+\n",
        "                                  \"/weights.{epoch:02d}.hdf5\")\n",
        "\n",
        "#if the output_dir directory doesn't already exist, we use the makedirs() metho to make it \n",
        "if not os.path.exists(output_dir):\n",
        "  os.makedirs(output_dir)"
      ],
      "metadata": {
        "id": "9lh4AddRJirk"
      },
      "execution_count": 52,
      "outputs": []
    },
    {
      "cell_type": "markdown",
      "source": [
        "Train GRU model"
      ],
      "metadata": {
        "id": "HdNME0ZoJnWc"
      }
    },
    {
      "cell_type": "code",
      "source": [
        "history = modelGRU.fit(x=padded_train,y = y_train,\n",
        "          batch_size=batch_size, epochs=epochs, verbose=1,\n",
        "          validation_data=(padded_test,y_test),\n",
        "          callbacks=[modelcheckpoint])"
      ],
      "metadata": {
        "colab": {
          "base_uri": "https://localhost:8080/"
        },
        "id": "j87TJPusJqCa",
        "outputId": "70cc5f57-11a8-4426-ffdf-675a56a500f0"
      },
      "execution_count": 53,
      "outputs": [
        {
          "output_type": "stream",
          "name": "stdout",
          "text": [
            "Epoch 1/4\n",
            "30/30 [==============================] - 3s 34ms/step - loss: 0.4470 - accuracy: 0.8570 - val_loss: 0.2697 - val_accuracy: 0.8662\n",
            "Epoch 2/4\n",
            "30/30 [==============================] - 1s 20ms/step - loss: 0.1516 - accuracy: 0.9239 - val_loss: 0.0771 - val_accuracy: 0.9784\n",
            "Epoch 3/4\n",
            "30/30 [==============================] - 1s 19ms/step - loss: 0.0341 - accuracy: 0.9894 - val_loss: 0.0801 - val_accuracy: 0.9778\n",
            "Epoch 4/4\n",
            "30/30 [==============================] - 1s 19ms/step - loss: 0.0176 - accuracy: 0.9947 - val_loss: 0.0517 - val_accuracy: 0.9858\n"
          ]
        }
      ]
    },
    {
      "cell_type": "markdown",
      "source": [
        "Evaluate"
      ],
      "metadata": {
        "id": "zG-K4UijKAa4"
      }
    },
    {
      "cell_type": "code",
      "source": [
        "loss_train = history.history['accuracy']\n",
        "loss_val = history.history['val_accuracy']\n",
        "epochs = range(1,5)\n",
        "plt.plot(epochs, loss_train, 'b', label = 'Training accuracy')\n",
        "plt.plot(epochs, loss_val, 'g', label = 'validation accuracy')\n",
        "plt.title('Training and validation accuracy')\n",
        "plt.xlabel('Epochs')\n",
        "plt.ylabel('Accuracy')\n",
        "plt.legend()\n",
        "plt.show()"
      ],
      "metadata": {
        "colab": {
          "base_uri": "https://localhost:8080/",
          "height": 295
        },
        "id": "JET6EGl5KLEJ",
        "outputId": "318f6151-7371-4c71-f766-4fd0fc9a9cdc"
      },
      "execution_count": 54,
      "outputs": [
        {
          "output_type": "display_data",
          "data": {
            "text/plain": [
              "<Figure size 432x288 with 1 Axes>"
            ],
            "image/png": "[encoded data removed]"
          },
          "metadata": {
            "needs_background": "light"
          }
        }
      ]
    },
    {
      "cell_type": "code",
      "source": [
        "loss_train = history.history['loss']\n",
        "loss_val = history.history['val_loss']\n",
        "epochs = range(1,5)\n",
        "plt.plot(epochs, loss_train, 'b', label = 'Training loss')\n",
        "plt.plot(epochs, loss_val, 'g', label = 'validation loss')\n",
        "plt.title('Training and validation loss')\n",
        "plt.xlabel('Epochs')\n",
        "plt.ylabel('Loss/Error')\n",
        "plt.legend()\n",
        "plt.show()"
      ],
      "metadata": {
        "colab": {
          "base_uri": "https://localhost:8080/",
          "height": 295
        },
        "id": "RLOl3wKvKhhK",
        "outputId": "8872386d-a7f6-46e5-fa4d-e7e13fffe320"
      },
      "execution_count": 55,
      "outputs": [
        {
          "output_type": "display_data",
          "data": {
            "text/plain": [
              "<Figure size 432x288 with 1 Axes>"
            ],
            "image/png": "[encoded data removed]"
          },
          "metadata": {
            "needs_background": "light"
          }
        }
      ]
    },
    {
      "cell_type": "code",
      "source": [
        "modelGRU.load_weights(output_dir+\"/weights.04.hdf5\")\n",
        "y_hat = modelGRU.predict(padded_test)"
      ],
      "metadata": {
        "colab": {
          "base_uri": "https://localhost:8080/"
        },
        "id": "oL49Tj0RKuPg",
        "outputId": "fe7183b0-0087-49fc-c49f-b2563521024b"
      },
      "execution_count": 56,
      "outputs": [
        {
          "output_type": "stream",
          "name": "stdout",
          "text": [
            "51/51 [==============================] - 1s 5ms/step\n"
          ]
        }
      ]
    },
    {
      "cell_type": "code",
      "source": [
        "plt.hist(y_hat)\n",
        "_ = plt.axvline(x=0.5, color='orange')"
      ],
      "metadata": {
        "colab": {
          "base_uri": "https://localhost:8080/",
          "height": 265
        },
        "id": "Xf6RVcFbLIhq",
        "outputId": "e70bfe60-13ab-4c8c-c142-b0eca4991984"
      },
      "execution_count": 57,
      "outputs": [
        {
          "output_type": "display_data",
          "data": {
            "text/plain": [
              "<Figure size 432x288 with 1 Axes>"
            ],
            "image/png": "[encoded data removed]"
          },
          "metadata": {
            "needs_background": "light"
          }
        }
      ]
    },
    {
      "cell_type": "code",
      "source": [
        "\"{:0.2f}\".format(roc_auc_score(y_test,y_hat)*100.0)"
      ],
      "metadata": {
        "colab": {
          "base_uri": "https://localhost:8080/",
          "height": 35
        },
        "id": "0pRETj38Ln4L",
        "outputId": "b88acb76-0bfc-4f11-f54b-63d6ecad0b46"
      },
      "execution_count": 58,
      "outputs": [
        {
          "output_type": "execute_result",
          "data": {
            "text/plain": [
              "'98.81'"
            ],
            "application/vnd.google.colaboratory.intrinsic+json": {
              "type": "string"
            }
          },
          "metadata": {},
          "execution_count": 58
        }
      ]
    },
    {
      "cell_type": "code",
      "source": [
        "fpr , tpr , thresholds = roc_curve (y_test , y_hat)\n",
        "plt.plot(fpr,tpr) \n",
        "plt.axis([0,1,0,1]) \n",
        "plt.title('False Positive Rate vs True Positive Rate ROC-AUC')\n",
        "plt.xlabel('False Positive Rate') \n",
        "plt.ylabel('True Positive Rate') \n",
        "plt.show()"
      ],
      "metadata": {
        "colab": {
          "base_uri": "https://localhost:8080/",
          "height": 295
        },
        "id": "wvX-PrGmLqMR",
        "outputId": "c80e2cec-f389-4fb8-d84d-a7087ee615a5"
      },
      "execution_count": 59,
      "outputs": [
        {
          "output_type": "display_data",
          "data": {
            "text/plain": [
              "<Figure size 432x288 with 1 Axes>"
            ],
            "image/png": "[encoded data removed]"
          },
          "metadata": {
            "needs_background": "light"
          }
        }
      ]
    },
    {
      "cell_type": "markdown",
      "source": [
        "Multi ConvNet\n",
        "(Non-Sequential)"
      ],
      "metadata": {
        "id": "ACh4BwJIN0p6"
      }
    },
    {
      "cell_type": "code",
      "source": [
        "from keras.models import Model \n",
        "from keras.layers import Input, concatenate\n",
        "from keras.layers import GlobalMaxPooling1D"
      ],
      "metadata": {
        "id": "0BP1lji0Od1l"
      },
      "execution_count": 60,
      "outputs": []
    },
    {
      "cell_type": "markdown",
      "source": [
        "hyperparameters"
      ],
      "metadata": {
        "id": "FfCLnZSLO0p1"
      }
    },
    {
      "cell_type": "code",
      "source": [
        "output_dir = 'model_output/multiconv'\n",
        "epochs = 4\n",
        "batch_size = 128\n",
        "\n",
        "n_dim = 64\n",
        "n_unique_words = 5000\n",
        "max_mssg_length = 400\n",
        "pad_type = trunc_type = 'pre'\n",
        "drop_embed = 0.2\n",
        "\n",
        "#convolutional layer architecture:\n",
        "n_conv_1 = n_conv_2 = n_conv_3 = 256\n",
        "k_conv_1 = 3\n",
        "k_conv_2 = 2\n",
        "k_conv_3 = 4\n"
      ],
      "metadata": {
        "id": "O_yWt0WVO2q_"
      },
      "execution_count": 61,
      "outputs": []
    },
    {
      "cell_type": "markdown",
      "source": [
        "Preprocess data "
      ],
      "metadata": {
        "id": "kCcTRsAhP6Ph"
      }
    },
    {
      "cell_type": "code",
      "source": [
        "padded_train = pad_sequences(encoded_train, maxlen = max_mssg_length,\n",
        "                        padding = pad_type, truncating = trunc_type, value = 0)\n",
        "\n",
        "padded_test = pad_sequences(encoded_test, maxlen = max_mssg_length,\n",
        "                        padding = pad_type, truncating = trunc_type, value = 0)\n",
        "print(padded_train)"
      ],
      "metadata": {
        "colab": {
          "base_uri": "https://localhost:8080/"
        },
        "id": "aM_WHDNrP8D9",
        "outputId": "51d7fe46-aa30-4699-9a89-f5f93d4877e4"
      },
      "execution_count": 62,
      "outputs": [
        {
          "output_type": "stream",
          "name": "stdout",
          "text": [
            "[[   0    0    0 ...  248   75   19]\n",
            " [   0    0    0 ...  316    8 1801]\n",
            " [   0    0    0 ... 2293  560  987]\n",
            " ...\n",
            " [   0    0    0 ...  254   30 7335]\n",
            " [   0    0    0 ... 1182    1  231]\n",
            " [   0    0    0 ...    8  279  174]]\n"
          ]
        }
      ]
    },
    {
      "cell_type": "markdown",
      "source": [
        "model NN architecture"
      ],
      "metadata": {
        "id": "Sfv9sICuQgOf"
      }
    },
    {
      "cell_type": "code",
      "source": [
        "input_layer = Input(shape=(max_mssg_length,), dtype='int16', name='input')\n",
        "\n",
        "embedding_layer = Embedding(n_unique_words, n_dim, name='embedding')(input_layer)\n",
        "drop_embed_layer = SpatialDropout1D(drop_embed, name='drop_embed')(embedding_layer)\n",
        "\n",
        "conv_1 = Conv1D(n_conv_1, k_conv_1, activation='relu', name='conv_1')(drop_embed_layer)\n",
        "maxp_1 = GlobalMaxPooling1D(name='maxp_1')(conv_1)\n",
        "\n",
        "conv_2 = Conv1D(n_conv_2, k_conv_2, activation='relu', name='conv_2')(drop_embed_layer)\n",
        "maxp_2 = GlobalMaxPooling1D(name='maxp_2')(conv_2)\n",
        "\n",
        "conv_3 = Conv1D(n_conv_3, k_conv_3, activation='relu', name='conv_3')(drop_embed_layer)\n",
        "maxp_3 = GlobalMaxPooling1D(name='maxp_3')(conv_3)\n",
        "\n",
        "concat = concatenate([maxp_1, maxp_2, maxp_3])\n",
        "\n",
        "dense_layer = Dense(n_dense, activation='relu', name='dense')(concat)\n",
        "drop_dense_layer = Dropout(dropout, name='drop_dense')(dense_layer)\n",
        "dense_2 = Dense(int(n_dense/4), activation='relu', name='dense_2')(drop_dense_layer)\n",
        "dropout_2 = Dropout(dropout, name='drop_dense_2')(dense_2)\n",
        "\n",
        "predictions = Dense(1, activation='sigmoid', name='output')(dropout_2)\n",
        "\n",
        "NonSeqModel = Model(input_layer, predictions)\n",
        "NonSeqModel.summary()"
      ],
      "metadata": {
        "colab": {
          "base_uri": "https://localhost:8080/"
        },
        "id": "dewCEsTrQjEE",
        "outputId": "af625474-b6aa-4b6d-b063-262269d90c71"
      },
      "execution_count": 63,
      "outputs": [
        {
          "output_type": "stream",
          "name": "stdout",
          "text": [
            "Model: \"model\"\n",
            "__________________________________________________________________________________________________\n",
            " Layer (type)                   Output Shape         Param #     Connected to                     \n",
            "==================================================================================================\n",
            " input (InputLayer)             [(None, 400)]        0           []                               \n",
            "                                                                                                  \n",
            " embedding (Embedding)          (None, 400, 64)      320000      ['input[0][0]']                  \n",
            "                                                                                                  \n",
            " drop_embed (SpatialDropout1D)  (None, 400, 64)      0           ['embedding[0][0]']              \n",
            "                                                                                                  \n",
            " conv_1 (Conv1D)                (None, 398, 256)     49408       ['drop_embed[0][0]']             \n",
            "                                                                                                  \n",
            " conv_2 (Conv1D)                (None, 399, 256)     33024       ['drop_embed[0][0]']             \n",
            "                                                                                                  \n",
            " conv_3 (Conv1D)                (None, 397, 256)     65792       ['drop_embed[0][0]']             \n",
            "                                                                                                  \n",
            " maxp_1 (GlobalMaxPooling1D)    (None, 256)          0           ['conv_1[0][0]']                 \n",
            "                                                                                                  \n",
            " maxp_2 (GlobalMaxPooling1D)    (None, 256)          0           ['conv_2[0][0]']                 \n",
            "                                                                                                  \n",
            " maxp_3 (GlobalMaxPooling1D)    (None, 256)          0           ['conv_3[0][0]']                 \n",
            "                                                                                                  \n",
            " concatenate (Concatenate)      (None, 768)          0           ['maxp_1[0][0]',                 \n",
            "                                                                  'maxp_2[0][0]',                 \n",
            "                                                                  'maxp_3[0][0]']                 \n",
            "                                                                                                  \n",
            " dense (Dense)                  (None, 64)           49216       ['concatenate[0][0]']            \n",
            "                                                                                                  \n",
            " drop_dense (Dropout)           (None, 64)           0           ['dense[0][0]']                  \n",
            "                                                                                                  \n",
            " dense_2 (Dense)                (None, 16)           1040        ['drop_dense[0][0]']             \n",
            "                                                                                                  \n",
            " drop_dense_2 (Dropout)         (None, 16)           0           ['dense_2[0][0]']                \n",
            "                                                                                                  \n",
            " output (Dense)                 (None, 1)            17          ['drop_dense_2[0][0]']           \n",
            "                                                                                                  \n",
            "==================================================================================================\n",
            "Total params: 518,497\n",
            "Trainable params: 518,497\n",
            "Non-trainable params: 0\n",
            "__________________________________________________________________________________________________\n"
          ]
        }
      ]
    },
    {
      "cell_type": "markdown",
      "source": [
        "Configure model"
      ],
      "metadata": {
        "id": "RBBekQPXU3jo"
      }
    },
    {
      "cell_type": "code",
      "source": [
        "NonSeqModel.compile(loss='binary_crossentropy', optimizer='adam', metrics=['accuracy'])\n",
        "\n",
        "#allow to save our model param after each epoch during training \n",
        "modelcheckpoint = ModelCheckpoint(filepath=output_dir+\n",
        "                                  \"/weights.{epoch:02d}.hdf5\")\n",
        "\n",
        "#if the output_dir directory doesn't already exist, we use the makedirs() metho to make it \n",
        "if not os.path.exists(output_dir):\n",
        "  os.makedirs(output_dir)"
      ],
      "metadata": {
        "id": "WB4Y1TNYU6oo"
      },
      "execution_count": 64,
      "outputs": []
    },
    {
      "cell_type": "markdown",
      "source": [
        "Train Non sequential model"
      ],
      "metadata": {
        "id": "4POHqk_QVEiF"
      }
    },
    {
      "cell_type": "code",
      "source": [
        "history = NonSeqModel.fit(x=padded_train,y = y_train,\n",
        "          batch_size=batch_size, epochs=epochs, verbose=1,\n",
        "          validation_data=(padded_test,y_test),\n",
        "          callbacks=[modelcheckpoint])"
      ],
      "metadata": {
        "colab": {
          "base_uri": "https://localhost:8080/"
        },
        "id": "OIQj0P6YVHrC",
        "outputId": "e8cbdf9c-3b45-4fe9-c560-28d077eb90d6"
      },
      "execution_count": 65,
      "outputs": [
        {
          "output_type": "stream",
          "name": "stdout",
          "text": [
            "Epoch 1/4\n",
            "30/30 [==============================] - 6s 60ms/step - loss: 0.4992 - accuracy: 0.8224 - val_loss: 0.3792 - val_accuracy: 0.8662\n",
            "Epoch 2/4\n",
            "30/30 [==============================] - 1s 39ms/step - loss: 0.3907 - accuracy: 0.8615 - val_loss: 0.2641 - val_accuracy: 0.8662\n",
            "Epoch 3/4\n",
            "30/30 [==============================] - 1s 39ms/step - loss: 0.2383 - accuracy: 0.8610 - val_loss: 0.1495 - val_accuracy: 0.8662\n",
            "Epoch 4/4\n",
            "30/30 [==============================] - 1s 40ms/step - loss: 0.1502 - accuracy: 0.8617 - val_loss: 0.1310 - val_accuracy: 0.8662\n"
          ]
        }
      ]
    },
    {
      "cell_type": "code",
      "source": [
        "loss_train = history.history['accuracy']\n",
        "loss_val = history.history['val_accuracy']\n",
        "epochs = range(1,5)\n",
        "plt.plot(epochs, loss_train, 'b', label = 'Training accuracy')\n",
        "plt.plot(epochs, loss_val, 'g', label = 'validation accuracy')\n",
        "plt.title('Training and validation accuracy')\n",
        "plt.xlabel('Epochs')\n",
        "plt.ylabel('Accuracy')\n",
        "plt.legend()\n",
        "plt.show()"
      ],
      "metadata": {
        "colab": {
          "base_uri": "https://localhost:8080/",
          "height": 295
        },
        "id": "NZDOVl2gVdOn",
        "outputId": "b689c203-135e-4ca6-a764-1ef1a493cfcd"
      },
      "execution_count": 66,
      "outputs": [
        {
          "output_type": "display_data",
          "data": {
            "text/plain": [
              "<Figure size 432x288 with 1 Axes>"
            ],
            "image/png": "[encoded data removed]"
          },
          "metadata": {
            "needs_background": "light"
          }
        }
      ]
    },
    {
      "cell_type": "code",
      "source": [
        "loss_train = history.history['loss']\n",
        "loss_val = history.history['val_loss']\n",
        "epochs = range(1,5)\n",
        "plt.plot(epochs, loss_train, 'b', label = 'Training loss')\n",
        "plt.plot(epochs, loss_val, 'g', label = 'validation loss')\n",
        "plt.title('Training and validation loss')\n",
        "plt.xlabel('Epochs')\n",
        "plt.ylabel('Loss/Error')\n",
        "plt.legend()\n",
        "plt.show()"
      ],
      "metadata": {
        "colab": {
          "base_uri": "https://localhost:8080/",
          "height": 295
        },
        "id": "96tbNf2WVmax",
        "outputId": "d75eef51-434c-4b23-ba10-fb1890c48a05"
      },
      "execution_count": 67,
      "outputs": [
        {
          "output_type": "display_data",
          "data": {
            "text/plain": [
              "<Figure size 432x288 with 1 Axes>"
            ],
            "image/png": "[encoded data removed]"
          },
          "metadata": {
            "needs_background": "light"
          }
        }
      ]
    },
    {
      "cell_type": "markdown",
      "source": [
        "Evaluate"
      ],
      "metadata": {
        "id": "pFphE8KAVskp"
      }
    },
    {
      "cell_type": "code",
      "source": [
        "NonSeqModel.load_weights(output_dir+\"/weights.04.hdf5\")\n",
        "y_hat = NonSeqModel.predict(padded_test)"
      ],
      "metadata": {
        "colab": {
          "base_uri": "https://localhost:8080/"
        },
        "id": "m9Wek-d-VtpJ",
        "outputId": "14de012c-0c98-4e72-b5b6-f7019c39f596"
      },
      "execution_count": 68,
      "outputs": [
        {
          "output_type": "stream",
          "name": "stdout",
          "text": [
            "51/51 [==============================] - 0s 4ms/step\n"
          ]
        }
      ]
    },
    {
      "cell_type": "code",
      "source": [
        "plt.hist(y_hat)\n",
        "_ = plt.axvline(x=0.5, color='orange')"
      ],
      "metadata": {
        "colab": {
          "base_uri": "https://localhost:8080/",
          "height": 265
        },
        "id": "rlXvpJXnWDBG",
        "outputId": "84492891-36e2-4373-9358-1d7478ff6174"
      },
      "execution_count": 69,
      "outputs": [
        {
          "output_type": "display_data",
          "data": {
            "text/plain": [
              "<Figure size 432x288 with 1 Axes>"
            ],
            "image/png": "[encoded data removed]"
          },
          "metadata": {
            "needs_background": "light"
          }
        }
      ]
    },
    {
      "cell_type": "code",
      "source": [
        "\"{:0.2f}\".format(roc_auc_score(y_test,y_hat)*100.0)"
      ],
      "metadata": {
        "colab": {
          "base_uri": "https://localhost:8080/",
          "height": 35
        },
        "id": "kbiOpoi_WEms",
        "outputId": "07102351-1378-406e-8c9c-640d81b169aa"
      },
      "execution_count": 70,
      "outputs": [
        {
          "output_type": "execute_result",
          "data": {
            "text/plain": [
              "'99.42'"
            ],
            "application/vnd.google.colaboratory.intrinsic+json": {
              "type": "string"
            }
          },
          "metadata": {},
          "execution_count": 70
        }
      ]
    },
    {
      "cell_type": "code",
      "source": [
        "fpr , tpr , thresholds = roc_curve (y_test , y_hat)\n",
        "plt.plot(fpr,tpr) \n",
        "plt.axis([0,1,0,1]) \n",
        "plt.title('False Positive Rate vs True Positive Rate ROC-AUC')\n",
        "plt.xlabel('False Positive Rate') \n",
        "plt.ylabel('True Positive Rate') \n",
        "plt.show()"
      ],
      "metadata": {
        "colab": {
          "base_uri": "https://localhost:8080/",
          "height": 295
        },
        "id": "TeKrGLh5WJlb",
        "outputId": "09f9ee4f-b13e-4b75-dc3f-c090a23e83b2"
      },
      "execution_count": 71,
      "outputs": [
        {
          "output_type": "display_data",
          "data": {
            "text/plain": [
              "<Figure size 432x288 with 1 Axes>"
            ],
            "image/png": "[encoded data removed]"
          },
          "metadata": {
            "needs_background": "light"
          }
        }
      ]
    },
    {
      "cell_type": "markdown",
      "source": [
        "ConvLSTM Model "
      ],
      "metadata": {
        "id": "kOSkcrNwXssk"
      }
    },
    {
      "cell_type": "markdown",
      "source": [
        "Hyperparameters for CNN-LTSM model"
      ],
      "metadata": {
        "id": "O_Vo_XlXx0CQ"
      }
    },
    {
      "cell_type": "code",
      "source": [
        "from keras.layers import Activation, MaxPooling1D\n",
        "from keras.preprocessing import sequence\n"
      ],
      "metadata": {
        "id": "tuczwNCy8pUJ"
      },
      "execution_count": 72,
      "outputs": []
    },
    {
      "cell_type": "code",
      "source": [
        "output_dir = 'model_output/CNN-LTSM'\n",
        "max_features = 20000\n",
        "maxlen = 100\n",
        "embedding_size = 128\n",
        "# Convolution\n",
        "kernel_size = 5\n",
        "filters = 64\n",
        "pool_size = 4\n",
        "# LSTM\n",
        "lstm_output_size = 70\n",
        "# Training\n",
        "batch_size = 128\n",
        "epochs = 5"
      ],
      "metadata": {
        "id": "hgN_wsYWXwWQ"
      },
      "execution_count": 73,
      "outputs": []
    },
    {
      "cell_type": "markdown",
      "source": [
        "Load and Preprocess"
      ],
      "metadata": {
        "id": "JTKwk_8xzlAf"
      }
    },
    {
      "cell_type": "code",
      "source": [
        "padded_train = pad_sequences(encoded_train, maxlen = maxlen,\n",
        "                        padding = pad_type, truncating = trunc_type, value = 0)\n",
        "\n",
        "padded_test = pad_sequences(encoded_test, maxlen = maxlen,\n",
        "                        padding = pad_type, truncating = trunc_type, value = 0)\n",
        "print(padded_train)"
      ],
      "metadata": {
        "colab": {
          "base_uri": "https://localhost:8080/"
        },
        "id": "iDHvzwoZc9kP",
        "outputId": "2ba890e0-2612-4096-ecf0-50f27409eb13"
      },
      "execution_count": 74,
      "outputs": [
        {
          "output_type": "stream",
          "name": "stdout",
          "text": [
            "[[   0    0    0 ...  248   75   19]\n",
            " [   0    0    0 ...  316    8 1801]\n",
            " [   0    0    0 ... 2293  560  987]\n",
            " ...\n",
            " [   0    0    0 ...  254   30 7335]\n",
            " [   0    0    0 ... 1182    1  231]\n",
            " [   0    0    0 ...    8  279  174]]\n"
          ]
        }
      ]
    },
    {
      "cell_type": "markdown",
      "source": [
        "CNN-LSTSM Neural Net Arch:"
      ],
      "metadata": {
        "id": "xaRZC-mvzsjB"
      }
    },
    {
      "cell_type": "code",
      "source": [
        "model_CNN_LTSM = Sequential()\n",
        "model_CNN_LTSM.add(Embedding(max_features, embedding_size, input_length=maxlen))\n",
        "model_CNN_LTSM.add(Dropout(0.25))\n",
        "model_CNN_LTSM.add(Conv1D(filters,\n",
        "                 kernel_size,\n",
        "                 padding='valid',\n",
        "                 activation='relu',\n",
        "                 strides=1))\n",
        "model_CNN_LTSM.add(MaxPooling1D(pool_size=pool_size))\n",
        "model_CNN_LTSM.add(LSTM(lstm_output_size))\n",
        "model_CNN_LTSM.add(Dense(1))\n",
        "model_CNN_LTSM.add(Activation('sigmoid'))\n",
        "model_CNN_LTSM.summary()"
      ],
      "metadata": {
        "colab": {
          "base_uri": "https://localhost:8080/"
        },
        "id": "kIwxlgQLzwn5",
        "outputId": "b3aec262-7a01-4bbb-8f62-b34d0d7abb0f"
      },
      "execution_count": 75,
      "outputs": [
        {
          "output_type": "stream",
          "name": "stdout",
          "text": [
            "Model: \"sequential_3\"\n",
            "_________________________________________________________________\n",
            " Layer (type)                Output Shape              Param #   \n",
            "=================================================================\n",
            " embedding_3 (Embedding)     (None, 100, 128)          2560000   \n",
            "                                                                 \n",
            " dropout (Dropout)           (None, 100, 128)          0         \n",
            "                                                                 \n",
            " conv1d (Conv1D)             (None, 96, 64)            41024     \n",
            "                                                                 \n",
            " max_pooling1d (MaxPooling1D  (None, 24, 64)           0         \n",
            " )                                                               \n",
            "                                                                 \n",
            " lstm_3 (LSTM)               (None, 70)                37800     \n",
            "                                                                 \n",
            " dense_3 (Dense)             (None, 1)                 71        \n",
            "                                                                 \n",
            " activation (Activation)     (None, 1)                 0         \n",
            "                                                                 \n",
            "=================================================================\n",
            "Total params: 2,638,895\n",
            "Trainable params: 2,638,895\n",
            "Non-trainable params: 0\n",
            "_________________________________________________________________\n"
          ]
        }
      ]
    },
    {
      "cell_type": "code",
      "source": [
        "model_CNN_LTSM.compile(loss='binary_crossentropy', optimizer='adam', metrics=['accuracy'])\n",
        "\n",
        "#allow to save our model param after each epoch during training \n",
        "modelcheckpoint = ModelCheckpoint(filepath=output_dir+\n",
        "                                  \"/weights.{epoch:02d}.hdf5\")\n",
        "\n",
        "#if the output_dir directory doesn't already exist, we use the makedirs() metho to make it \n",
        "if not os.path.exists(output_dir):\n",
        "  os.makedirs(output_dir)"
      ],
      "metadata": {
        "id": "HfoLGOKU9Xpq"
      },
      "execution_count": 76,
      "outputs": []
    },
    {
      "cell_type": "code",
      "source": [
        "history = model_CNN_LTSM.fit(x=padded_train,y = y_train,\n",
        "          batch_size=batch_size, epochs=epochs, verbose=1,\n",
        "          validation_data=(padded_test,y_test),\n",
        "          callbacks=[modelcheckpoint])"
      ],
      "metadata": {
        "colab": {
          "base_uri": "https://localhost:8080/"
        },
        "id": "58O1wMZX9gEJ",
        "outputId": "f68077a7-d30d-4c8b-dc45-7b8447fa1f72"
      },
      "execution_count": 77,
      "outputs": [
        {
          "output_type": "stream",
          "name": "stdout",
          "text": [
            "Epoch 1/5\n",
            "30/30 [==============================] - 3s 41ms/step - loss: 0.3738 - accuracy: 0.8655 - val_loss: 0.2366 - val_accuracy: 0.8662\n",
            "Epoch 2/5\n",
            "30/30 [==============================] - 0s 12ms/step - loss: 0.1304 - accuracy: 0.9471 - val_loss: 0.0851 - val_accuracy: 0.9790\n",
            "Epoch 3/5\n",
            "30/30 [==============================] - 0s 12ms/step - loss: 0.0290 - accuracy: 0.9918 - val_loss: 0.0587 - val_accuracy: 0.9852\n",
            "Epoch 4/5\n",
            "30/30 [==============================] - 0s 14ms/step - loss: 0.0115 - accuracy: 0.9976 - val_loss: 0.0583 - val_accuracy: 0.9858\n",
            "Epoch 5/5\n",
            "30/30 [==============================] - 0s 12ms/step - loss: 0.0051 - accuracy: 0.9987 - val_loss: 0.0532 - val_accuracy: 0.9834\n"
          ]
        }
      ]
    },
    {
      "cell_type": "code",
      "source": [
        "loss_train = history.history['accuracy']\n",
        "loss_val = history.history['val_accuracy']\n",
        "epochs = range(1,6)\n",
        "plt.plot(epochs, loss_train, 'b', label = 'Training accuracy')\n",
        "plt.plot(epochs, loss_val, 'g', label = 'validation accuracy')\n",
        "plt.title('Training and validation accuracy')\n",
        "plt.xlabel('Epochs')\n",
        "plt.ylabel('Accuracy')\n",
        "plt.legend()\n",
        "plt.show()"
      ],
      "metadata": {
        "id": "9ejTJwTi9uwN",
        "colab": {
          "base_uri": "https://localhost:8080/",
          "height": 295
        },
        "outputId": "c7d12cc1-5313-44df-a829-ba6e8fb83d68"
      },
      "execution_count": 78,
      "outputs": [
        {
          "output_type": "display_data",
          "data": {
            "text/plain": [
              "<Figure size 432x288 with 1 Axes>"
            ],
            "image/png": "[encoded data removed]"
          },
          "metadata": {
            "needs_background": "light"
          }
        }
      ]
    },
    {
      "cell_type": "code",
      "source": [
        "loss_train = history.history['loss']\n",
        "loss_val = history.history['val_loss']\n",
        "epochs = range(1,6)\n",
        "plt.plot(epochs, loss_train, 'b', label = 'Training loss')\n",
        "plt.plot(epochs, loss_val, 'g', label = 'validation loss')\n",
        "plt.title('Training and validation loss')\n",
        "plt.xlabel('Epochs')\n",
        "plt.ylabel('Loss/Error')\n",
        "plt.legend()\n",
        "plt.show()"
      ],
      "metadata": {
        "id": "5HD2wO-591-M",
        "colab": {
          "base_uri": "https://localhost:8080/",
          "height": 295
        },
        "outputId": "c4a02915-2a1c-44ba-dcc8-81c21c55bacf"
      },
      "execution_count": 79,
      "outputs": [
        {
          "output_type": "display_data",
          "data": {
            "text/plain": [
              "<Figure size 432x288 with 1 Axes>"
            ],
            "image/png": "[encoded data removed]"
          },
          "metadata": {
            "needs_background": "light"
          }
        }
      ]
    },
    {
      "cell_type": "code",
      "source": [
        "model_CNN_LTSM.load_weights(output_dir+\"/weights.05.hdf5\")\n",
        "y_hat = model_CNN_LTSM.predict(padded_test)"
      ],
      "metadata": {
        "id": "r3AN_U11971J",
        "colab": {
          "base_uri": "https://localhost:8080/"
        },
        "outputId": "4140da21-81dc-49e3-ba3a-a0c49a469147"
      },
      "execution_count": 80,
      "outputs": [
        {
          "output_type": "stream",
          "name": "stdout",
          "text": [
            "51/51 [==============================] - 1s 4ms/step\n"
          ]
        }
      ]
    },
    {
      "cell_type": "code",
      "source": [
        "plt.hist(y_hat)\n",
        "_ = plt.axvline(x=0.5, color='orange')"
      ],
      "metadata": {
        "id": "Siuq1mOK-F2h",
        "colab": {
          "base_uri": "https://localhost:8080/",
          "height": 265
        },
        "outputId": "93f01a46-ab09-449a-b906-2534fa36f3ee"
      },
      "execution_count": 81,
      "outputs": [
        {
          "output_type": "display_data",
          "data": {
            "text/plain": [
              "<Figure size 432x288 with 1 Axes>"
            ],
            "image/png": "[encoded data removed]"
          },
          "metadata": {
            "needs_background": "light"
          }
        }
      ]
    },
    {
      "cell_type": "code",
      "source": [
        "\"{:0.2f}\".format(roc_auc_score(y_test,y_hat)*100.0)"
      ],
      "metadata": {
        "id": "pPQbV53m-NIv",
        "colab": {
          "base_uri": "https://localhost:8080/",
          "height": 35
        },
        "outputId": "82a244e7-fbdd-4d6b-bfb7-706e62a589d8"
      },
      "execution_count": 82,
      "outputs": [
        {
          "output_type": "execute_result",
          "data": {
            "text/plain": [
              "'98.80'"
            ],
            "application/vnd.google.colaboratory.intrinsic+json": {
              "type": "string"
            }
          },
          "metadata": {},
          "execution_count": 82
        }
      ]
    },
    {
      "cell_type": "code",
      "source": [
        "fpr , tpr , thresholds = roc_curve (y_test , y_hat)\n",
        "plt.plot(fpr,tpr) \n",
        "plt.axis([0,1,0,1]) \n",
        "plt.title('False Positive Rate vs True Positive Rate ROC-AUC')\n",
        "plt.xlabel('False Positive Rate') \n",
        "plt.ylabel('True Positive Rate') \n",
        "plt.show()"
      ],
      "metadata": {
        "id": "xNdJgDiw-Swd",
        "colab": {
          "base_uri": "https://localhost:8080/",
          "height": 295
        },
        "outputId": "437b75bd-d31c-4771-9486-c96d67de7528"
      },
      "execution_count": 83,
      "outputs": [
        {
          "output_type": "display_data",
          "data": {
            "text/plain": [
              "<Figure size 432x288 with 1 Axes>"
            ],
            "image/png": "[encoded data removed]"
          },
          "metadata": {
            "needs_background": "light"
          }
        }
      ]
    },
    {
      "cell_type": "markdown",
      "source": [
        "3.) Tune the model that performed best\n",
        "*For us that is the CNN-LSTM model\n",
        "*It has the 2nd highest ROC-AUC score of 98.82 and the reason this is still the best model is because the training validation graphs, and the training loss graphs indicate the best results of training the data of all the models, even though the Multi-ConvNet technically had a higher ROC-AUC score. "
      ],
      "metadata": {
        "id": "poA2F8ql_a1N"
      }
    },
    {
      "cell_type": "code",
      "source": [
        "output_dir = 'model_output/CNN-LTSM-TUNED'\n",
        "max_features = 20000\n",
        "maxlen = 100\n",
        "embedding_size = 128\n",
        "# Convolution\n",
        "kernel_size = 5\n",
        "filters = 256\n",
        "pool_size = 4\n",
        "# LSTM\n",
        "lstm_output_size = 256\n",
        "# Training\n",
        "batch_size = 128\n",
        "epochs = 20"
      ],
      "metadata": {
        "id": "lfaMa3PXBAC4"
      },
      "execution_count": 84,
      "outputs": []
    },
    {
      "cell_type": "code",
      "source": [
        "padded_train = pad_sequences(encoded_train, maxlen = maxlen,\n",
        "                        padding = pad_type, truncating = trunc_type, value = 0)\n",
        "\n",
        "padded_test = pad_sequences(encoded_test, maxlen = maxlen,\n",
        "                        padding = pad_type, truncating = trunc_type, value = 0)\n",
        "print(padded_train)"
      ],
      "metadata": {
        "id": "j2yQYn2-BTei",
        "colab": {
          "base_uri": "https://localhost:8080/"
        },
        "outputId": "5830ba5b-3862-44a0-da06-d2ae1fdcc00b"
      },
      "execution_count": 85,
      "outputs": [
        {
          "output_type": "stream",
          "name": "stdout",
          "text": [
            "[[   0    0    0 ...  248   75   19]\n",
            " [   0    0    0 ...  316    8 1801]\n",
            " [   0    0    0 ... 2293  560  987]\n",
            " ...\n",
            " [   0    0    0 ...  254   30 7335]\n",
            " [   0    0    0 ... 1182    1  231]\n",
            " [   0    0    0 ...    8  279  174]]\n"
          ]
        }
      ]
    },
    {
      "cell_type": "code",
      "source": [
        "model_CNN_LTSM_TUNED = Sequential()\n",
        "model_CNN_LTSM_TUNED.add(Embedding(max_features, embedding_size, input_length=maxlen))\n",
        "model_CNN_LTSM_TUNED.add(Dropout(0.25))\n",
        "model_CNN_LTSM_TUNED.add(Conv1D(filters,\n",
        "                 kernel_size,\n",
        "                 padding='same',\n",
        "                 activation='relu',\n",
        "                 strides=1))\n",
        "model_CNN_LTSM_TUNED.add(MaxPooling1D(pool_size=pool_size))\n",
        "model_CNN_LTSM_TUNED.add(LSTM(lstm_output_size))\n",
        "model_CNN_LTSM_TUNED.add(Dense(1))\n",
        "model_CNN_LTSM_TUNED.add(Activation('sigmoid'))\n",
        "model_CNN_LTSM_TUNED.summary()"
      ],
      "metadata": {
        "id": "FxXhuCAxBVDO",
        "colab": {
          "base_uri": "https://localhost:8080/"
        },
        "outputId": "80819c7a-b38a-401f-fbb3-73fef1be4e3a"
      },
      "execution_count": 86,
      "outputs": [
        {
          "output_type": "stream",
          "name": "stdout",
          "text": [
            "Model: \"sequential_4\"\n",
            "_________________________________________________________________\n",
            " Layer (type)                Output Shape              Param #   \n",
            "=================================================================\n",
            " embedding_4 (Embedding)     (None, 100, 128)          2560000   \n",
            "                                                                 \n",
            " dropout_1 (Dropout)         (None, 100, 128)          0         \n",
            "                                                                 \n",
            " conv1d_1 (Conv1D)           (None, 100, 256)          164096    \n",
            "                                                                 \n",
            " max_pooling1d_1 (MaxPooling  (None, 25, 256)          0         \n",
            " 1D)                                                             \n",
            "                                                                 \n",
            " lstm_4 (LSTM)               (None, 256)               525312    \n",
            "                                                                 \n",
            " dense_4 (Dense)             (None, 1)                 257       \n",
            "                                                                 \n",
            " activation_1 (Activation)   (None, 1)                 0         \n",
            "                                                                 \n",
            "=================================================================\n",
            "Total params: 3,249,665\n",
            "Trainable params: 3,249,665\n",
            "Non-trainable params: 0\n",
            "_________________________________________________________________\n"
          ]
        }
      ]
    },
    {
      "cell_type": "code",
      "source": [
        "model_CNN_LTSM_TUNED.compile(loss='binary_crossentropy', optimizer='adam', metrics=['accuracy'])\n",
        "\n",
        "#allow to save our model param after each epoch during training \n",
        "modelcheckpoint = ModelCheckpoint(filepath=output_dir+\n",
        "                                  \"/weights.{epoch:02d}.hdf5\")\n",
        "\n",
        "#if the output_dir directory doesn't already exist, we use the makedirs() metho to make it \n",
        "if not os.path.exists(output_dir):\n",
        "  os.makedirs(output_dir)"
      ],
      "metadata": {
        "id": "cNMAkiTNBuLW"
      },
      "execution_count": 87,
      "outputs": []
    },
    {
      "cell_type": "code",
      "source": [
        "history = model_CNN_LTSM_TUNED.fit(x=padded_train,y = y_train,\n",
        "          batch_size=batch_size, epochs=epochs, verbose=1,\n",
        "          validation_data=(padded_test,y_test),\n",
        "          callbacks=[modelcheckpoint])"
      ],
      "metadata": {
        "id": "-1NTT1a0CUsg",
        "colab": {
          "base_uri": "https://localhost:8080/"
        },
        "outputId": "316d5c9e-6705-4087-8816-94b033aade61"
      },
      "execution_count": 88,
      "outputs": [
        {
          "output_type": "stream",
          "name": "stdout",
          "text": [
            "Epoch 1/20\n",
            "30/30 [==============================] - 3s 36ms/step - loss: 0.2726 - accuracy: 0.8988 - val_loss: 0.0978 - val_accuracy: 0.9753\n",
            "Epoch 2/20\n",
            "30/30 [==============================] - 1s 18ms/step - loss: 0.0375 - accuracy: 0.9897 - val_loss: 0.0529 - val_accuracy: 0.9840\n",
            "Epoch 3/20\n",
            "30/30 [==============================] - 1s 17ms/step - loss: 0.0104 - accuracy: 0.9968 - val_loss: 0.0525 - val_accuracy: 0.9871\n",
            "Epoch 4/20\n",
            "30/30 [==============================] - 1s 18ms/step - loss: 0.0025 - accuracy: 0.9997 - val_loss: 0.0672 - val_accuracy: 0.9858\n",
            "Epoch 5/20\n",
            "30/30 [==============================] - 1s 18ms/step - loss: 0.0021 - accuracy: 0.9995 - val_loss: 0.0580 - val_accuracy: 0.9871\n",
            "Epoch 6/20\n",
            "30/30 [==============================] - 1s 18ms/step - loss: 0.0015 - accuracy: 0.9997 - val_loss: 0.0572 - val_accuracy: 0.9877\n",
            "Epoch 7/20\n",
            "30/30 [==============================] - 1s 18ms/step - loss: 7.5940e-04 - accuracy: 0.9997 - val_loss: 0.0626 - val_accuracy: 0.9889\n",
            "Epoch 8/20\n",
            "30/30 [==============================] - 1s 18ms/step - loss: 7.4520e-04 - accuracy: 0.9997 - val_loss: 0.0570 - val_accuracy: 0.9895\n",
            "Epoch 9/20\n",
            "30/30 [==============================] - 1s 17ms/step - loss: 3.0033e-04 - accuracy: 1.0000 - val_loss: 0.0660 - val_accuracy: 0.9889\n",
            "Epoch 10/20\n",
            "30/30 [==============================] - 1s 18ms/step - loss: 2.2696e-04 - accuracy: 1.0000 - val_loss: 0.0662 - val_accuracy: 0.9889\n",
            "Epoch 11/20\n",
            "30/30 [==============================] - 1s 18ms/step - loss: 7.3278e-05 - accuracy: 1.0000 - val_loss: 0.0683 - val_accuracy: 0.9889\n",
            "Epoch 12/20\n",
            "30/30 [==============================] - 1s 18ms/step - loss: 1.2431e-04 - accuracy: 1.0000 - val_loss: 0.0694 - val_accuracy: 0.9895\n",
            "Epoch 13/20\n",
            "30/30 [==============================] - 1s 18ms/step - loss: 7.9170e-05 - accuracy: 1.0000 - val_loss: 0.0685 - val_accuracy: 0.9895\n",
            "Epoch 14/20\n",
            "30/30 [==============================] - 1s 18ms/step - loss: 4.5691e-05 - accuracy: 1.0000 - val_loss: 0.0682 - val_accuracy: 0.9914\n",
            "Epoch 15/20\n",
            "30/30 [==============================] - 1s 18ms/step - loss: 2.3650e-05 - accuracy: 1.0000 - val_loss: 0.0694 - val_accuracy: 0.9908\n",
            "Epoch 16/20\n",
            "30/30 [==============================] - 1s 19ms/step - loss: 3.2590e-05 - accuracy: 1.0000 - val_loss: 0.0692 - val_accuracy: 0.9914\n",
            "Epoch 17/20\n",
            "30/30 [==============================] - 1s 32ms/step - loss: 2.5414e-05 - accuracy: 1.0000 - val_loss: 0.0702 - val_accuracy: 0.9914\n",
            "Epoch 18/20\n",
            "30/30 [==============================] - 1s 27ms/step - loss: 2.1219e-05 - accuracy: 1.0000 - val_loss: 0.0719 - val_accuracy: 0.9901\n",
            "Epoch 19/20\n",
            "30/30 [==============================] - 1s 23ms/step - loss: 1.4598e-05 - accuracy: 1.0000 - val_loss: 0.0726 - val_accuracy: 0.9901\n",
            "Epoch 20/20\n",
            "30/30 [==============================] - 1s 28ms/step - loss: 1.4165e-05 - accuracy: 1.0000 - val_loss: 0.0731 - val_accuracy: 0.9908\n"
          ]
        }
      ]
    },
    {
      "cell_type": "code",
      "source": [
        "loss_train = history.history['accuracy']\n",
        "loss_val = history.history['val_accuracy']\n",
        "epochs = range(1,21)\n",
        "plt.plot(epochs, loss_train, 'b', label = 'Training accuracy')\n",
        "plt.plot(epochs, loss_val, 'g', label = 'validation accuracy')\n",
        "plt.title('Training and validation accuracy')\n",
        "plt.xlabel('Epochs')\n",
        "plt.ylabel('Accuracy')\n",
        "plt.legend()\n",
        "plt.show()"
      ],
      "metadata": {
        "id": "Qn9jzlFgCbUK",
        "colab": {
          "base_uri": "https://localhost:8080/",
          "height": 295
        },
        "outputId": "9de58a69-2f94-4127-86c0-11409d022444"
      },
      "execution_count": 89,
      "outputs": [
        {
          "output_type": "display_data",
          "data": {
            "text/plain": [
              "<Figure size 432x288 with 1 Axes>"
            ],
            "image/png": "[encoded data removed]"
          },
          "metadata": {
            "needs_background": "light"
          }
        }
      ]
    },
    {
      "cell_type": "code",
      "source": [
        "loss_train = history.history['loss']\n",
        "loss_val = history.history['val_loss']\n",
        "epochs = range(1,21)\n",
        "plt.plot(epochs, loss_train, 'b', label = 'Training loss')\n",
        "plt.plot(epochs, loss_val, 'g', label = 'validation loss')\n",
        "plt.title('Training and validation loss')\n",
        "plt.xlabel('Epochs')\n",
        "plt.ylabel('Loss/Error')\n",
        "plt.legend()\n",
        "plt.show()"
      ],
      "metadata": {
        "id": "QMdLwUKACejq",
        "colab": {
          "base_uri": "https://localhost:8080/",
          "height": 295
        },
        "outputId": "5d967ae3-7039-4a4e-ac76-d0826bdf0ce9"
      },
      "execution_count": 90,
      "outputs": [
        {
          "output_type": "display_data",
          "data": {
            "text/plain": [
              "<Figure size 432x288 with 1 Axes>"
            ],
            "image/png": "[encoded data removed]"
          },
          "metadata": {
            "needs_background": "light"
          }
        }
      ]
    },
    {
      "cell_type": "code",
      "source": [
        "model_CNN_LTSM_TUNED.load_weights(output_dir+\"/weights.20.hdf5\")\n",
        "y_hat = model_CNN_LTSM_TUNED.predict(padded_test)"
      ],
      "metadata": {
        "id": "I7ktiKGmChE8",
        "colab": {
          "base_uri": "https://localhost:8080/"
        },
        "outputId": "bdcecf5f-fd18-4784-f327-55aa143b4e69"
      },
      "execution_count": 91,
      "outputs": [
        {
          "output_type": "stream",
          "name": "stdout",
          "text": [
            "51/51 [==============================] - 1s 4ms/step\n"
          ]
        }
      ]
    },
    {
      "cell_type": "code",
      "source": [
        "plt.hist(y_hat)\n",
        "_ = plt.axvline(x=0.5, color='orange')"
      ],
      "metadata": {
        "id": "UmOAxfyoCrZS",
        "colab": {
          "base_uri": "https://localhost:8080/",
          "height": 265
        },
        "outputId": "a7f10922-1c68-42c0-b763-a42c74fe951a"
      },
      "execution_count": 92,
      "outputs": [
        {
          "output_type": "display_data",
          "data": {
            "text/plain": [
              "<Figure size 432x288 with 1 Axes>"
            ],
            "image/png": "[encoded data removed]"
          },
          "metadata": {
            "needs_background": "light"
          }
        }
      ]
    },
    {
      "cell_type": "code",
      "source": [
        "\"{:0.2f}\".format(roc_auc_score(y_test,y_hat)*100.0)"
      ],
      "metadata": {
        "id": "jei6kXFXCsAm",
        "colab": {
          "base_uri": "https://localhost:8080/",
          "height": 35
        },
        "outputId": "c61a76b8-cf47-442d-a6a5-ca97cf9c70f7"
      },
      "execution_count": 93,
      "outputs": [
        {
          "output_type": "execute_result",
          "data": {
            "text/plain": [
              "'98.99'"
            ],
            "application/vnd.google.colaboratory.intrinsic+json": {
              "type": "string"
            }
          },
          "metadata": {},
          "execution_count": 93
        }
      ]
    },
    {
      "cell_type": "code",
      "source": [
        "fpr , tpr , thresholds = roc_curve (y_test , y_hat)\n",
        "plt.plot(fpr,tpr) \n",
        "plt.axis([0,1,0,1]) \n",
        "plt.title('False Positive Rate vs True Positive Rate ROC-AUC')\n",
        "plt.xlabel('False Positive Rate') \n",
        "plt.ylabel('True Positive Rate') \n",
        "plt.show()"
      ],
      "metadata": {
        "id": "2xLm4MClCvMR",
        "colab": {
          "base_uri": "https://localhost:8080/",
          "height": 295
        },
        "outputId": "82ac0a5a-3200-4c1c-ffe9-955c7713c8b1"
      },
      "execution_count": 94,
      "outputs": [
        {
          "output_type": "display_data",
          "data": {
            "text/plain": [
              "<Figure size 432x288 with 1 Axes>"
            ],
            "image/png": "[encoded data removed]"
          },
          "metadata": {
            "needs_background": "light"
          }
        }
      ]
    },
    {
      "cell_type": "markdown",
      "source": [
        "4.) Compare the all 9 models from this assignment and the last\n",
        "\n",
        "I found between all 9 models that we've created the CNN model performed the best while arguably the CNN-LSTM model was a close second. The multi Conv network model also had the highest ROC-AUC score however, the data was skewed. Tuning the epochs more accurately fit our models"
      ],
      "metadata": {
        "id": "0LSqelISeJ71"
      }
    }
  ]
}